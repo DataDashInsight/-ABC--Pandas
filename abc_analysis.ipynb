{
 "cells": [
  {
   "cell_type": "markdown",
   "id": "6baf1e61-7dca-4c53-9d60-501bd2eb0ab0",
   "metadata": {},
   "source": [
    "## 📊 Многомерный ABC-анализ продаж офисных товаров (Sample Superstore)"
   ]
  },
  {
   "cell_type": "markdown",
   "id": "87c46413-42c4-4443-9e17-9a52dc61b835",
   "metadata": {},
   "source": [
    "### 1. Введение"
   ]
  },
  {
   "cell_type": "markdown",
   "id": "c8690493-2deb-480b-8bd2-282e2d544fd2",
   "metadata": {},
   "source": [
    "В этом проекте проведён многомерный ABC-анализ по количеству и сумме продаж товаров из датасета Sample Superstore (США).  \n",
    "Цель — выявить ключевые товары, которые приносят наибольший вклад в продажи, и визуализировать результаты  \n",
    "для принятия управленческих решений."
   ]
  },
  {
   "cell_type": "markdown",
   "id": "708d437e-8e22-431f-b3a4-111d6f97f814",
   "metadata": {},
   "source": [
    "### 2. Импорт библиотек и загрузка данных"
   ]
  },
  {
   "cell_type": "code",
   "execution_count": 161,
   "id": "517a6bda-e433-4b43-84f6-1d53fc9b3212",
   "metadata": {},
   "outputs": [],
   "source": [
    "import pandas as pd\n",
    "import numpy as np\n",
    "import plotly.express as px\n",
    "from plotly.subplots import make_subplots\n",
    "import plotly.graph_objects as go\n",
    "pd.set_option('display.max_columns', 30)\n",
    "pd.set_option('display.float_format', '{:.3f}'.format)"
   ]
  },
  {
   "cell_type": "code",
   "execution_count": 3,
   "id": "26e8abea-18aa-465e-9c8f-f615ad79f450",
   "metadata": {},
   "outputs": [
    {
     "data": {
      "text/html": [
       "<div>\n",
       "<style scoped>\n",
       "    .dataframe tbody tr th:only-of-type {\n",
       "        vertical-align: middle;\n",
       "    }\n",
       "\n",
       "    .dataframe tbody tr th {\n",
       "        vertical-align: top;\n",
       "    }\n",
       "\n",
       "    .dataframe thead th {\n",
       "        text-align: right;\n",
       "    }\n",
       "</style>\n",
       "<table border=\"1\" class=\"dataframe\">\n",
       "  <thead>\n",
       "    <tr style=\"text-align: right;\">\n",
       "      <th></th>\n",
       "      <th>Category</th>\n",
       "      <th>City</th>\n",
       "      <th>Country/Region</th>\n",
       "      <th>Customer Name</th>\n",
       "      <th>Manufacturer</th>\n",
       "      <th>Order Date</th>\n",
       "      <th>Order ID</th>\n",
       "      <th>Postal Code</th>\n",
       "      <th>Product Name</th>\n",
       "      <th>Region</th>\n",
       "      <th>Segment</th>\n",
       "      <th>Ship Date</th>\n",
       "      <th>Ship Mode</th>\n",
       "      <th>State/Province</th>\n",
       "      <th>Sub-Category</th>\n",
       "      <th>Discount</th>\n",
       "      <th>Profit</th>\n",
       "      <th>Quantity</th>\n",
       "      <th>Sales</th>\n",
       "    </tr>\n",
       "  </thead>\n",
       "  <tbody>\n",
       "    <tr>\n",
       "      <th>0</th>\n",
       "      <td>Office Supplies</td>\n",
       "      <td>Houston</td>\n",
       "      <td>United States</td>\n",
       "      <td>Darren Powers</td>\n",
       "      <td>Message Book</td>\n",
       "      <td>03.01.2019</td>\n",
       "      <td>US-2019-103800</td>\n",
       "      <td>77095</td>\n",
       "      <td>Message Book, Wirebound, Four 5 1/2\" X 4\" Form...</td>\n",
       "      <td>Central</td>\n",
       "      <td>Consumer</td>\n",
       "      <td>07.01.2019</td>\n",
       "      <td>Standard Class</td>\n",
       "      <td>Texas</td>\n",
       "      <td>Paper</td>\n",
       "      <td>0.200</td>\n",
       "      <td>5.551</td>\n",
       "      <td>2</td>\n",
       "      <td>16.448</td>\n",
       "    </tr>\n",
       "    <tr>\n",
       "      <th>1</th>\n",
       "      <td>Office Supplies</td>\n",
       "      <td>Naperville</td>\n",
       "      <td>United States</td>\n",
       "      <td>Phillina Ober</td>\n",
       "      <td>GBC</td>\n",
       "      <td>04.01.2019</td>\n",
       "      <td>US-2019-112326</td>\n",
       "      <td>60540</td>\n",
       "      <td>GBC Standard Plastic Binding Systems Combs</td>\n",
       "      <td>Central</td>\n",
       "      <td>Home Office</td>\n",
       "      <td>08.01.2019</td>\n",
       "      <td>Standard Class</td>\n",
       "      <td>Illinois</td>\n",
       "      <td>Binders</td>\n",
       "      <td>0.800</td>\n",
       "      <td>-5.487</td>\n",
       "      <td>2</td>\n",
       "      <td>3.540</td>\n",
       "    </tr>\n",
       "    <tr>\n",
       "      <th>2</th>\n",
       "      <td>Office Supplies</td>\n",
       "      <td>Naperville</td>\n",
       "      <td>United States</td>\n",
       "      <td>Phillina Ober</td>\n",
       "      <td>Avery</td>\n",
       "      <td>04.01.2019</td>\n",
       "      <td>US-2019-112326</td>\n",
       "      <td>60540</td>\n",
       "      <td>Avery 508</td>\n",
       "      <td>Central</td>\n",
       "      <td>Home Office</td>\n",
       "      <td>08.01.2019</td>\n",
       "      <td>Standard Class</td>\n",
       "      <td>Illinois</td>\n",
       "      <td>Labels</td>\n",
       "      <td>0.200</td>\n",
       "      <td>4.272</td>\n",
       "      <td>3</td>\n",
       "      <td>11.784</td>\n",
       "    </tr>\n",
       "  </tbody>\n",
       "</table>\n",
       "</div>"
      ],
      "text/plain": [
       "          Category        City Country/Region  Customer Name  Manufacturer  \\\n",
       "0  Office Supplies     Houston  United States  Darren Powers  Message Book   \n",
       "1  Office Supplies  Naperville  United States  Phillina Ober           GBC   \n",
       "2  Office Supplies  Naperville  United States  Phillina Ober         Avery   \n",
       "\n",
       "   Order Date        Order ID Postal Code  \\\n",
       "0  03.01.2019  US-2019-103800       77095   \n",
       "1  04.01.2019  US-2019-112326       60540   \n",
       "2  04.01.2019  US-2019-112326       60540   \n",
       "\n",
       "                                        Product Name   Region      Segment  \\\n",
       "0  Message Book, Wirebound, Four 5 1/2\" X 4\" Form...  Central     Consumer   \n",
       "1         GBC Standard Plastic Binding Systems Combs  Central  Home Office   \n",
       "2                                          Avery 508  Central  Home Office   \n",
       "\n",
       "    Ship Date       Ship Mode State/Province Sub-Category  Discount  Profit  \\\n",
       "0  07.01.2019  Standard Class          Texas        Paper     0.200   5.551   \n",
       "1  08.01.2019  Standard Class       Illinois      Binders     0.800  -5.487   \n",
       "2  08.01.2019  Standard Class       Illinois       Labels     0.200   4.272   \n",
       "\n",
       "   Quantity  Sales  \n",
       "0         2 16.448  \n",
       "1         2  3.540  \n",
       "2         3 11.784  "
      ]
     },
     "execution_count": 3,
     "metadata": {},
     "output_type": "execute_result"
    }
   ],
   "source": [
    "# Загрузка данных\n",
    "df = pd.read_csv('Superstore_Orders.csv', sep=';')\n",
    "df.head(3)"
   ]
  },
  {
   "cell_type": "code",
   "execution_count": 5,
   "id": "b25e477d-4b75-45d6-a829-5ffca3746103",
   "metadata": {},
   "outputs": [],
   "source": [
    "# Приведём колонки к удобнову виду\n",
    "df.columns = df.columns.str.lower().str.replace(' ', '_')"
   ]
  },
  {
   "cell_type": "code",
   "execution_count": 7,
   "id": "5d9ced8a-d1a5-4dd8-b828-faafd0e80072",
   "metadata": {},
   "outputs": [
    {
     "data": {
      "text/html": [
       "<div>\n",
       "<style scoped>\n",
       "    .dataframe tbody tr th:only-of-type {\n",
       "        vertical-align: middle;\n",
       "    }\n",
       "\n",
       "    .dataframe tbody tr th {\n",
       "        vertical-align: top;\n",
       "    }\n",
       "\n",
       "    .dataframe thead th {\n",
       "        text-align: right;\n",
       "    }\n",
       "</style>\n",
       "<table border=\"1\" class=\"dataframe\">\n",
       "  <thead>\n",
       "    <tr style=\"text-align: right;\">\n",
       "      <th></th>\n",
       "      <th>category</th>\n",
       "      <th>city</th>\n",
       "      <th>country/region</th>\n",
       "      <th>customer_name</th>\n",
       "      <th>manufacturer</th>\n",
       "      <th>order_date</th>\n",
       "      <th>order_id</th>\n",
       "      <th>postal_code</th>\n",
       "      <th>product_name</th>\n",
       "      <th>region</th>\n",
       "      <th>segment</th>\n",
       "      <th>ship_date</th>\n",
       "      <th>ship_mode</th>\n",
       "      <th>state/province</th>\n",
       "      <th>sub-category</th>\n",
       "      <th>discount</th>\n",
       "      <th>profit</th>\n",
       "      <th>quantity</th>\n",
       "      <th>sales</th>\n",
       "    </tr>\n",
       "  </thead>\n",
       "  <tbody>\n",
       "    <tr>\n",
       "      <th>0</th>\n",
       "      <td>Office Supplies</td>\n",
       "      <td>Houston</td>\n",
       "      <td>United States</td>\n",
       "      <td>Darren Powers</td>\n",
       "      <td>Message Book</td>\n",
       "      <td>03.01.2019</td>\n",
       "      <td>US-2019-103800</td>\n",
       "      <td>77095</td>\n",
       "      <td>Message Book, Wirebound, Four 5 1/2\" X 4\" Form...</td>\n",
       "      <td>Central</td>\n",
       "      <td>Consumer</td>\n",
       "      <td>07.01.2019</td>\n",
       "      <td>Standard Class</td>\n",
       "      <td>Texas</td>\n",
       "      <td>Paper</td>\n",
       "      <td>0.200</td>\n",
       "      <td>5.551</td>\n",
       "      <td>2</td>\n",
       "      <td>16.448</td>\n",
       "    </tr>\n",
       "  </tbody>\n",
       "</table>\n",
       "</div>"
      ],
      "text/plain": [
       "          category     city country/region  customer_name  manufacturer  \\\n",
       "0  Office Supplies  Houston  United States  Darren Powers  Message Book   \n",
       "\n",
       "   order_date        order_id postal_code  \\\n",
       "0  03.01.2019  US-2019-103800       77095   \n",
       "\n",
       "                                        product_name   region   segment  \\\n",
       "0  Message Book, Wirebound, Four 5 1/2\" X 4\" Form...  Central  Consumer   \n",
       "\n",
       "    ship_date       ship_mode state/province sub-category  discount  profit  \\\n",
       "0  07.01.2019  Standard Class          Texas        Paper     0.200   5.551   \n",
       "\n",
       "   quantity  sales  \n",
       "0         2 16.448  "
      ]
     },
     "execution_count": 7,
     "metadata": {},
     "output_type": "execute_result"
    }
   ],
   "source": [
    "df.head(1)"
   ]
  },
  {
   "cell_type": "markdown",
   "id": "125f2c89-efdc-4b33-bd08-50c3b29ddc7b",
   "metadata": {},
   "source": [
    "### 3.Предобработка данных"
   ]
  },
  {
   "cell_type": "markdown",
   "id": "7ffdb983-b46d-41e7-96ba-a3244bf07f65",
   "metadata": {},
   "source": [
    "**Проверим данные на пропуски и дубликаты, а также убедимся, что типы данных корректны.**"
   ]
  },
  {
   "cell_type": "code",
   "execution_count": 422,
   "id": "d1db1881-ea78-4b18-8323-e1ee611bcb53",
   "metadata": {},
   "outputs": [
    {
     "data": {
      "text/html": [
       "<style type=\"text/css\">\n",
       "#T_d5255_row0_col1, #T_d5255_row1_col1, #T_d5255_row2_col1, #T_d5255_row3_col1, #T_d5255_row4_col1, #T_d5255_row5_col1, #T_d5255_row6_col1, #T_d5255_row7_col1, #T_d5255_row8_col1, #T_d5255_row9_col1, #T_d5255_row10_col1, #T_d5255_row11_col1, #T_d5255_row12_col1, #T_d5255_row13_col1, #T_d5255_row14_col1, #T_d5255_row15_col1, #T_d5255_row16_col1 {\n",
       "  color: green;\n",
       "}\n",
       "#T_d5255_row17_col1, #T_d5255_row18_col1 {\n",
       "  color: red;\n",
       "}\n",
       "</style>\n",
       "<table id=\"T_d5255\">\n",
       "  <thead>\n",
       "    <tr>\n",
       "      <th class=\"blank level0\" >&nbsp;</th>\n",
       "      <th id=\"T_d5255_level0_col0\" class=\"col_heading level0 col0\" >Пропуски, шт</th>\n",
       "      <th id=\"T_d5255_level0_col1\" class=\"col_heading level0 col1\" >Пропуски, %</th>\n",
       "    </tr>\n",
       "  </thead>\n",
       "  <tbody>\n",
       "    <tr>\n",
       "      <th id=\"T_d5255_level0_row0\" class=\"row_heading level0 row0\" >category</th>\n",
       "      <td id=\"T_d5255_row0_col0\" class=\"data row0 col0\" >0</td>\n",
       "      <td id=\"T_d5255_row0_col1\" class=\"data row0 col1\" >0.00%</td>\n",
       "    </tr>\n",
       "    <tr>\n",
       "      <th id=\"T_d5255_level0_row1\" class=\"row_heading level0 row1\" >city</th>\n",
       "      <td id=\"T_d5255_row1_col0\" class=\"data row1 col0\" >0</td>\n",
       "      <td id=\"T_d5255_row1_col1\" class=\"data row1 col1\" >0.00%</td>\n",
       "    </tr>\n",
       "    <tr>\n",
       "      <th id=\"T_d5255_level0_row2\" class=\"row_heading level0 row2\" >country/region</th>\n",
       "      <td id=\"T_d5255_row2_col0\" class=\"data row2 col0\" >0</td>\n",
       "      <td id=\"T_d5255_row2_col1\" class=\"data row2 col1\" >0.00%</td>\n",
       "    </tr>\n",
       "    <tr>\n",
       "      <th id=\"T_d5255_level0_row3\" class=\"row_heading level0 row3\" >customer_name</th>\n",
       "      <td id=\"T_d5255_row3_col0\" class=\"data row3 col0\" >0</td>\n",
       "      <td id=\"T_d5255_row3_col1\" class=\"data row3 col1\" >0.00%</td>\n",
       "    </tr>\n",
       "    <tr>\n",
       "      <th id=\"T_d5255_level0_row4\" class=\"row_heading level0 row4\" >manufacturer</th>\n",
       "      <td id=\"T_d5255_row4_col0\" class=\"data row4 col0\" >0</td>\n",
       "      <td id=\"T_d5255_row4_col1\" class=\"data row4 col1\" >0.00%</td>\n",
       "    </tr>\n",
       "    <tr>\n",
       "      <th id=\"T_d5255_level0_row5\" class=\"row_heading level0 row5\" >order_date</th>\n",
       "      <td id=\"T_d5255_row5_col0\" class=\"data row5 col0\" >0</td>\n",
       "      <td id=\"T_d5255_row5_col1\" class=\"data row5 col1\" >0.00%</td>\n",
       "    </tr>\n",
       "    <tr>\n",
       "      <th id=\"T_d5255_level0_row6\" class=\"row_heading level0 row6\" >order_id</th>\n",
       "      <td id=\"T_d5255_row6_col0\" class=\"data row6 col0\" >0</td>\n",
       "      <td id=\"T_d5255_row6_col1\" class=\"data row6 col1\" >0.00%</td>\n",
       "    </tr>\n",
       "    <tr>\n",
       "      <th id=\"T_d5255_level0_row7\" class=\"row_heading level0 row7\" >postal_code</th>\n",
       "      <td id=\"T_d5255_row7_col0\" class=\"data row7 col0\" >0</td>\n",
       "      <td id=\"T_d5255_row7_col1\" class=\"data row7 col1\" >0.00%</td>\n",
       "    </tr>\n",
       "    <tr>\n",
       "      <th id=\"T_d5255_level0_row8\" class=\"row_heading level0 row8\" >product_name</th>\n",
       "      <td id=\"T_d5255_row8_col0\" class=\"data row8 col0\" >0</td>\n",
       "      <td id=\"T_d5255_row8_col1\" class=\"data row8 col1\" >0.00%</td>\n",
       "    </tr>\n",
       "    <tr>\n",
       "      <th id=\"T_d5255_level0_row9\" class=\"row_heading level0 row9\" >region</th>\n",
       "      <td id=\"T_d5255_row9_col0\" class=\"data row9 col0\" >0</td>\n",
       "      <td id=\"T_d5255_row9_col1\" class=\"data row9 col1\" >0.00%</td>\n",
       "    </tr>\n",
       "    <tr>\n",
       "      <th id=\"T_d5255_level0_row10\" class=\"row_heading level0 row10\" >segment</th>\n",
       "      <td id=\"T_d5255_row10_col0\" class=\"data row10 col0\" >0</td>\n",
       "      <td id=\"T_d5255_row10_col1\" class=\"data row10 col1\" >0.00%</td>\n",
       "    </tr>\n",
       "    <tr>\n",
       "      <th id=\"T_d5255_level0_row11\" class=\"row_heading level0 row11\" >ship_date</th>\n",
       "      <td id=\"T_d5255_row11_col0\" class=\"data row11 col0\" >0</td>\n",
       "      <td id=\"T_d5255_row11_col1\" class=\"data row11 col1\" >0.00%</td>\n",
       "    </tr>\n",
       "    <tr>\n",
       "      <th id=\"T_d5255_level0_row12\" class=\"row_heading level0 row12\" >ship_mode</th>\n",
       "      <td id=\"T_d5255_row12_col0\" class=\"data row12 col0\" >0</td>\n",
       "      <td id=\"T_d5255_row12_col1\" class=\"data row12 col1\" >0.00%</td>\n",
       "    </tr>\n",
       "    <tr>\n",
       "      <th id=\"T_d5255_level0_row13\" class=\"row_heading level0 row13\" >state/province</th>\n",
       "      <td id=\"T_d5255_row13_col0\" class=\"data row13 col0\" >0</td>\n",
       "      <td id=\"T_d5255_row13_col1\" class=\"data row13 col1\" >0.00%</td>\n",
       "    </tr>\n",
       "    <tr>\n",
       "      <th id=\"T_d5255_level0_row14\" class=\"row_heading level0 row14\" >sub-category</th>\n",
       "      <td id=\"T_d5255_row14_col0\" class=\"data row14 col0\" >0</td>\n",
       "      <td id=\"T_d5255_row14_col1\" class=\"data row14 col1\" >0.00%</td>\n",
       "    </tr>\n",
       "    <tr>\n",
       "      <th id=\"T_d5255_level0_row15\" class=\"row_heading level0 row15\" >discount</th>\n",
       "      <td id=\"T_d5255_row15_col0\" class=\"data row15 col0\" >0</td>\n",
       "      <td id=\"T_d5255_row15_col1\" class=\"data row15 col1\" >0.00%</td>\n",
       "    </tr>\n",
       "    <tr>\n",
       "      <th id=\"T_d5255_level0_row16\" class=\"row_heading level0 row16\" >profit</th>\n",
       "      <td id=\"T_d5255_row16_col0\" class=\"data row16 col0\" >0</td>\n",
       "      <td id=\"T_d5255_row16_col1\" class=\"data row16 col1\" >0.00%</td>\n",
       "    </tr>\n",
       "    <tr>\n",
       "      <th id=\"T_d5255_level0_row17\" class=\"row_heading level0 row17\" >quantity</th>\n",
       "      <td id=\"T_d5255_row17_col0\" class=\"data row17 col0\" >112</td>\n",
       "      <td id=\"T_d5255_row17_col1\" class=\"data row17 col1\" >1.10%</td>\n",
       "    </tr>\n",
       "    <tr>\n",
       "      <th id=\"T_d5255_level0_row18\" class=\"row_heading level0 row18\" >sales</th>\n",
       "      <td id=\"T_d5255_row18_col0\" class=\"data row18 col0\" >92</td>\n",
       "      <td id=\"T_d5255_row18_col1\" class=\"data row18 col1\" >0.90%</td>\n",
       "    </tr>\n",
       "  </tbody>\n",
       "</table>\n"
      ],
      "text/plain": [
       "<pandas.io.formats.style.Styler at 0x1d03adc9350>"
      ]
     },
     "execution_count": 422,
     "metadata": {},
     "output_type": "execute_result"
    }
   ],
   "source": [
    "# Подробный отчет по пропускам\n",
    "def color(val):\n",
    "    if val > 0.001:\n",
    "        color = 'red'\n",
    "    else:\n",
    "        color = 'green'\n",
    "    return 'color: %s' % color\n",
    "\n",
    "df_null = (\n",
    "    df.isna().sum()\n",
    "    .to_frame('Пропуски, шт')\n",
    "    .assign(**{'Пропуски, %': lambda x: x['Пропуски, шт'] / len(df)})\n",
    ")\n",
    "df_null.style \\\n",
    "    .format({'Пропуски, %':'{:.2%}'}, thousands=' ') \\\n",
    "    .map(color, subset='Пропуски, %')"
   ]
  },
  {
   "cell_type": "markdown",
   "id": "201838de-e327-4bbd-8c9c-3c4a3872ad0c",
   "metadata": {},
   "source": [
    "**Удалим пропуски, так как эти признаки критичны для дальнейшего анализа**"
   ]
  },
  {
   "cell_type": "code",
   "execution_count": 9,
   "id": "2c85279e-ef6a-4d77-8eac-0ca9fdf52d7f",
   "metadata": {},
   "outputs": [],
   "source": [
    "df.dropna(inplace=True)"
   ]
  },
  {
   "cell_type": "code",
   "execution_count": 11,
   "id": "76c6e748-5a1d-4648-b3ae-22075609e711",
   "metadata": {},
   "outputs": [
    {
     "name": "stdout",
     "output_type": "stream",
     "text": [
      "Количество пропусков в 'quantity': 0\n",
      "Количество пропусков в 'sales': 0\n"
     ]
    }
   ],
   "source": [
    "# Проверка\n",
    "print(\"Количество пропусков в 'quantity':\", df['quantity'].isna().sum())\n",
    "print(\"Количество пропусков в 'sales':\", df['sales'].isna().sum())"
   ]
  },
  {
   "cell_type": "code",
   "execution_count": 13,
   "id": "45e22f09-aeea-41cc-b9e8-fe7d4ce3da99",
   "metadata": {},
   "outputs": [
    {
     "data": {
      "text/plain": [
       "2"
      ]
     },
     "execution_count": 13,
     "metadata": {},
     "output_type": "execute_result"
    }
   ],
   "source": [
    "df.duplicated().sum()"
   ]
  },
  {
   "cell_type": "code",
   "execution_count": 15,
   "id": "6a0b5d09-0668-4328-b755-6807efed12c4",
   "metadata": {},
   "outputs": [
    {
     "data": {
      "text/html": [
       "<div>\n",
       "<style scoped>\n",
       "    .dataframe tbody tr th:only-of-type {\n",
       "        vertical-align: middle;\n",
       "    }\n",
       "\n",
       "    .dataframe tbody tr th {\n",
       "        vertical-align: top;\n",
       "    }\n",
       "\n",
       "    .dataframe thead th {\n",
       "        text-align: right;\n",
       "    }\n",
       "</style>\n",
       "<table border=\"1\" class=\"dataframe\">\n",
       "  <thead>\n",
       "    <tr style=\"text-align: right;\">\n",
       "      <th></th>\n",
       "      <th>category</th>\n",
       "      <th>city</th>\n",
       "      <th>country/region</th>\n",
       "      <th>customer_name</th>\n",
       "      <th>manufacturer</th>\n",
       "      <th>order_date</th>\n",
       "      <th>order_id</th>\n",
       "      <th>postal_code</th>\n",
       "      <th>product_name</th>\n",
       "      <th>region</th>\n",
       "      <th>segment</th>\n",
       "      <th>ship_date</th>\n",
       "      <th>ship_mode</th>\n",
       "      <th>state/province</th>\n",
       "      <th>sub-category</th>\n",
       "      <th>discount</th>\n",
       "      <th>profit</th>\n",
       "      <th>quantity</th>\n",
       "      <th>sales</th>\n",
       "    </tr>\n",
       "  </thead>\n",
       "  <tbody>\n",
       "    <tr>\n",
       "      <th>390</th>\n",
       "      <td>Furniture</td>\n",
       "      <td>Columbus</td>\n",
       "      <td>United States</td>\n",
       "      <td>Laurel Beltran</td>\n",
       "      <td>Global</td>\n",
       "      <td>23.04.2019</td>\n",
       "      <td>US-2019-150119</td>\n",
       "      <td>43229</td>\n",
       "      <td>Global Leather Highback Executive Chair with P...</td>\n",
       "      <td>East</td>\n",
       "      <td>Home Office</td>\n",
       "      <td>27.04.2019</td>\n",
       "      <td>Standard Class</td>\n",
       "      <td>Ohio</td>\n",
       "      <td>Chairs</td>\n",
       "      <td>0.300</td>\n",
       "      <td>-12.059</td>\n",
       "      <td>2</td>\n",
       "      <td>281.372</td>\n",
       "    </tr>\n",
       "    <tr>\n",
       "      <th>391</th>\n",
       "      <td>Furniture</td>\n",
       "      <td>Columbus</td>\n",
       "      <td>United States</td>\n",
       "      <td>Laurel Beltran</td>\n",
       "      <td>Global</td>\n",
       "      <td>23.04.2019</td>\n",
       "      <td>US-2019-150119</td>\n",
       "      <td>43229</td>\n",
       "      <td>Global Leather Highback Executive Chair with P...</td>\n",
       "      <td>East</td>\n",
       "      <td>Home Office</td>\n",
       "      <td>27.04.2019</td>\n",
       "      <td>Standard Class</td>\n",
       "      <td>Ohio</td>\n",
       "      <td>Chairs</td>\n",
       "      <td>0.300</td>\n",
       "      <td>-12.059</td>\n",
       "      <td>2</td>\n",
       "      <td>281.372</td>\n",
       "    </tr>\n",
       "    <tr>\n",
       "      <th>1698</th>\n",
       "      <td>Furniture</td>\n",
       "      <td>St. John's</td>\n",
       "      <td>Canada</td>\n",
       "      <td>James Peterman</td>\n",
       "      <td>Nu-Dell</td>\n",
       "      <td>24.11.2019</td>\n",
       "      <td>CA-2019-153623</td>\n",
       "      <td>A0A</td>\n",
       "      <td>Nu-Dell Executive Frame</td>\n",
       "      <td>East</td>\n",
       "      <td>Corporate</td>\n",
       "      <td>05.12.2019</td>\n",
       "      <td>Standard Class</td>\n",
       "      <td>Newfoundland and Labrador</td>\n",
       "      <td>Furnishings</td>\n",
       "      <td>0.000</td>\n",
       "      <td>35.414</td>\n",
       "      <td>8</td>\n",
       "      <td>99.120</td>\n",
       "    </tr>\n",
       "    <tr>\n",
       "      <th>1699</th>\n",
       "      <td>Furniture</td>\n",
       "      <td>St. John's</td>\n",
       "      <td>Canada</td>\n",
       "      <td>James Peterman</td>\n",
       "      <td>Nu-Dell</td>\n",
       "      <td>24.11.2019</td>\n",
       "      <td>CA-2019-153623</td>\n",
       "      <td>A0A</td>\n",
       "      <td>Nu-Dell Executive Frame</td>\n",
       "      <td>East</td>\n",
       "      <td>Corporate</td>\n",
       "      <td>05.12.2019</td>\n",
       "      <td>Standard Class</td>\n",
       "      <td>Newfoundland and Labrador</td>\n",
       "      <td>Furnishings</td>\n",
       "      <td>0.000</td>\n",
       "      <td>35.414</td>\n",
       "      <td>8</td>\n",
       "      <td>99.120</td>\n",
       "    </tr>\n",
       "  </tbody>\n",
       "</table>\n",
       "</div>"
      ],
      "text/plain": [
       "       category        city country/region   customer_name manufacturer  \\\n",
       "390   Furniture    Columbus  United States  Laurel Beltran       Global   \n",
       "391   Furniture    Columbus  United States  Laurel Beltran       Global   \n",
       "1698  Furniture  St. John's         Canada  James Peterman      Nu-Dell   \n",
       "1699  Furniture  St. John's         Canada  James Peterman      Nu-Dell   \n",
       "\n",
       "      order_date        order_id postal_code  \\\n",
       "390   23.04.2019  US-2019-150119       43229   \n",
       "391   23.04.2019  US-2019-150119       43229   \n",
       "1698  24.11.2019  CA-2019-153623         A0A   \n",
       "1699  24.11.2019  CA-2019-153623         A0A   \n",
       "\n",
       "                                           product_name region      segment  \\\n",
       "390   Global Leather Highback Executive Chair with P...   East  Home Office   \n",
       "391   Global Leather Highback Executive Chair with P...   East  Home Office   \n",
       "1698                            Nu-Dell Executive Frame   East    Corporate   \n",
       "1699                            Nu-Dell Executive Frame   East    Corporate   \n",
       "\n",
       "       ship_date       ship_mode             state/province sub-category  \\\n",
       "390   27.04.2019  Standard Class                       Ohio       Chairs   \n",
       "391   27.04.2019  Standard Class                       Ohio       Chairs   \n",
       "1698  05.12.2019  Standard Class  Newfoundland and Labrador  Furnishings   \n",
       "1699  05.12.2019  Standard Class  Newfoundland and Labrador  Furnishings   \n",
       "\n",
       "      discount  profit  quantity   sales  \n",
       "390      0.300 -12.059         2 281.372  \n",
       "391      0.300 -12.059         2 281.372  \n",
       "1698     0.000  35.414         8  99.120  \n",
       "1699     0.000  35.414         8  99.120  "
      ]
     },
     "execution_count": 15,
     "metadata": {},
     "output_type": "execute_result"
    }
   ],
   "source": [
    "df[df.duplicated(keep=False)]"
   ]
  },
  {
   "cell_type": "code",
   "execution_count": 17,
   "id": "1a597d4a-7d98-4e22-a7dd-7b8dc78cb367",
   "metadata": {},
   "outputs": [],
   "source": [
    "# Удаление дубликатов\n",
    "df = df.drop_duplicates()"
   ]
  },
  {
   "cell_type": "code",
   "execution_count": 19,
   "id": "dae57964-064c-4f23-b759-6cf62fd2a1d4",
   "metadata": {},
   "outputs": [
    {
     "data": {
      "text/plain": [
       "0"
      ]
     },
     "execution_count": 19,
     "metadata": {},
     "output_type": "execute_result"
    }
   ],
   "source": [
    "# Проверка\n",
    "df.duplicated().sum()"
   ]
  },
  {
   "cell_type": "code",
   "execution_count": 21,
   "id": "8078a7b9-c822-44f0-8947-ff1a747db804",
   "metadata": {},
   "outputs": [
    {
     "name": "stdout",
     "output_type": "stream",
     "text": [
      "<class 'pandas.core.frame.DataFrame'>\n",
      "Index: 10192 entries, 0 to 10193\n",
      "Data columns (total 19 columns):\n",
      " #   Column          Non-Null Count  Dtype  \n",
      "---  ------          --------------  -----  \n",
      " 0   category        10192 non-null  object \n",
      " 1   city            10192 non-null  object \n",
      " 2   country/region  10192 non-null  object \n",
      " 3   customer_name   10192 non-null  object \n",
      " 4   manufacturer    10192 non-null  object \n",
      " 5   order_date      10192 non-null  object \n",
      " 6   order_id        10192 non-null  object \n",
      " 7   postal_code     10192 non-null  object \n",
      " 8   product_name    10192 non-null  object \n",
      " 9   region          10192 non-null  object \n",
      " 10  segment         10192 non-null  object \n",
      " 11  ship_date       10192 non-null  object \n",
      " 12  ship_mode       10192 non-null  object \n",
      " 13  state/province  10192 non-null  object \n",
      " 14  sub-category    10192 non-null  object \n",
      " 15  discount        10192 non-null  float64\n",
      " 16  profit          10192 non-null  float64\n",
      " 17  quantity        10192 non-null  int64  \n",
      " 18  sales           10192 non-null  float64\n",
      "dtypes: float64(3), int64(1), object(15)\n",
      "memory usage: 1.6+ MB\n"
     ]
    }
   ],
   "source": [
    "df.info()"
   ]
  },
  {
   "cell_type": "markdown",
   "id": "68d6540e-e1bc-492e-b4ec-b7c9ac4c9012",
   "metadata": {},
   "source": [
    "### 4. Группировка по товарам"
   ]
  },
  {
   "cell_type": "markdown",
   "id": "f3383e37-992a-46eb-8443-5843c14413d9",
   "metadata": {},
   "source": [
    "**Сгруппируем данные по товарам, посчитаем общее количество и сумму продаж для каждого товара.**"
   ]
  },
  {
   "cell_type": "code",
   "execution_count": 23,
   "id": "3b873b2c-ed76-488c-bc08-fdd2b8e319a6",
   "metadata": {},
   "outputs": [],
   "source": [
    "groupped_df = (\n",
    "    df.groupby('product_name', as_index=False)\n",
    "      .agg(total_quantity=('quantity', 'sum'),\n",
    "           total_sum=('sales', 'sum'))\n",
    ")"
   ]
  },
  {
   "cell_type": "code",
   "execution_count": 25,
   "id": "0349928d-0e9f-40d6-a558-24b05dcfd0f5",
   "metadata": {},
   "outputs": [
    {
     "data": {
      "text/html": [
       "<div>\n",
       "<style scoped>\n",
       "    .dataframe tbody tr th:only-of-type {\n",
       "        vertical-align: middle;\n",
       "    }\n",
       "\n",
       "    .dataframe tbody tr th {\n",
       "        vertical-align: top;\n",
       "    }\n",
       "\n",
       "    .dataframe thead th {\n",
       "        text-align: right;\n",
       "    }\n",
       "</style>\n",
       "<table border=\"1\" class=\"dataframe\">\n",
       "  <thead>\n",
       "    <tr style=\"text-align: right;\">\n",
       "      <th></th>\n",
       "      <th>product_name</th>\n",
       "      <th>total_quantity</th>\n",
       "      <th>total_sum</th>\n",
       "    </tr>\n",
       "  </thead>\n",
       "  <tbody>\n",
       "    <tr>\n",
       "      <th>0</th>\n",
       "      <td>\"While you Were Out\" Message Book, One Form pe...</td>\n",
       "      <td>8</td>\n",
       "      <td>25.228</td>\n",
       "    </tr>\n",
       "    <tr>\n",
       "      <th>1</th>\n",
       "      <td>#10 Gummed Flap White Envelopes, 100/Box</td>\n",
       "      <td>11</td>\n",
       "      <td>41.300</td>\n",
       "    </tr>\n",
       "    <tr>\n",
       "      <th>2</th>\n",
       "      <td>#10 Self-Seal White Envelopes</td>\n",
       "      <td>10</td>\n",
       "      <td>108.682</td>\n",
       "    </tr>\n",
       "    <tr>\n",
       "      <th>3</th>\n",
       "      <td>#10 White Business Envelopes,4 1/8 x 9 1/2</td>\n",
       "      <td>32</td>\n",
       "      <td>488.904</td>\n",
       "    </tr>\n",
       "    <tr>\n",
       "      <th>4</th>\n",
       "      <td>#10- 4 1/8\" x 9 1/2\" Recycled Envelopes</td>\n",
       "      <td>37</td>\n",
       "      <td>286.672</td>\n",
       "    </tr>\n",
       "    <tr>\n",
       "      <th>...</th>\n",
       "      <td>...</td>\n",
       "      <td>...</td>\n",
       "      <td>...</td>\n",
       "    </tr>\n",
       "    <tr>\n",
       "      <th>1844</th>\n",
       "      <td>iKross Bluetooth Portable Keyboard + Cell Phon...</td>\n",
       "      <td>64</td>\n",
       "      <td>1315.660</td>\n",
       "    </tr>\n",
       "    <tr>\n",
       "      <th>1845</th>\n",
       "      <td>iOttie HLCRIO102 Car Mount</td>\n",
       "      <td>12</td>\n",
       "      <td>215.892</td>\n",
       "    </tr>\n",
       "    <tr>\n",
       "      <th>1846</th>\n",
       "      <td>iOttie XL Car Mount</td>\n",
       "      <td>14</td>\n",
       "      <td>223.888</td>\n",
       "    </tr>\n",
       "    <tr>\n",
       "      <th>1847</th>\n",
       "      <td>invisibleSHIELD by ZAGG Smudge-Free Screen Pro...</td>\n",
       "      <td>29</td>\n",
       "      <td>442.554</td>\n",
       "    </tr>\n",
       "    <tr>\n",
       "      <th>1848</th>\n",
       "      <td>netTALK DUO VoIP Telephone Service</td>\n",
       "      <td>26</td>\n",
       "      <td>1112.788</td>\n",
       "    </tr>\n",
       "  </tbody>\n",
       "</table>\n",
       "<p>1849 rows × 3 columns</p>\n",
       "</div>"
      ],
      "text/plain": [
       "                                           product_name  total_quantity  \\\n",
       "0     \"While you Were Out\" Message Book, One Form pe...               8   \n",
       "1              #10 Gummed Flap White Envelopes, 100/Box              11   \n",
       "2                         #10 Self-Seal White Envelopes              10   \n",
       "3            #10 White Business Envelopes,4 1/8 x 9 1/2              32   \n",
       "4               #10- 4 1/8\" x 9 1/2\" Recycled Envelopes              37   \n",
       "...                                                 ...             ...   \n",
       "1844  iKross Bluetooth Portable Keyboard + Cell Phon...              64   \n",
       "1845                         iOttie HLCRIO102 Car Mount              12   \n",
       "1846                                iOttie XL Car Mount              14   \n",
       "1847  invisibleSHIELD by ZAGG Smudge-Free Screen Pro...              29   \n",
       "1848                 netTALK DUO VoIP Telephone Service              26   \n",
       "\n",
       "      total_sum  \n",
       "0        25.228  \n",
       "1        41.300  \n",
       "2       108.682  \n",
       "3       488.904  \n",
       "4       286.672  \n",
       "...         ...  \n",
       "1844   1315.660  \n",
       "1845    215.892  \n",
       "1846    223.888  \n",
       "1847    442.554  \n",
       "1848   1112.788  \n",
       "\n",
       "[1849 rows x 3 columns]"
      ]
     },
     "execution_count": 25,
     "metadata": {},
     "output_type": "execute_result"
    }
   ],
   "source": [
    "groupped_df"
   ]
  },
  {
   "cell_type": "markdown",
   "id": "fb946a98-6031-4b0c-ae19-b1a95f825420",
   "metadata": {},
   "source": [
    "### 5. ABC-анализ по количеству"
   ]
  },
  {
   "cell_type": "markdown",
   "id": "14412c8d-fb6a-42a0-adc6-f84c62c384d6",
   "metadata": {},
   "source": [
    "**Проведём ABC-анализ по количеству проданных товаров**\n",
    "- Группа A: 80% продаж\n",
    "- Группа B: 15% продаж\n",
    "- Группа C: 5% продаж"
   ]
  },
  {
   "cell_type": "markdown",
   "id": "767d549b-4153-4d36-8294-b2c72f2f9f20",
   "metadata": {},
   "source": [
    "**Пороговые значения для ABC-анализа**\n",
    "  \n",
    "Пороговые значения (`0.8`, `0.95`) — это общепринятые, но иногда их подбирают под задачу, они могут быть изменены."
   ]
  },
  {
   "cell_type": "code",
   "execution_count": 27,
   "id": "32a0acbc-12c4-4d62-aeea-3e3d0025117b",
   "metadata": {},
   "outputs": [],
   "source": [
    "a_threshold = 0.8\n",
    "b_threshold = 0.95"
   ]
  },
  {
   "cell_type": "markdown",
   "id": "83c2fdb0-2618-4cfa-b546-0eb684137981",
   "metadata": {},
   "source": [
    "Далее последовательно выполняем следующие действия:\n",
    "- Посчитать долю каждого товара от общего количества.\n",
    "- Отсортировать датафрейм по убыванию вклада.\n",
    "- Посчитать накопительную сумму.\n",
    "- Присвоить группы A/B/C по стандартным порогам (80/15/5) — это классика."
   ]
  },
  {
   "cell_type": "markdown",
   "id": "4d2095b7-b517-4331-aa15-e1ee276d84de",
   "metadata": {},
   "source": [
    "**Считаем вклад каждого товара от общего количества продаж**"
   ]
  },
  {
   "cell_type": "code",
   "execution_count": 29,
   "id": "bbcb2456-8232-4b8d-9ae9-85f93ac566f0",
   "metadata": {},
   "outputs": [],
   "source": [
    "groupped_df['perc_total_quantity'] = (groupped_df['total_quantity'] / sum(groupped_df['total_quantity']))"
   ]
  },
  {
   "cell_type": "markdown",
   "id": "d13d2eed-c972-4d1c-bfff-f7dc2d9cf7ba",
   "metadata": {},
   "source": [
    "**Сортируем датафрейм от большей доли вклада к меньшей**"
   ]
  },
  {
   "cell_type": "code",
   "execution_count": 31,
   "id": "786f4ce8-616c-4773-8ab3-0ec0c4a5bacf",
   "metadata": {},
   "outputs": [],
   "source": [
    "groupped_df = groupped_df.sort_values(by='perc_total_quantity', ascending=False).reset_index(drop=True)"
   ]
  },
  {
   "cell_type": "markdown",
   "id": "d7e5c8c1-03f4-4d40-bbae-9bacb46d7a1f",
   "metadata": {},
   "source": [
    "**Считаем сумму накопительным итогом по столбцу perc_total_quantity**"
   ]
  },
  {
   "cell_type": "code",
   "execution_count": 33,
   "id": "0beaccc9-8dea-41ec-a844-1a017caa85a2",
   "metadata": {},
   "outputs": [],
   "source": [
    "groupped_df['cum_sum_quantity'] = groupped_df['perc_total_quantity'].cumsum()"
   ]
  },
  {
   "cell_type": "markdown",
   "id": "7a0663fb-92d3-4a0d-b961-2c33eb608b4f",
   "metadata": {},
   "source": [
    "**Присваивем группы A/B/C по заданным порогам (80/15/5)**"
   ]
  },
  {
   "cell_type": "code",
   "execution_count": 35,
   "id": "0aff222a-90c6-417f-abce-3e9638c8fc7d",
   "metadata": {},
   "outputs": [],
   "source": [
    "groupped_df['abc_quantity']=np.where(groupped_df['cum_sum_quantity'] < a_threshold, 'A', \n",
    "                            np.where(groupped_df['cum_sum_quantity'] < b_threshold, 'B', 'C'))"
   ]
  },
  {
   "cell_type": "code",
   "execution_count": 37,
   "id": "84cd4b8e-27f4-4b9a-9bb0-f004b54f1fac",
   "metadata": {},
   "outputs": [
    {
     "data": {
      "text/html": [
       "<div>\n",
       "<style scoped>\n",
       "    .dataframe tbody tr th:only-of-type {\n",
       "        vertical-align: middle;\n",
       "    }\n",
       "\n",
       "    .dataframe tbody tr th {\n",
       "        vertical-align: top;\n",
       "    }\n",
       "\n",
       "    .dataframe thead th {\n",
       "        text-align: right;\n",
       "    }\n",
       "</style>\n",
       "<table border=\"1\" class=\"dataframe\">\n",
       "  <thead>\n",
       "    <tr style=\"text-align: right;\">\n",
       "      <th></th>\n",
       "      <th>product_name</th>\n",
       "      <th>total_quantity</th>\n",
       "      <th>total_sum</th>\n",
       "      <th>perc_total_quantity</th>\n",
       "      <th>cum_sum_quantity</th>\n",
       "      <th>abc_quantity</th>\n",
       "    </tr>\n",
       "  </thead>\n",
       "  <tbody>\n",
       "    <tr>\n",
       "      <th>0</th>\n",
       "      <td>Staples</td>\n",
       "      <td>234</td>\n",
       "      <td>6014.730</td>\n",
       "      <td>0.006</td>\n",
       "      <td>0.006</td>\n",
       "      <td>A</td>\n",
       "    </tr>\n",
       "    <tr>\n",
       "      <th>1</th>\n",
       "      <td>Staple envelope</td>\n",
       "      <td>170</td>\n",
       "      <td>1686.812</td>\n",
       "      <td>0.004</td>\n",
       "      <td>0.010</td>\n",
       "      <td>A</td>\n",
       "    </tr>\n",
       "    <tr>\n",
       "      <th>2</th>\n",
       "      <td>Easy-staple paper</td>\n",
       "      <td>150</td>\n",
       "      <td>2504.192</td>\n",
       "      <td>0.004</td>\n",
       "      <td>0.014</td>\n",
       "      <td>A</td>\n",
       "    </tr>\n",
       "    <tr>\n",
       "      <th>3</th>\n",
       "      <td>Staples in misc. colors</td>\n",
       "      <td>86</td>\n",
       "      <td>478.812</td>\n",
       "      <td>0.002</td>\n",
       "      <td>0.017</td>\n",
       "      <td>A</td>\n",
       "    </tr>\n",
       "    <tr>\n",
       "      <th>4</th>\n",
       "      <td>KI Adjustable-Height Table</td>\n",
       "      <td>79</td>\n",
       "      <td>4820.951</td>\n",
       "      <td>0.002</td>\n",
       "      <td>0.019</td>\n",
       "      <td>A</td>\n",
       "    </tr>\n",
       "    <tr>\n",
       "      <th>...</th>\n",
       "      <td>...</td>\n",
       "      <td>...</td>\n",
       "      <td>...</td>\n",
       "      <td>...</td>\n",
       "      <td>...</td>\n",
       "      <td>...</td>\n",
       "    </tr>\n",
       "    <tr>\n",
       "      <th>1844</th>\n",
       "      <td>Global Enterprise Series Seating Low-Back Swiv...</td>\n",
       "      <td>1</td>\n",
       "      <td>207.184</td>\n",
       "      <td>0.000</td>\n",
       "      <td>1.000</td>\n",
       "      <td>C</td>\n",
       "    </tr>\n",
       "    <tr>\n",
       "      <th>1845</th>\n",
       "      <td>Boston 1900 Electric Pencil Sharpener</td>\n",
       "      <td>1</td>\n",
       "      <td>14.980</td>\n",
       "      <td>0.000</td>\n",
       "      <td>1.000</td>\n",
       "      <td>C</td>\n",
       "    </tr>\n",
       "    <tr>\n",
       "      <th>1846</th>\n",
       "      <td>Bush Saratoga Collection 5-Shelf Bookcase, Han...</td>\n",
       "      <td>1</td>\n",
       "      <td>119.833</td>\n",
       "      <td>0.000</td>\n",
       "      <td>1.000</td>\n",
       "      <td>C</td>\n",
       "    </tr>\n",
       "    <tr>\n",
       "      <th>1847</th>\n",
       "      <td>Xerox 20</td>\n",
       "      <td>1</td>\n",
       "      <td>6.480</td>\n",
       "      <td>0.000</td>\n",
       "      <td>1.000</td>\n",
       "      <td>C</td>\n",
       "    </tr>\n",
       "    <tr>\n",
       "      <th>1848</th>\n",
       "      <td>Penpower WorldCard Pro Card Scanner</td>\n",
       "      <td>1</td>\n",
       "      <td>91.475</td>\n",
       "      <td>0.000</td>\n",
       "      <td>1.000</td>\n",
       "      <td>C</td>\n",
       "    </tr>\n",
       "  </tbody>\n",
       "</table>\n",
       "<p>1849 rows × 6 columns</p>\n",
       "</div>"
      ],
      "text/plain": [
       "                                           product_name  total_quantity  \\\n",
       "0                                               Staples             234   \n",
       "1                                       Staple envelope             170   \n",
       "2                                     Easy-staple paper             150   \n",
       "3                               Staples in misc. colors              86   \n",
       "4                            KI Adjustable-Height Table              79   \n",
       "...                                                 ...             ...   \n",
       "1844  Global Enterprise Series Seating Low-Back Swiv...               1   \n",
       "1845              Boston 1900 Electric Pencil Sharpener               1   \n",
       "1846  Bush Saratoga Collection 5-Shelf Bookcase, Han...               1   \n",
       "1847                                           Xerox 20               1   \n",
       "1848                Penpower WorldCard Pro Card Scanner               1   \n",
       "\n",
       "      total_sum  perc_total_quantity  cum_sum_quantity abc_quantity  \n",
       "0      6014.730                0.006             0.006            A  \n",
       "1      1686.812                0.004             0.010            A  \n",
       "2      2504.192                0.004             0.014            A  \n",
       "3       478.812                0.002             0.017            A  \n",
       "4      4820.951                0.002             0.019            A  \n",
       "...         ...                  ...               ...          ...  \n",
       "1844    207.184                0.000             1.000            C  \n",
       "1845     14.980                0.000             1.000            C  \n",
       "1846    119.833                0.000             1.000            C  \n",
       "1847      6.480                0.000             1.000            C  \n",
       "1848     91.475                0.000             1.000            C  \n",
       "\n",
       "[1849 rows x 6 columns]"
      ]
     },
     "execution_count": 37,
     "metadata": {},
     "output_type": "execute_result"
    }
   ],
   "source": [
    "groupped_df"
   ]
  },
  {
   "cell_type": "markdown",
   "id": "5084c612-b5b1-4769-85d0-bfe7983882e5",
   "metadata": {},
   "source": [
    "### 6. ABC-анализ по сумме"
   ]
  },
  {
   "cell_type": "markdown",
   "id": "d5e1c460-e4e4-4251-94f2-d280dd81c2f1",
   "metadata": {},
   "source": [
    "**Аналогично проведём ABC-анализ по сумме продаж.**"
   ]
  },
  {
   "cell_type": "code",
   "execution_count": 39,
   "id": "3feece0f-cc38-424d-af95-ca815c8936ac",
   "metadata": {},
   "outputs": [],
   "source": [
    "groupped_df['perc_total_sum'] = (groupped_df['total_sum'] / sum(groupped_df['total_sum']))"
   ]
  },
  {
   "cell_type": "code",
   "execution_count": 41,
   "id": "a817dcb1-c437-4e2e-8998-4a414d9a8482",
   "metadata": {},
   "outputs": [],
   "source": [
    "groupped_df = groupped_df.sort_values(by='perc_total_sum', ascending=False)"
   ]
  },
  {
   "cell_type": "code",
   "execution_count": 43,
   "id": "2a922a57-17ca-4b34-a577-c5f8185596ab",
   "metadata": {},
   "outputs": [],
   "source": [
    "groupped_df['cum_sum_total_sum'] = groupped_df['perc_total_sum'].cumsum()"
   ]
  },
  {
   "cell_type": "code",
   "execution_count": 45,
   "id": "145daf95-b8f1-4333-bf03-257cfcfee9c7",
   "metadata": {},
   "outputs": [],
   "source": [
    "groupped_df['abc_sum']=np.where(groupped_df['cum_sum_total_sum'] < a_threshold, 'A', \n",
    "                       np.where(groupped_df['cum_sum_total_sum'] < b_threshold, 'B', 'C'))"
   ]
  },
  {
   "cell_type": "code",
   "execution_count": 49,
   "id": "9da88ce5-da9d-449d-ae54-6f76930fdd2b",
   "metadata": {},
   "outputs": [
    {
     "data": {
      "text/html": [
       "<div>\n",
       "<style scoped>\n",
       "    .dataframe tbody tr th:only-of-type {\n",
       "        vertical-align: middle;\n",
       "    }\n",
       "\n",
       "    .dataframe tbody tr th {\n",
       "        vertical-align: top;\n",
       "    }\n",
       "\n",
       "    .dataframe thead th {\n",
       "        text-align: right;\n",
       "    }\n",
       "</style>\n",
       "<table border=\"1\" class=\"dataframe\">\n",
       "  <thead>\n",
       "    <tr style=\"text-align: right;\">\n",
       "      <th></th>\n",
       "      <th>product_name</th>\n",
       "      <th>total_quantity</th>\n",
       "      <th>total_sum</th>\n",
       "      <th>perc_total_quantity</th>\n",
       "      <th>cum_sum_quantity</th>\n",
       "      <th>abc_quantity</th>\n",
       "      <th>perc_total_sum</th>\n",
       "      <th>cum_sum_total_sum</th>\n",
       "      <th>abc_sum</th>\n",
       "    </tr>\n",
       "  </thead>\n",
       "  <tbody>\n",
       "    <tr>\n",
       "      <th>854</th>\n",
       "      <td>Canon imageCLASS 2200 Advanced Copier</td>\n",
       "      <td>20</td>\n",
       "      <td>61599.824</td>\n",
       "      <td>0.001</td>\n",
       "      <td>0.688</td>\n",
       "      <td>A</td>\n",
       "      <td>0.026</td>\n",
       "      <td>0.026</td>\n",
       "      <td>A</td>\n",
       "    </tr>\n",
       "    <tr>\n",
       "      <th>317</th>\n",
       "      <td>Fellowes PB500 Electric Punch Plastic Comb Bin...</td>\n",
       "      <td>31</td>\n",
       "      <td>27453.384</td>\n",
       "      <td>0.001</td>\n",
       "      <td>0.342</td>\n",
       "      <td>A</td>\n",
       "      <td>0.012</td>\n",
       "      <td>0.038</td>\n",
       "      <td>A</td>\n",
       "    </tr>\n",
       "    <tr>\n",
       "      <th>1681</th>\n",
       "      <td>Cisco TelePresence System EX90 Videoconferenci...</td>\n",
       "      <td>6</td>\n",
       "      <td>22638.480</td>\n",
       "      <td>0.000</td>\n",
       "      <td>0.982</td>\n",
       "      <td>C</td>\n",
       "      <td>0.010</td>\n",
       "      <td>0.048</td>\n",
       "      <td>A</td>\n",
       "    </tr>\n",
       "    <tr>\n",
       "      <th>145</th>\n",
       "      <td>HON 5400 Series Task Chairs for Big and Tall</td>\n",
       "      <td>39</td>\n",
       "      <td>21870.576</td>\n",
       "      <td>0.001</td>\n",
       "      <td>0.189</td>\n",
       "      <td>A</td>\n",
       "      <td>0.009</td>\n",
       "      <td>0.057</td>\n",
       "      <td>A</td>\n",
       "    </tr>\n",
       "    <tr>\n",
       "      <th>177</th>\n",
       "      <td>GBC DocuBind TL300 Electric Binding System</td>\n",
       "      <td>37</td>\n",
       "      <td>19823.479</td>\n",
       "      <td>0.001</td>\n",
       "      <td>0.220</td>\n",
       "      <td>A</td>\n",
       "      <td>0.009</td>\n",
       "      <td>0.066</td>\n",
       "      <td>A</td>\n",
       "    </tr>\n",
       "    <tr>\n",
       "      <th>...</th>\n",
       "      <td>...</td>\n",
       "      <td>...</td>\n",
       "      <td>...</td>\n",
       "      <td>...</td>\n",
       "      <td>...</td>\n",
       "      <td>...</td>\n",
       "      <td>...</td>\n",
       "      <td>...</td>\n",
       "      <td>...</td>\n",
       "    </tr>\n",
       "    <tr>\n",
       "      <th>1839</th>\n",
       "      <td>Avery Hi-Liter Pen Style Six-Color Fluorescent...</td>\n",
       "      <td>2</td>\n",
       "      <td>7.700</td>\n",
       "      <td>0.000</td>\n",
       "      <td>1.000</td>\n",
       "      <td>C</td>\n",
       "      <td>0.000</td>\n",
       "      <td>1.000</td>\n",
       "      <td>C</td>\n",
       "    </tr>\n",
       "    <tr>\n",
       "      <th>1829</th>\n",
       "      <td>Grip Seal Envelopes</td>\n",
       "      <td>2</td>\n",
       "      <td>7.072</td>\n",
       "      <td>0.000</td>\n",
       "      <td>0.999</td>\n",
       "      <td>C</td>\n",
       "      <td>0.000</td>\n",
       "      <td>1.000</td>\n",
       "      <td>C</td>\n",
       "    </tr>\n",
       "    <tr>\n",
       "      <th>1847</th>\n",
       "      <td>Xerox 20</td>\n",
       "      <td>1</td>\n",
       "      <td>6.480</td>\n",
       "      <td>0.000</td>\n",
       "      <td>1.000</td>\n",
       "      <td>C</td>\n",
       "      <td>0.000</td>\n",
       "      <td>1.000</td>\n",
       "      <td>C</td>\n",
       "    </tr>\n",
       "    <tr>\n",
       "      <th>1827</th>\n",
       "      <td>Avery 5</td>\n",
       "      <td>2</td>\n",
       "      <td>5.760</td>\n",
       "      <td>0.000</td>\n",
       "      <td>0.999</td>\n",
       "      <td>C</td>\n",
       "      <td>0.000</td>\n",
       "      <td>1.000</td>\n",
       "      <td>C</td>\n",
       "    </tr>\n",
       "    <tr>\n",
       "      <th>1841</th>\n",
       "      <td>Eureka Disposable Bags for Sanitaire Vibra Gro...</td>\n",
       "      <td>2</td>\n",
       "      <td>1.624</td>\n",
       "      <td>0.000</td>\n",
       "      <td>1.000</td>\n",
       "      <td>C</td>\n",
       "      <td>0.000</td>\n",
       "      <td>1.000</td>\n",
       "      <td>C</td>\n",
       "    </tr>\n",
       "  </tbody>\n",
       "</table>\n",
       "<p>1849 rows × 9 columns</p>\n",
       "</div>"
      ],
      "text/plain": [
       "                                           product_name  total_quantity  \\\n",
       "854               Canon imageCLASS 2200 Advanced Copier              20   \n",
       "317   Fellowes PB500 Electric Punch Plastic Comb Bin...              31   \n",
       "1681  Cisco TelePresence System EX90 Videoconferenci...               6   \n",
       "145        HON 5400 Series Task Chairs for Big and Tall              39   \n",
       "177          GBC DocuBind TL300 Electric Binding System              37   \n",
       "...                                                 ...             ...   \n",
       "1839  Avery Hi-Liter Pen Style Six-Color Fluorescent...               2   \n",
       "1829                                Grip Seal Envelopes               2   \n",
       "1847                                           Xerox 20               1   \n",
       "1827                                            Avery 5               2   \n",
       "1841  Eureka Disposable Bags for Sanitaire Vibra Gro...               2   \n",
       "\n",
       "      total_sum  perc_total_quantity  cum_sum_quantity abc_quantity  \\\n",
       "854   61599.824                0.001             0.688            A   \n",
       "317   27453.384                0.001             0.342            A   \n",
       "1681  22638.480                0.000             0.982            C   \n",
       "145   21870.576                0.001             0.189            A   \n",
       "177   19823.479                0.001             0.220            A   \n",
       "...         ...                  ...               ...          ...   \n",
       "1839      7.700                0.000             1.000            C   \n",
       "1829      7.072                0.000             0.999            C   \n",
       "1847      6.480                0.000             1.000            C   \n",
       "1827      5.760                0.000             0.999            C   \n",
       "1841      1.624                0.000             1.000            C   \n",
       "\n",
       "      perc_total_sum  cum_sum_total_sum abc_sum  \n",
       "854            0.026              0.026       A  \n",
       "317            0.012              0.038       A  \n",
       "1681           0.010              0.048       A  \n",
       "145            0.009              0.057       A  \n",
       "177            0.009              0.066       A  \n",
       "...              ...                ...     ...  \n",
       "1839           0.000              1.000       C  \n",
       "1829           0.000              1.000       C  \n",
       "1847           0.000              1.000       C  \n",
       "1827           0.000              1.000       C  \n",
       "1841           0.000              1.000       C  \n",
       "\n",
       "[1849 rows x 9 columns]"
      ]
     },
     "execution_count": 49,
     "metadata": {},
     "output_type": "execute_result"
    }
   ],
   "source": [
    "groupped_df"
   ]
  },
  {
   "cell_type": "markdown",
   "id": "324c44c7-e4ca-41ff-8bb9-7d59767b6715",
   "metadata": {},
   "source": [
    "### 7. Комбинированная категория"
   ]
  },
  {
   "cell_type": "markdown",
   "id": "ce7772ff-3e15-4e06-9faf-79fd42a2273e",
   "metadata": {},
   "source": [
    "**Создаю столбец `abc_combo` - это позволит быстро находить, например, товары \"AA\", \"AB\", \"BC\" и т.д.**"
   ]
  },
  {
   "cell_type": "code",
   "execution_count": 51,
   "id": "e19c1d9a-76d6-40d8-a7ae-df13be76cff6",
   "metadata": {},
   "outputs": [],
   "source": [
    "groupped_df['abc_combo'] = groupped_df['abc_quantity'] + groupped_df['abc_sum']"
   ]
  },
  {
   "cell_type": "markdown",
   "id": "98686000-06b0-4b94-b21b-b516cc8854a3",
   "metadata": {},
   "source": [
    "### 8. Финальный датасет"
   ]
  },
  {
   "cell_type": "markdown",
   "id": "62e588a6-0419-4db3-9433-ac0d2efdf5d1",
   "metadata": {},
   "source": [
    "**Оставляю только нужные столбцы**"
   ]
  },
  {
   "cell_type": "code",
   "execution_count": 53,
   "id": "4e361d55-3f30-4b43-88a0-7d11f52d29ee",
   "metadata": {},
   "outputs": [],
   "source": [
    "result = groupped_df[['product_name', 'total_quantity', 'total_sum', 'abc_quantity', 'abc_sum', 'abc_combo']].copy()"
   ]
  },
  {
   "cell_type": "code",
   "execution_count": 55,
   "id": "73096f81-3327-4462-9685-9e4d02f46883",
   "metadata": {},
   "outputs": [],
   "source": [
    "result = result.reset_index(drop=True)"
   ]
  },
  {
   "cell_type": "code",
   "execution_count": 57,
   "id": "d5257b05-0d4d-4ffe-b109-57f1146961fd",
   "metadata": {},
   "outputs": [],
   "source": [
    "result[['total_quantity', 'total_sum']] = result[['total_quantity', 'total_sum']].astype('int')"
   ]
  },
  {
   "cell_type": "code",
   "execution_count": 59,
   "id": "479c19ba-3358-48d9-ab15-64cf5e56fb3e",
   "metadata": {},
   "outputs": [
    {
     "data": {
      "text/html": [
       "<div>\n",
       "<style scoped>\n",
       "    .dataframe tbody tr th:only-of-type {\n",
       "        vertical-align: middle;\n",
       "    }\n",
       "\n",
       "    .dataframe tbody tr th {\n",
       "        vertical-align: top;\n",
       "    }\n",
       "\n",
       "    .dataframe thead th {\n",
       "        text-align: right;\n",
       "    }\n",
       "</style>\n",
       "<table border=\"1\" class=\"dataframe\">\n",
       "  <thead>\n",
       "    <tr style=\"text-align: right;\">\n",
       "      <th></th>\n",
       "      <th>product_name</th>\n",
       "      <th>total_quantity</th>\n",
       "      <th>total_sum</th>\n",
       "      <th>abc_quantity</th>\n",
       "      <th>abc_sum</th>\n",
       "      <th>abc_combo</th>\n",
       "    </tr>\n",
       "  </thead>\n",
       "  <tbody>\n",
       "    <tr>\n",
       "      <th>0</th>\n",
       "      <td>Canon imageCLASS 2200 Advanced Copier</td>\n",
       "      <td>20</td>\n",
       "      <td>61599</td>\n",
       "      <td>A</td>\n",
       "      <td>A</td>\n",
       "      <td>AA</td>\n",
       "    </tr>\n",
       "    <tr>\n",
       "      <th>1</th>\n",
       "      <td>Fellowes PB500 Electric Punch Plastic Comb Bin...</td>\n",
       "      <td>31</td>\n",
       "      <td>27453</td>\n",
       "      <td>A</td>\n",
       "      <td>A</td>\n",
       "      <td>AA</td>\n",
       "    </tr>\n",
       "    <tr>\n",
       "      <th>2</th>\n",
       "      <td>Cisco TelePresence System EX90 Videoconferenci...</td>\n",
       "      <td>6</td>\n",
       "      <td>22638</td>\n",
       "      <td>C</td>\n",
       "      <td>A</td>\n",
       "      <td>CA</td>\n",
       "    </tr>\n",
       "    <tr>\n",
       "      <th>3</th>\n",
       "      <td>HON 5400 Series Task Chairs for Big and Tall</td>\n",
       "      <td>39</td>\n",
       "      <td>21870</td>\n",
       "      <td>A</td>\n",
       "      <td>A</td>\n",
       "      <td>AA</td>\n",
       "    </tr>\n",
       "    <tr>\n",
       "      <th>4</th>\n",
       "      <td>GBC DocuBind TL300 Electric Binding System</td>\n",
       "      <td>37</td>\n",
       "      <td>19823</td>\n",
       "      <td>A</td>\n",
       "      <td>A</td>\n",
       "      <td>AA</td>\n",
       "    </tr>\n",
       "    <tr>\n",
       "      <th>...</th>\n",
       "      <td>...</td>\n",
       "      <td>...</td>\n",
       "      <td>...</td>\n",
       "      <td>...</td>\n",
       "      <td>...</td>\n",
       "      <td>...</td>\n",
       "    </tr>\n",
       "    <tr>\n",
       "      <th>1844</th>\n",
       "      <td>Avery Hi-Liter Pen Style Six-Color Fluorescent...</td>\n",
       "      <td>2</td>\n",
       "      <td>7</td>\n",
       "      <td>C</td>\n",
       "      <td>C</td>\n",
       "      <td>CC</td>\n",
       "    </tr>\n",
       "    <tr>\n",
       "      <th>1845</th>\n",
       "      <td>Grip Seal Envelopes</td>\n",
       "      <td>2</td>\n",
       "      <td>7</td>\n",
       "      <td>C</td>\n",
       "      <td>C</td>\n",
       "      <td>CC</td>\n",
       "    </tr>\n",
       "    <tr>\n",
       "      <th>1846</th>\n",
       "      <td>Xerox 20</td>\n",
       "      <td>1</td>\n",
       "      <td>6</td>\n",
       "      <td>C</td>\n",
       "      <td>C</td>\n",
       "      <td>CC</td>\n",
       "    </tr>\n",
       "    <tr>\n",
       "      <th>1847</th>\n",
       "      <td>Avery 5</td>\n",
       "      <td>2</td>\n",
       "      <td>5</td>\n",
       "      <td>C</td>\n",
       "      <td>C</td>\n",
       "      <td>CC</td>\n",
       "    </tr>\n",
       "    <tr>\n",
       "      <th>1848</th>\n",
       "      <td>Eureka Disposable Bags for Sanitaire Vibra Gro...</td>\n",
       "      <td>2</td>\n",
       "      <td>1</td>\n",
       "      <td>C</td>\n",
       "      <td>C</td>\n",
       "      <td>CC</td>\n",
       "    </tr>\n",
       "  </tbody>\n",
       "</table>\n",
       "<p>1849 rows × 6 columns</p>\n",
       "</div>"
      ],
      "text/plain": [
       "                                           product_name  total_quantity  \\\n",
       "0                 Canon imageCLASS 2200 Advanced Copier              20   \n",
       "1     Fellowes PB500 Electric Punch Plastic Comb Bin...              31   \n",
       "2     Cisco TelePresence System EX90 Videoconferenci...               6   \n",
       "3          HON 5400 Series Task Chairs for Big and Tall              39   \n",
       "4            GBC DocuBind TL300 Electric Binding System              37   \n",
       "...                                                 ...             ...   \n",
       "1844  Avery Hi-Liter Pen Style Six-Color Fluorescent...               2   \n",
       "1845                                Grip Seal Envelopes               2   \n",
       "1846                                           Xerox 20               1   \n",
       "1847                                            Avery 5               2   \n",
       "1848  Eureka Disposable Bags for Sanitaire Vibra Gro...               2   \n",
       "\n",
       "      total_sum abc_quantity abc_sum abc_combo  \n",
       "0         61599            A       A        AA  \n",
       "1         27453            A       A        AA  \n",
       "2         22638            C       A        CA  \n",
       "3         21870            A       A        AA  \n",
       "4         19823            A       A        AA  \n",
       "...         ...          ...     ...       ...  \n",
       "1844          7            C       C        CC  \n",
       "1845          7            C       C        CC  \n",
       "1846          6            C       C        CC  \n",
       "1847          5            C       C        CC  \n",
       "1848          1            C       C        CC  \n",
       "\n",
       "[1849 rows x 6 columns]"
      ]
     },
     "execution_count": 59,
     "metadata": {},
     "output_type": "execute_result"
    }
   ],
   "source": [
    "result"
   ]
  },
  {
   "cell_type": "markdown",
   "id": "7c411806-67e7-4984-8f88-4b2af79c9a2c",
   "metadata": {},
   "source": [
    "## 9. Визуализация результатов 📉"
   ]
  },
  {
   "cell_type": "markdown",
   "id": "0f55bdcc-a0b3-41dc-ae58-b35ab686ce74",
   "metadata": {},
   "source": [
    "#### Интерактивный barplot: Топ-10 товаров из группы \"A\" по сумме продаж"
   ]
  },
  {
   "cell_type": "markdown",
   "id": "47d6fc8d-452e-4976-91a2-fdaf0d6ecf60",
   "metadata": {},
   "source": [
    "**На графике показаны 10 товаров из группы \"A\" по сумме продаж — это самые ценные товары для бизнеса.**"
   ]
  },
  {
   "cell_type": "code",
   "execution_count": 145,
   "id": "eb3e10de-7e8e-4a7d-8781-dae636a242c2",
   "metadata": {},
   "outputs": [
    {
     "data": {
      "application/vnd.plotly.v1+json": {
       "config": {
        "plotlyServerURL": "https://plot.ly"
       },
       "data": [
        {
         "alignmentgroup": "True",
         "hovertemplate": "Сумма продаж=%{marker.color}<br>Товар=%{y}<extra></extra>",
         "legendgroup": "",
         "marker": {
          "color": [
           61599,
           27453,
           22638,
           21870,
           19823,
           19024,
           18839,
           18374,
           17965,
           17030
          ],
          "coloraxis": "coloraxis",
          "pattern": {
           "shape": ""
          }
         },
         "name": "",
         "offsetgroup": "",
         "orientation": "h",
         "showlegend": false,
         "textposition": "auto",
         "type": "bar",
         "x": [
          61599,
          27453,
          22638,
          21870,
          19823,
          19024,
          18839,
          18374,
          17965,
          17030
         ],
         "xaxis": "x",
         "y": [
          "Canon imageCLASS 2200 Advanced Copier",
          "Fellowes PB500 Electric Punch Plastic Comb Binding Machine with Manual Bind",
          "Cisco TelePresence System EX90 Videoconferencing Unit",
          "HON 5400 Series Task Chairs for Big and Tall",
          "GBC DocuBind TL300 Electric Binding System",
          "GBC Ibimaster 500 Manual ProClick Binding System",
          "Hewlett Packard LaserJet 3310 Copier",
          "HP Designjet T520 Inkjet Large Format Printer - 24\" Color",
          "GBC DocuBind P400 Electric Binding System",
          "High Speed Automatic Electric Letter Opener"
         ],
         "yaxis": "y"
        }
       ],
       "layout": {
        "autosize": true,
        "barmode": "relative",
        "coloraxis": {
         "colorbar": {
          "title": {
           "text": "Сумма продаж"
          }
         },
         "colorscale": [
          [
           0,
           "#440154"
          ],
          [
           0.1111111111111111,
           "#482878"
          ],
          [
           0.2222222222222222,
           "#3e4989"
          ],
          [
           0.3333333333333333,
           "#31688e"
          ],
          [
           0.4444444444444444,
           "#26828e"
          ],
          [
           0.5555555555555556,
           "#1f9e89"
          ],
          [
           0.6666666666666666,
           "#35b779"
          ],
          [
           0.7777777777777778,
           "#6ece58"
          ],
          [
           0.8888888888888888,
           "#b5de2b"
          ],
          [
           1,
           "#fde725"
          ]
         ]
        },
        "legend": {
         "tracegroupgap": 0
        },
        "template": {
         "data": {
          "bar": [
           {
            "error_x": {
             "color": "#2a3f5f"
            },
            "error_y": {
             "color": "#2a3f5f"
            },
            "marker": {
             "line": {
              "color": "#E5ECF6",
              "width": 0.5
             },
             "pattern": {
              "fillmode": "overlay",
              "size": 10,
              "solidity": 0.2
             }
            },
            "type": "bar"
           }
          ],
          "barpolar": [
           {
            "marker": {
             "line": {
              "color": "#E5ECF6",
              "width": 0.5
             },
             "pattern": {
              "fillmode": "overlay",
              "size": 10,
              "solidity": 0.2
             }
            },
            "type": "barpolar"
           }
          ],
          "carpet": [
           {
            "aaxis": {
             "endlinecolor": "#2a3f5f",
             "gridcolor": "white",
             "linecolor": "white",
             "minorgridcolor": "white",
             "startlinecolor": "#2a3f5f"
            },
            "baxis": {
             "endlinecolor": "#2a3f5f",
             "gridcolor": "white",
             "linecolor": "white",
             "minorgridcolor": "white",
             "startlinecolor": "#2a3f5f"
            },
            "type": "carpet"
           }
          ],
          "choropleth": [
           {
            "colorbar": {
             "outlinewidth": 0,
             "ticks": ""
            },
            "type": "choropleth"
           }
          ],
          "contour": [
           {
            "colorbar": {
             "outlinewidth": 0,
             "ticks": ""
            },
            "colorscale": [
             [
              0,
              "#0d0887"
             ],
             [
              0.1111111111111111,
              "#46039f"
             ],
             [
              0.2222222222222222,
              "#7201a8"
             ],
             [
              0.3333333333333333,
              "#9c179e"
             ],
             [
              0.4444444444444444,
              "#bd3786"
             ],
             [
              0.5555555555555556,
              "#d8576b"
             ],
             [
              0.6666666666666666,
              "#ed7953"
             ],
             [
              0.7777777777777778,
              "#fb9f3a"
             ],
             [
              0.8888888888888888,
              "#fdca26"
             ],
             [
              1,
              "#f0f921"
             ]
            ],
            "type": "contour"
           }
          ],
          "contourcarpet": [
           {
            "colorbar": {
             "outlinewidth": 0,
             "ticks": ""
            },
            "type": "contourcarpet"
           }
          ],
          "heatmap": [
           {
            "colorbar": {
             "outlinewidth": 0,
             "ticks": ""
            },
            "colorscale": [
             [
              0,
              "#0d0887"
             ],
             [
              0.1111111111111111,
              "#46039f"
             ],
             [
              0.2222222222222222,
              "#7201a8"
             ],
             [
              0.3333333333333333,
              "#9c179e"
             ],
             [
              0.4444444444444444,
              "#bd3786"
             ],
             [
              0.5555555555555556,
              "#d8576b"
             ],
             [
              0.6666666666666666,
              "#ed7953"
             ],
             [
              0.7777777777777778,
              "#fb9f3a"
             ],
             [
              0.8888888888888888,
              "#fdca26"
             ],
             [
              1,
              "#f0f921"
             ]
            ],
            "type": "heatmap"
           }
          ],
          "heatmapgl": [
           {
            "colorbar": {
             "outlinewidth": 0,
             "ticks": ""
            },
            "colorscale": [
             [
              0,
              "#0d0887"
             ],
             [
              0.1111111111111111,
              "#46039f"
             ],
             [
              0.2222222222222222,
              "#7201a8"
             ],
             [
              0.3333333333333333,
              "#9c179e"
             ],
             [
              0.4444444444444444,
              "#bd3786"
             ],
             [
              0.5555555555555556,
              "#d8576b"
             ],
             [
              0.6666666666666666,
              "#ed7953"
             ],
             [
              0.7777777777777778,
              "#fb9f3a"
             ],
             [
              0.8888888888888888,
              "#fdca26"
             ],
             [
              1,
              "#f0f921"
             ]
            ],
            "type": "heatmapgl"
           }
          ],
          "histogram": [
           {
            "marker": {
             "pattern": {
              "fillmode": "overlay",
              "size": 10,
              "solidity": 0.2
             }
            },
            "type": "histogram"
           }
          ],
          "histogram2d": [
           {
            "colorbar": {
             "outlinewidth": 0,
             "ticks": ""
            },
            "colorscale": [
             [
              0,
              "#0d0887"
             ],
             [
              0.1111111111111111,
              "#46039f"
             ],
             [
              0.2222222222222222,
              "#7201a8"
             ],
             [
              0.3333333333333333,
              "#9c179e"
             ],
             [
              0.4444444444444444,
              "#bd3786"
             ],
             [
              0.5555555555555556,
              "#d8576b"
             ],
             [
              0.6666666666666666,
              "#ed7953"
             ],
             [
              0.7777777777777778,
              "#fb9f3a"
             ],
             [
              0.8888888888888888,
              "#fdca26"
             ],
             [
              1,
              "#f0f921"
             ]
            ],
            "type": "histogram2d"
           }
          ],
          "histogram2dcontour": [
           {
            "colorbar": {
             "outlinewidth": 0,
             "ticks": ""
            },
            "colorscale": [
             [
              0,
              "#0d0887"
             ],
             [
              0.1111111111111111,
              "#46039f"
             ],
             [
              0.2222222222222222,
              "#7201a8"
             ],
             [
              0.3333333333333333,
              "#9c179e"
             ],
             [
              0.4444444444444444,
              "#bd3786"
             ],
             [
              0.5555555555555556,
              "#d8576b"
             ],
             [
              0.6666666666666666,
              "#ed7953"
             ],
             [
              0.7777777777777778,
              "#fb9f3a"
             ],
             [
              0.8888888888888888,
              "#fdca26"
             ],
             [
              1,
              "#f0f921"
             ]
            ],
            "type": "histogram2dcontour"
           }
          ],
          "mesh3d": [
           {
            "colorbar": {
             "outlinewidth": 0,
             "ticks": ""
            },
            "type": "mesh3d"
           }
          ],
          "parcoords": [
           {
            "line": {
             "colorbar": {
              "outlinewidth": 0,
              "ticks": ""
             }
            },
            "type": "parcoords"
           }
          ],
          "pie": [
           {
            "automargin": true,
            "type": "pie"
           }
          ],
          "scatter": [
           {
            "fillpattern": {
             "fillmode": "overlay",
             "size": 10,
             "solidity": 0.2
            },
            "type": "scatter"
           }
          ],
          "scatter3d": [
           {
            "line": {
             "colorbar": {
              "outlinewidth": 0,
              "ticks": ""
             }
            },
            "marker": {
             "colorbar": {
              "outlinewidth": 0,
              "ticks": ""
             }
            },
            "type": "scatter3d"
           }
          ],
          "scattercarpet": [
           {
            "marker": {
             "colorbar": {
              "outlinewidth": 0,
              "ticks": ""
             }
            },
            "type": "scattercarpet"
           }
          ],
          "scattergeo": [
           {
            "marker": {
             "colorbar": {
              "outlinewidth": 0,
              "ticks": ""
             }
            },
            "type": "scattergeo"
           }
          ],
          "scattergl": [
           {
            "marker": {
             "colorbar": {
              "outlinewidth": 0,
              "ticks": ""
             }
            },
            "type": "scattergl"
           }
          ],
          "scattermapbox": [
           {
            "marker": {
             "colorbar": {
              "outlinewidth": 0,
              "ticks": ""
             }
            },
            "type": "scattermapbox"
           }
          ],
          "scatterpolar": [
           {
            "marker": {
             "colorbar": {
              "outlinewidth": 0,
              "ticks": ""
             }
            },
            "type": "scatterpolar"
           }
          ],
          "scatterpolargl": [
           {
            "marker": {
             "colorbar": {
              "outlinewidth": 0,
              "ticks": ""
             }
            },
            "type": "scatterpolargl"
           }
          ],
          "scatterternary": [
           {
            "marker": {
             "colorbar": {
              "outlinewidth": 0,
              "ticks": ""
             }
            },
            "type": "scatterternary"
           }
          ],
          "surface": [
           {
            "colorbar": {
             "outlinewidth": 0,
             "ticks": ""
            },
            "colorscale": [
             [
              0,
              "#0d0887"
             ],
             [
              0.1111111111111111,
              "#46039f"
             ],
             [
              0.2222222222222222,
              "#7201a8"
             ],
             [
              0.3333333333333333,
              "#9c179e"
             ],
             [
              0.4444444444444444,
              "#bd3786"
             ],
             [
              0.5555555555555556,
              "#d8576b"
             ],
             [
              0.6666666666666666,
              "#ed7953"
             ],
             [
              0.7777777777777778,
              "#fb9f3a"
             ],
             [
              0.8888888888888888,
              "#fdca26"
             ],
             [
              1,
              "#f0f921"
             ]
            ],
            "type": "surface"
           }
          ],
          "table": [
           {
            "cells": {
             "fill": {
              "color": "#EBF0F8"
             },
             "line": {
              "color": "white"
             }
            },
            "header": {
             "fill": {
              "color": "#C8D4E3"
             },
             "line": {
              "color": "white"
             }
            },
            "type": "table"
           }
          ]
         },
         "layout": {
          "annotationdefaults": {
           "arrowcolor": "#2a3f5f",
           "arrowhead": 0,
           "arrowwidth": 1
          },
          "autotypenumbers": "strict",
          "coloraxis": {
           "colorbar": {
            "outlinewidth": 0,
            "ticks": ""
           }
          },
          "colorscale": {
           "diverging": [
            [
             0,
             "#8e0152"
            ],
            [
             0.1,
             "#c51b7d"
            ],
            [
             0.2,
             "#de77ae"
            ],
            [
             0.3,
             "#f1b6da"
            ],
            [
             0.4,
             "#fde0ef"
            ],
            [
             0.5,
             "#f7f7f7"
            ],
            [
             0.6,
             "#e6f5d0"
            ],
            [
             0.7,
             "#b8e186"
            ],
            [
             0.8,
             "#7fbc41"
            ],
            [
             0.9,
             "#4d9221"
            ],
            [
             1,
             "#276419"
            ]
           ],
           "sequential": [
            [
             0,
             "#0d0887"
            ],
            [
             0.1111111111111111,
             "#46039f"
            ],
            [
             0.2222222222222222,
             "#7201a8"
            ],
            [
             0.3333333333333333,
             "#9c179e"
            ],
            [
             0.4444444444444444,
             "#bd3786"
            ],
            [
             0.5555555555555556,
             "#d8576b"
            ],
            [
             0.6666666666666666,
             "#ed7953"
            ],
            [
             0.7777777777777778,
             "#fb9f3a"
            ],
            [
             0.8888888888888888,
             "#fdca26"
            ],
            [
             1,
             "#f0f921"
            ]
           ],
           "sequentialminus": [
            [
             0,
             "#0d0887"
            ],
            [
             0.1111111111111111,
             "#46039f"
            ],
            [
             0.2222222222222222,
             "#7201a8"
            ],
            [
             0.3333333333333333,
             "#9c179e"
            ],
            [
             0.4444444444444444,
             "#bd3786"
            ],
            [
             0.5555555555555556,
             "#d8576b"
            ],
            [
             0.6666666666666666,
             "#ed7953"
            ],
            [
             0.7777777777777778,
             "#fb9f3a"
            ],
            [
             0.8888888888888888,
             "#fdca26"
            ],
            [
             1,
             "#f0f921"
            ]
           ]
          },
          "colorway": [
           "#636efa",
           "#EF553B",
           "#00cc96",
           "#ab63fa",
           "#FFA15A",
           "#19d3f3",
           "#FF6692",
           "#B6E880",
           "#FF97FF",
           "#FECB52"
          ],
          "font": {
           "color": "#2a3f5f"
          },
          "geo": {
           "bgcolor": "white",
           "lakecolor": "white",
           "landcolor": "#E5ECF6",
           "showlakes": true,
           "showland": true,
           "subunitcolor": "white"
          },
          "hoverlabel": {
           "align": "left"
          },
          "hovermode": "closest",
          "mapbox": {
           "style": "light"
          },
          "paper_bgcolor": "white",
          "plot_bgcolor": "#E5ECF6",
          "polar": {
           "angularaxis": {
            "gridcolor": "white",
            "linecolor": "white",
            "ticks": ""
           },
           "bgcolor": "#E5ECF6",
           "radialaxis": {
            "gridcolor": "white",
            "linecolor": "white",
            "ticks": ""
           }
          },
          "scene": {
           "xaxis": {
            "backgroundcolor": "#E5ECF6",
            "gridcolor": "white",
            "gridwidth": 2,
            "linecolor": "white",
            "showbackground": true,
            "ticks": "",
            "zerolinecolor": "white"
           },
           "yaxis": {
            "backgroundcolor": "#E5ECF6",
            "gridcolor": "white",
            "gridwidth": 2,
            "linecolor": "white",
            "showbackground": true,
            "ticks": "",
            "zerolinecolor": "white"
           },
           "zaxis": {
            "backgroundcolor": "#E5ECF6",
            "gridcolor": "white",
            "gridwidth": 2,
            "linecolor": "white",
            "showbackground": true,
            "ticks": "",
            "zerolinecolor": "white"
           }
          },
          "shapedefaults": {
           "line": {
            "color": "#2a3f5f"
           }
          },
          "ternary": {
           "aaxis": {
            "gridcolor": "white",
            "linecolor": "white",
            "ticks": ""
           },
           "baxis": {
            "gridcolor": "white",
            "linecolor": "white",
            "ticks": ""
           },
           "bgcolor": "#E5ECF6",
           "caxis": {
            "gridcolor": "white",
            "linecolor": "white",
            "ticks": ""
           }
          },
          "title": {
           "x": 0.05
          },
          "xaxis": {
           "automargin": true,
           "gridcolor": "white",
           "linecolor": "white",
           "ticks": "",
           "title": {
            "standoff": 15
           },
           "zerolinecolor": "white",
           "zerolinewidth": 2
          },
          "yaxis": {
           "automargin": true,
           "gridcolor": "white",
           "linecolor": "white",
           "ticks": "",
           "title": {
            "standoff": 15
           },
           "zerolinecolor": "white",
           "zerolinewidth": 2
          }
         }
        },
        "title": {
         "text": "Топ-10 товаров из группы \"A\" по сумме продаж"
        },
        "xaxis": {
         "anchor": "y",
         "autorange": true,
         "domain": [
          0,
          1
         ],
         "range": [
          0,
          64841.05263157895
         ],
         "title": {
          "text": "Сумма продаж"
         },
         "type": "linear"
        },
        "yaxis": {
         "anchor": "x",
         "autorange": true,
         "categoryorder": "total ascending",
         "domain": [
          0,
          1
         ],
         "range": [
          -0.5,
          9.5
         ],
         "title": {
          "text": "Товар"
         },
         "type": "category"
        }
       }
      },
      "image/png": "[encoded data removed]",
      "text/html": [
       "<div>                            <div id=\"807944f1-fcfb-4231-a4ba-c2fd233118c7\" class=\"plotly-graph-div\" style=\"height:450px; width:100%;\"></div>            <script type=\"text/javascript\">                require([\"plotly\"], function(Plotly) {                    window.PLOTLYENV=window.PLOTLYENV || {};                                    if (document.getElementById(\"807944f1-fcfb-4231-a4ba-c2fd233118c7\")) {                    Plotly.newPlot(                        \"807944f1-fcfb-4231-a4ba-c2fd233118c7\",                        [{\"alignmentgroup\":\"True\",\"hovertemplate\":\"\\u0421\\u0443\\u043c\\u043c\\u0430 \\u043f\\u0440\\u043e\\u0434\\u0430\\u0436=%{marker.color}\\u003cbr\\u003e\\u0422\\u043e\\u0432\\u0430\\u0440=%{y}\\u003cextra\\u003e\\u003c\\u002fextra\\u003e\",\"legendgroup\":\"\",\"marker\":{\"color\":[61599,27453,22638,21870,19823,19024,18839,18374,17965,17030],\"coloraxis\":\"coloraxis\",\"pattern\":{\"shape\":\"\"}},\"name\":\"\",\"offsetgroup\":\"\",\"orientation\":\"h\",\"showlegend\":false,\"textposition\":\"auto\",\"x\":[61599,27453,22638,21870,19823,19024,18839,18374,17965,17030],\"xaxis\":\"x\",\"y\":[\"Canon imageCLASS 2200 Advanced Copier\",\"Fellowes PB500 Electric Punch Plastic Comb Binding Machine with Manual Bind\",\"Cisco TelePresence System EX90 Videoconferencing Unit\",\"HON 5400 Series Task Chairs for Big and Tall\",\"GBC DocuBind TL300 Electric Binding System\",\"GBC Ibimaster 500 Manual ProClick Binding System\",\"Hewlett Packard LaserJet 3310 Copier\",\"HP Designjet T520 Inkjet Large Format Printer - 24\\\" Color\",\"GBC DocuBind P400 Electric Binding System\",\"High Speed Automatic Electric Letter Opener\"],\"yaxis\":\"y\",\"type\":\"bar\"}],                        {\"template\":{\"data\":{\"histogram2dcontour\":[{\"type\":\"histogram2dcontour\",\"colorbar\":{\"outlinewidth\":0,\"ticks\":\"\"},\"colorscale\":[[0.0,\"#0d0887\"],[0.1111111111111111,\"#46039f\"],[0.2222222222222222,\"#7201a8\"],[0.3333333333333333,\"#9c179e\"],[0.4444444444444444,\"#bd3786\"],[0.5555555555555556,\"#d8576b\"],[0.6666666666666666,\"#ed7953\"],[0.7777777777777778,\"#fb9f3a\"],[0.8888888888888888,\"#fdca26\"],[1.0,\"#f0f921\"]]}],\"choropleth\":[{\"type\":\"choropleth\",\"colorbar\":{\"outlinewidth\":0,\"ticks\":\"\"}}],\"histogram2d\":[{\"type\":\"histogram2d\",\"colorbar\":{\"outlinewidth\":0,\"ticks\":\"\"},\"colorscale\":[[0.0,\"#0d0887\"],[0.1111111111111111,\"#46039f\"],[0.2222222222222222,\"#7201a8\"],[0.3333333333333333,\"#9c179e\"],[0.4444444444444444,\"#bd3786\"],[0.5555555555555556,\"#d8576b\"],[0.6666666666666666,\"#ed7953\"],[0.7777777777777778,\"#fb9f3a\"],[0.8888888888888888,\"#fdca26\"],[1.0,\"#f0f921\"]]}],\"heatmap\":[{\"type\":\"heatmap\",\"colorbar\":{\"outlinewidth\":0,\"ticks\":\"\"},\"colorscale\":[[0.0,\"#0d0887\"],[0.1111111111111111,\"#46039f\"],[0.2222222222222222,\"#7201a8\"],[0.3333333333333333,\"#9c179e\"],[0.4444444444444444,\"#bd3786\"],[0.5555555555555556,\"#d8576b\"],[0.6666666666666666,\"#ed7953\"],[0.7777777777777778,\"#fb9f3a\"],[0.8888888888888888,\"#fdca26\"],[1.0,\"#f0f921\"]]}],\"heatmapgl\":[{\"type\":\"heatmapgl\",\"colorbar\":{\"outlinewidth\":0,\"ticks\":\"\"},\"colorscale\":[[0.0,\"#0d0887\"],[0.1111111111111111,\"#46039f\"],[0.2222222222222222,\"#7201a8\"],[0.3333333333333333,\"#9c179e\"],[0.4444444444444444,\"#bd3786\"],[0.5555555555555556,\"#d8576b\"],[0.6666666666666666,\"#ed7953\"],[0.7777777777777778,\"#fb9f3a\"],[0.8888888888888888,\"#fdca26\"],[1.0,\"#f0f921\"]]}],\"contourcarpet\":[{\"type\":\"contourcarpet\",\"colorbar\":{\"outlinewidth\":0,\"ticks\":\"\"}}],\"contour\":[{\"type\":\"contour\",\"colorbar\":{\"outlinewidth\":0,\"ticks\":\"\"},\"colorscale\":[[0.0,\"#0d0887\"],[0.1111111111111111,\"#46039f\"],[0.2222222222222222,\"#7201a8\"],[0.3333333333333333,\"#9c179e\"],[0.4444444444444444,\"#bd3786\"],[0.5555555555555556,\"#d8576b\"],[0.6666666666666666,\"#ed7953\"],[0.7777777777777778,\"#fb9f3a\"],[0.8888888888888888,\"#fdca26\"],[1.0,\"#f0f921\"]]}],\"surface\":[{\"type\":\"surface\",\"colorbar\":{\"outlinewidth\":0,\"ticks\":\"\"},\"colorscale\":[[0.0,\"#0d0887\"],[0.1111111111111111,\"#46039f\"],[0.2222222222222222,\"#7201a8\"],[0.3333333333333333,\"#9c179e\"],[0.4444444444444444,\"#bd3786\"],[0.5555555555555556,\"#d8576b\"],[0.6666666666666666,\"#ed7953\"],[0.7777777777777778,\"#fb9f3a\"],[0.8888888888888888,\"#fdca26\"],[1.0,\"#f0f921\"]]}],\"mesh3d\":[{\"type\":\"mesh3d\",\"colorbar\":{\"outlinewidth\":0,\"ticks\":\"\"}}],\"scatter\":[{\"fillpattern\":{\"fillmode\":\"overlay\",\"size\":10,\"solidity\":0.2},\"type\":\"scatter\"}],\"parcoords\":[{\"type\":\"parcoords\",\"line\":{\"colorbar\":{\"outlinewidth\":0,\"ticks\":\"\"}}}],\"scatterpolargl\":[{\"type\":\"scatterpolargl\",\"marker\":{\"colorbar\":{\"outlinewidth\":0,\"ticks\":\"\"}}}],\"bar\":[{\"error_x\":{\"color\":\"#2a3f5f\"},\"error_y\":{\"color\":\"#2a3f5f\"},\"marker\":{\"line\":{\"color\":\"#E5ECF6\",\"width\":0.5},\"pattern\":{\"fillmode\":\"overlay\",\"size\":10,\"solidity\":0.2}},\"type\":\"bar\"}],\"scattergeo\":[{\"type\":\"scattergeo\",\"marker\":{\"colorbar\":{\"outlinewidth\":0,\"ticks\":\"\"}}}],\"scatterpolar\":[{\"type\":\"scatterpolar\",\"marker\":{\"colorbar\":{\"outlinewidth\":0,\"ticks\":\"\"}}}],\"histogram\":[{\"marker\":{\"pattern\":{\"fillmode\":\"overlay\",\"size\":10,\"solidity\":0.2}},\"type\":\"histogram\"}],\"scattergl\":[{\"type\":\"scattergl\",\"marker\":{\"colorbar\":{\"outlinewidth\":0,\"ticks\":\"\"}}}],\"scatter3d\":[{\"type\":\"scatter3d\",\"line\":{\"colorbar\":{\"outlinewidth\":0,\"ticks\":\"\"}},\"marker\":{\"colorbar\":{\"outlinewidth\":0,\"ticks\":\"\"}}}],\"scattermapbox\":[{\"type\":\"scattermapbox\",\"marker\":{\"colorbar\":{\"outlinewidth\":0,\"ticks\":\"\"}}}],\"scatterternary\":[{\"type\":\"scatterternary\",\"marker\":{\"colorbar\":{\"outlinewidth\":0,\"ticks\":\"\"}}}],\"scattercarpet\":[{\"type\":\"scattercarpet\",\"marker\":{\"colorbar\":{\"outlinewidth\":0,\"ticks\":\"\"}}}],\"carpet\":[{\"aaxis\":{\"endlinecolor\":\"#2a3f5f\",\"gridcolor\":\"white\",\"linecolor\":\"white\",\"minorgridcolor\":\"white\",\"startlinecolor\":\"#2a3f5f\"},\"baxis\":{\"endlinecolor\":\"#2a3f5f\",\"gridcolor\":\"white\",\"linecolor\":\"white\",\"minorgridcolor\":\"white\",\"startlinecolor\":\"#2a3f5f\"},\"type\":\"carpet\"}],\"table\":[{\"cells\":{\"fill\":{\"color\":\"#EBF0F8\"},\"line\":{\"color\":\"white\"}},\"header\":{\"fill\":{\"color\":\"#C8D4E3\"},\"line\":{\"color\":\"white\"}},\"type\":\"table\"}],\"barpolar\":[{\"marker\":{\"line\":{\"color\":\"#E5ECF6\",\"width\":0.5},\"pattern\":{\"fillmode\":\"overlay\",\"size\":10,\"solidity\":0.2}},\"type\":\"barpolar\"}],\"pie\":[{\"automargin\":true,\"type\":\"pie\"}]},\"layout\":{\"autotypenumbers\":\"strict\",\"colorway\":[\"#636efa\",\"#EF553B\",\"#00cc96\",\"#ab63fa\",\"#FFA15A\",\"#19d3f3\",\"#FF6692\",\"#B6E880\",\"#FF97FF\",\"#FECB52\"],\"font\":{\"color\":\"#2a3f5f\"},\"hovermode\":\"closest\",\"hoverlabel\":{\"align\":\"left\"},\"paper_bgcolor\":\"white\",\"plot_bgcolor\":\"#E5ECF6\",\"polar\":{\"bgcolor\":\"#E5ECF6\",\"angularaxis\":{\"gridcolor\":\"white\",\"linecolor\":\"white\",\"ticks\":\"\"},\"radialaxis\":{\"gridcolor\":\"white\",\"linecolor\":\"white\",\"ticks\":\"\"}},\"ternary\":{\"bgcolor\":\"#E5ECF6\",\"aaxis\":{\"gridcolor\":\"white\",\"linecolor\":\"white\",\"ticks\":\"\"},\"baxis\":{\"gridcolor\":\"white\",\"linecolor\":\"white\",\"ticks\":\"\"},\"caxis\":{\"gridcolor\":\"white\",\"linecolor\":\"white\",\"ticks\":\"\"}},\"coloraxis\":{\"colorbar\":{\"outlinewidth\":0,\"ticks\":\"\"}},\"colorscale\":{\"sequential\":[[0.0,\"#0d0887\"],[0.1111111111111111,\"#46039f\"],[0.2222222222222222,\"#7201a8\"],[0.3333333333333333,\"#9c179e\"],[0.4444444444444444,\"#bd3786\"],[0.5555555555555556,\"#d8576b\"],[0.6666666666666666,\"#ed7953\"],[0.7777777777777778,\"#fb9f3a\"],[0.8888888888888888,\"#fdca26\"],[1.0,\"#f0f921\"]],\"sequentialminus\":[[0.0,\"#0d0887\"],[0.1111111111111111,\"#46039f\"],[0.2222222222222222,\"#7201a8\"],[0.3333333333333333,\"#9c179e\"],[0.4444444444444444,\"#bd3786\"],[0.5555555555555556,\"#d8576b\"],[0.6666666666666666,\"#ed7953\"],[0.7777777777777778,\"#fb9f3a\"],[0.8888888888888888,\"#fdca26\"],[1.0,\"#f0f921\"]],\"diverging\":[[0,\"#8e0152\"],[0.1,\"#c51b7d\"],[0.2,\"#de77ae\"],[0.3,\"#f1b6da\"],[0.4,\"#fde0ef\"],[0.5,\"#f7f7f7\"],[0.6,\"#e6f5d0\"],[0.7,\"#b8e186\"],[0.8,\"#7fbc41\"],[0.9,\"#4d9221\"],[1,\"#276419\"]]},\"xaxis\":{\"gridcolor\":\"white\",\"linecolor\":\"white\",\"ticks\":\"\",\"title\":{\"standoff\":15},\"zerolinecolor\":\"white\",\"automargin\":true,\"zerolinewidth\":2},\"yaxis\":{\"gridcolor\":\"white\",\"linecolor\":\"white\",\"ticks\":\"\",\"title\":{\"standoff\":15},\"zerolinecolor\":\"white\",\"automargin\":true,\"zerolinewidth\":2},\"scene\":{\"xaxis\":{\"backgroundcolor\":\"#E5ECF6\",\"gridcolor\":\"white\",\"linecolor\":\"white\",\"showbackground\":true,\"ticks\":\"\",\"zerolinecolor\":\"white\",\"gridwidth\":2},\"yaxis\":{\"backgroundcolor\":\"#E5ECF6\",\"gridcolor\":\"white\",\"linecolor\":\"white\",\"showbackground\":true,\"ticks\":\"\",\"zerolinecolor\":\"white\",\"gridwidth\":2},\"zaxis\":{\"backgroundcolor\":\"#E5ECF6\",\"gridcolor\":\"white\",\"linecolor\":\"white\",\"showbackground\":true,\"ticks\":\"\",\"zerolinecolor\":\"white\",\"gridwidth\":2}},\"shapedefaults\":{\"line\":{\"color\":\"#2a3f5f\"}},\"annotationdefaults\":{\"arrowcolor\":\"#2a3f5f\",\"arrowhead\":0,\"arrowwidth\":1},\"geo\":{\"bgcolor\":\"white\",\"landcolor\":\"#E5ECF6\",\"subunitcolor\":\"white\",\"showland\":true,\"showlakes\":true,\"lakecolor\":\"white\"},\"title\":{\"x\":0.05},\"mapbox\":{\"style\":\"light\"}}},\"xaxis\":{\"anchor\":\"y\",\"domain\":[0.0,1.0],\"title\":{\"text\":\"\\u0421\\u0443\\u043c\\u043c\\u0430 \\u043f\\u0440\\u043e\\u0434\\u0430\\u0436\"}},\"yaxis\":{\"anchor\":\"x\",\"domain\":[0.0,1.0],\"title\":{\"text\":\"\\u0422\\u043e\\u0432\\u0430\\u0440\"},\"categoryorder\":\"total ascending\"},\"coloraxis\":{\"colorbar\":{\"title\":{\"text\":\"\\u0421\\u0443\\u043c\\u043c\\u0430 \\u043f\\u0440\\u043e\\u0434\\u0430\\u0436\"}},\"colorscale\":[[0.0,\"#440154\"],[0.1111111111111111,\"#482878\"],[0.2222222222222222,\"#3e4989\"],[0.3333333333333333,\"#31688e\"],[0.4444444444444444,\"#26828e\"],[0.5555555555555556,\"#1f9e89\"],[0.6666666666666666,\"#35b779\"],[0.7777777777777778,\"#6ece58\"],[0.8888888888888888,\"#b5de2b\"],[1.0,\"#fde725\"]]},\"legend\":{\"tracegroupgap\":0},\"title\":{\"text\":\"\\u0422\\u043e\\u043f-10 \\u0442\\u043e\\u0432\\u0430\\u0440\\u043e\\u0432 \\u0438\\u0437 \\u0433\\u0440\\u0443\\u043f\\u043f\\u044b \\\"A\\\" \\u043f\\u043e \\u0441\\u0443\\u043c\\u043c\\u0435 \\u043f\\u0440\\u043e\\u0434\\u0430\\u0436\"},\"barmode\":\"relative\",\"height\":450},                        {\"responsive\": true}                    ).then(function(){\n",
       "                            \n",
       "var gd = document.getElementById('807944f1-fcfb-4231-a4ba-c2fd233118c7');\n",
       "var x = new MutationObserver(function (mutations, observer) {{\n",
       "        var display = window.getComputedStyle(gd).display;\n",
       "        if (!display || display === 'none') {{\n",
       "            console.log([gd, 'removed!']);\n",
       "            Plotly.purge(gd);\n",
       "            observer.disconnect();\n",
       "        }}\n",
       "}});\n",
       "\n",
       "// Listen for the removal of the full notebook cells\n",
       "var notebookContainer = gd.closest('#notebook-container');\n",
       "if (notebookContainer) {{\n",
       "    x.observe(notebookContainer, {childList: true});\n",
       "}}\n",
       "\n",
       "// Listen for the clearing of the current output cell\n",
       "var outputEl = gd.closest('.output');\n",
       "if (outputEl) {{\n",
       "    x.observe(outputEl, {childList: true});\n",
       "}}\n",
       "\n",
       "                        })                };                });            </script>        </div>"
      ]
     },
     "metadata": {},
     "output_type": "display_data"
    }
   ],
   "source": [
    "top_a = result[result['abc_sum'] == 'A'].sort_values(by='total_sum', ascending=False).head(10)\n",
    "fig = px.bar(\n",
    "    top_a, \n",
    "    x='total_sum', \n",
    "    y='product_name', \n",
    "    orientation='h',\n",
    "    title='Топ-10 товаров из группы \"A\" по сумме продаж',\n",
    "    labels={'total_sum': 'Сумма продаж', 'product_name': 'Товар'},\n",
    "    color='total_sum', color_continuous_scale='Viridis',\n",
    "    height=450\n",
    ")\n",
    "fig.update_layout(yaxis={'categoryorder':'total ascending'})\n",
    "fig.show()"
   ]
  },
  {
   "cell_type": "markdown",
   "id": "cd28c5f7-ca5e-43d0-af7a-777f61f9dc05",
   "metadata": {},
   "source": [
    "#### Распределение товаров по группам ABC по количеству и сумме"
   ]
  },
  {
   "cell_type": "markdown",
   "id": "30e1cf6c-32d9-4575-9d7b-993602e1e72e",
   "metadata": {},
   "source": [
    "**На графике показано, сколько товаров попало в каждую из групп ABC по количеству и сумме продаж.**"
   ]
  },
  {
   "cell_type": "code",
   "execution_count": 163,
   "id": "bbdd5637-3de1-4009-aa64-660e04d0e01f",
   "metadata": {},
   "outputs": [
    {
     "data": {
      "application/vnd.plotly.v1+json": {
       "config": {
        "plotlyServerURL": "https://plot.ly"
       },
       "data": [
        {
         "marker": {
          "color": [
           "#636EFA",
           "#00CC96",
           "#EF553B"
          ]
         },
         "name": "По количеству",
         "text": [
          1094,
          437,
          318
         ],
         "textposition": "auto",
         "type": "bar",
         "x": [
          "A",
          "B",
          "C"
         ],
         "xaxis": "x",
         "y": [
          1094,
          437,
          318
         ],
         "yaxis": "y"
        },
        {
         "marker": {
          "color": [
           "#636EFA",
           "#00CC96",
           "#EF553B"
          ]
         },
         "name": "По сумме",
         "text": [
          423,
          491,
          935
         ],
         "textposition": "auto",
         "type": "bar",
         "x": [
          "A",
          "B",
          "C"
         ],
         "xaxis": "x2",
         "y": [
          423,
          491,
          935
         ],
         "yaxis": "y2"
        }
       ],
       "layout": {
        "annotations": [
         {
          "font": {
           "size": 16
          },
          "showarrow": false,
          "text": "Распределение товаров по группам ABC (Количество)",
          "x": 0.225,
          "xanchor": "center",
          "xref": "paper",
          "y": 1,
          "yanchor": "bottom",
          "yref": "paper"
         },
         {
          "font": {
           "size": 16
          },
          "showarrow": false,
          "text": "Распределение товаров по группам ABC (Сумма продаж)",
          "x": 0.775,
          "xanchor": "center",
          "xref": "paper",
          "y": 1,
          "yanchor": "bottom",
          "yref": "paper"
         }
        ],
        "height": 500,
        "showlegend": false,
        "template": {
         "data": {
          "bar": [
           {
            "error_x": {
             "color": "#2a3f5f"
            },
            "error_y": {
             "color": "#2a3f5f"
            },
            "marker": {
             "line": {
              "color": "#E5ECF6",
              "width": 0.5
             },
             "pattern": {
              "fillmode": "overlay",
              "size": 10,
              "solidity": 0.2
             }
            },
            "type": "bar"
           }
          ],
          "barpolar": [
           {
            "marker": {
             "line": {
              "color": "#E5ECF6",
              "width": 0.5
             },
             "pattern": {
              "fillmode": "overlay",
              "size": 10,
              "solidity": 0.2
             }
            },
            "type": "barpolar"
           }
          ],
          "carpet": [
           {
            "aaxis": {
             "endlinecolor": "#2a3f5f",
             "gridcolor": "white",
             "linecolor": "white",
             "minorgridcolor": "white",
             "startlinecolor": "#2a3f5f"
            },
            "baxis": {
             "endlinecolor": "#2a3f5f",
             "gridcolor": "white",
             "linecolor": "white",
             "minorgridcolor": "white",
             "startlinecolor": "#2a3f5f"
            },
            "type": "carpet"
           }
          ],
          "choropleth": [
           {
            "colorbar": {
             "outlinewidth": 0,
             "ticks": ""
            },
            "type": "choropleth"
           }
          ],
          "contour": [
           {
            "colorbar": {
             "outlinewidth": 0,
             "ticks": ""
            },
            "colorscale": [
             [
              0,
              "#0d0887"
             ],
             [
              0.1111111111111111,
              "#46039f"
             ],
             [
              0.2222222222222222,
              "#7201a8"
             ],
             [
              0.3333333333333333,
              "#9c179e"
             ],
             [
              0.4444444444444444,
              "#bd3786"
             ],
             [
              0.5555555555555556,
              "#d8576b"
             ],
             [
              0.6666666666666666,
              "#ed7953"
             ],
             [
              0.7777777777777778,
              "#fb9f3a"
             ],
             [
              0.8888888888888888,
              "#fdca26"
             ],
             [
              1,
              "#f0f921"
             ]
            ],
            "type": "contour"
           }
          ],
          "contourcarpet": [
           {
            "colorbar": {
             "outlinewidth": 0,
             "ticks": ""
            },
            "type": "contourcarpet"
           }
          ],
          "heatmap": [
           {
            "colorbar": {
             "outlinewidth": 0,
             "ticks": ""
            },
            "colorscale": [
             [
              0,
              "#0d0887"
             ],
             [
              0.1111111111111111,
              "#46039f"
             ],
             [
              0.2222222222222222,
              "#7201a8"
             ],
             [
              0.3333333333333333,
              "#9c179e"
             ],
             [
              0.4444444444444444,
              "#bd3786"
             ],
             [
              0.5555555555555556,
              "#d8576b"
             ],
             [
              0.6666666666666666,
              "#ed7953"
             ],
             [
              0.7777777777777778,
              "#fb9f3a"
             ],
             [
              0.8888888888888888,
              "#fdca26"
             ],
             [
              1,
              "#f0f921"
             ]
            ],
            "type": "heatmap"
           }
          ],
          "heatmapgl": [
           {
            "colorbar": {
             "outlinewidth": 0,
             "ticks": ""
            },
            "colorscale": [
             [
              0,
              "#0d0887"
             ],
             [
              0.1111111111111111,
              "#46039f"
             ],
             [
              0.2222222222222222,
              "#7201a8"
             ],
             [
              0.3333333333333333,
              "#9c179e"
             ],
             [
              0.4444444444444444,
              "#bd3786"
             ],
             [
              0.5555555555555556,
              "#d8576b"
             ],
             [
              0.6666666666666666,
              "#ed7953"
             ],
             [
              0.7777777777777778,
              "#fb9f3a"
             ],
             [
              0.8888888888888888,
              "#fdca26"
             ],
             [
              1,
              "#f0f921"
             ]
            ],
            "type": "heatmapgl"
           }
          ],
          "histogram": [
           {
            "marker": {
             "pattern": {
              "fillmode": "overlay",
              "size": 10,
              "solidity": 0.2
             }
            },
            "type": "histogram"
           }
          ],
          "histogram2d": [
           {
            "colorbar": {
             "outlinewidth": 0,
             "ticks": ""
            },
            "colorscale": [
             [
              0,
              "#0d0887"
             ],
             [
              0.1111111111111111,
              "#46039f"
             ],
             [
              0.2222222222222222,
              "#7201a8"
             ],
             [
              0.3333333333333333,
              "#9c179e"
             ],
             [
              0.4444444444444444,
              "#bd3786"
             ],
             [
              0.5555555555555556,
              "#d8576b"
             ],
             [
              0.6666666666666666,
              "#ed7953"
             ],
             [
              0.7777777777777778,
              "#fb9f3a"
             ],
             [
              0.8888888888888888,
              "#fdca26"
             ],
             [
              1,
              "#f0f921"
             ]
            ],
            "type": "histogram2d"
           }
          ],
          "histogram2dcontour": [
           {
            "colorbar": {
             "outlinewidth": 0,
             "ticks": ""
            },
            "colorscale": [
             [
              0,
              "#0d0887"
             ],
             [
              0.1111111111111111,
              "#46039f"
             ],
             [
              0.2222222222222222,
              "#7201a8"
             ],
             [
              0.3333333333333333,
              "#9c179e"
             ],
             [
              0.4444444444444444,
              "#bd3786"
             ],
             [
              0.5555555555555556,
              "#d8576b"
             ],
             [
              0.6666666666666666,
              "#ed7953"
             ],
             [
              0.7777777777777778,
              "#fb9f3a"
             ],
             [
              0.8888888888888888,
              "#fdca26"
             ],
             [
              1,
              "#f0f921"
             ]
            ],
            "type": "histogram2dcontour"
           }
          ],
          "mesh3d": [
           {
            "colorbar": {
             "outlinewidth": 0,
             "ticks": ""
            },
            "type": "mesh3d"
           }
          ],
          "parcoords": [
           {
            "line": {
             "colorbar": {
              "outlinewidth": 0,
              "ticks": ""
             }
            },
            "type": "parcoords"
           }
          ],
          "pie": [
           {
            "automargin": true,
            "type": "pie"
           }
          ],
          "scatter": [
           {
            "fillpattern": {
             "fillmode": "overlay",
             "size": 10,
             "solidity": 0.2
            },
            "type": "scatter"
           }
          ],
          "scatter3d": [
           {
            "line": {
             "colorbar": {
              "outlinewidth": 0,
              "ticks": ""
             }
            },
            "marker": {
             "colorbar": {
              "outlinewidth": 0,
              "ticks": ""
             }
            },
            "type": "scatter3d"
           }
          ],
          "scattercarpet": [
           {
            "marker": {
             "colorbar": {
              "outlinewidth": 0,
              "ticks": ""
             }
            },
            "type": "scattercarpet"
           }
          ],
          "scattergeo": [
           {
            "marker": {
             "colorbar": {
              "outlinewidth": 0,
              "ticks": ""
             }
            },
            "type": "scattergeo"
           }
          ],
          "scattergl": [
           {
            "marker": {
             "colorbar": {
              "outlinewidth": 0,
              "ticks": ""
             }
            },
            "type": "scattergl"
           }
          ],
          "scattermapbox": [
           {
            "marker": {
             "colorbar": {
              "outlinewidth": 0,
              "ticks": ""
             }
            },
            "type": "scattermapbox"
           }
          ],
          "scatterpolar": [
           {
            "marker": {
             "colorbar": {
              "outlinewidth": 0,
              "ticks": ""
             }
            },
            "type": "scatterpolar"
           }
          ],
          "scatterpolargl": [
           {
            "marker": {
             "colorbar": {
              "outlinewidth": 0,
              "ticks": ""
             }
            },
            "type": "scatterpolargl"
           }
          ],
          "scatterternary": [
           {
            "marker": {
             "colorbar": {
              "outlinewidth": 0,
              "ticks": ""
             }
            },
            "type": "scatterternary"
           }
          ],
          "surface": [
           {
            "colorbar": {
             "outlinewidth": 0,
             "ticks": ""
            },
            "colorscale": [
             [
              0,
              "#0d0887"
             ],
             [
              0.1111111111111111,
              "#46039f"
             ],
             [
              0.2222222222222222,
              "#7201a8"
             ],
             [
              0.3333333333333333,
              "#9c179e"
             ],
             [
              0.4444444444444444,
              "#bd3786"
             ],
             [
              0.5555555555555556,
              "#d8576b"
             ],
             [
              0.6666666666666666,
              "#ed7953"
             ],
             [
              0.7777777777777778,
              "#fb9f3a"
             ],
             [
              0.8888888888888888,
              "#fdca26"
             ],
             [
              1,
              "#f0f921"
             ]
            ],
            "type": "surface"
           }
          ],
          "table": [
           {
            "cells": {
             "fill": {
              "color": "#EBF0F8"
             },
             "line": {
              "color": "white"
             }
            },
            "header": {
             "fill": {
              "color": "#C8D4E3"
             },
             "line": {
              "color": "white"
             }
            },
            "type": "table"
           }
          ]
         },
         "layout": {
          "annotationdefaults": {
           "arrowcolor": "#2a3f5f",
           "arrowhead": 0,
           "arrowwidth": 1
          },
          "autotypenumbers": "strict",
          "coloraxis": {
           "colorbar": {
            "outlinewidth": 0,
            "ticks": ""
           }
          },
          "colorscale": {
           "diverging": [
            [
             0,
             "#8e0152"
            ],
            [
             0.1,
             "#c51b7d"
            ],
            [
             0.2,
             "#de77ae"
            ],
            [
             0.3,
             "#f1b6da"
            ],
            [
             0.4,
             "#fde0ef"
            ],
            [
             0.5,
             "#f7f7f7"
            ],
            [
             0.6,
             "#e6f5d0"
            ],
            [
             0.7,
             "#b8e186"
            ],
            [
             0.8,
             "#7fbc41"
            ],
            [
             0.9,
             "#4d9221"
            ],
            [
             1,
             "#276419"
            ]
           ],
           "sequential": [
            [
             0,
             "#0d0887"
            ],
            [
             0.1111111111111111,
             "#46039f"
            ],
            [
             0.2222222222222222,
             "#7201a8"
            ],
            [
             0.3333333333333333,
             "#9c179e"
            ],
            [
             0.4444444444444444,
             "#bd3786"
            ],
            [
             0.5555555555555556,
             "#d8576b"
            ],
            [
             0.6666666666666666,
             "#ed7953"
            ],
            [
             0.7777777777777778,
             "#fb9f3a"
            ],
            [
             0.8888888888888888,
             "#fdca26"
            ],
            [
             1,
             "#f0f921"
            ]
           ],
           "sequentialminus": [
            [
             0,
             "#0d0887"
            ],
            [
             0.1111111111111111,
             "#46039f"
            ],
            [
             0.2222222222222222,
             "#7201a8"
            ],
            [
             0.3333333333333333,
             "#9c179e"
            ],
            [
             0.4444444444444444,
             "#bd3786"
            ],
            [
             0.5555555555555556,
             "#d8576b"
            ],
            [
             0.6666666666666666,
             "#ed7953"
            ],
            [
             0.7777777777777778,
             "#fb9f3a"
            ],
            [
             0.8888888888888888,
             "#fdca26"
            ],
            [
             1,
             "#f0f921"
            ]
           ]
          },
          "colorway": [
           "#636efa",
           "#EF553B",
           "#00cc96",
           "#ab63fa",
           "#FFA15A",
           "#19d3f3",
           "#FF6692",
           "#B6E880",
           "#FF97FF",
           "#FECB52"
          ],
          "font": {
           "color": "#2a3f5f"
          },
          "geo": {
           "bgcolor": "white",
           "lakecolor": "white",
           "landcolor": "#E5ECF6",
           "showlakes": true,
           "showland": true,
           "subunitcolor": "white"
          },
          "hoverlabel": {
           "align": "left"
          },
          "hovermode": "closest",
          "mapbox": {
           "style": "light"
          },
          "paper_bgcolor": "white",
          "plot_bgcolor": "#E5ECF6",
          "polar": {
           "angularaxis": {
            "gridcolor": "white",
            "linecolor": "white",
            "ticks": ""
           },
           "bgcolor": "#E5ECF6",
           "radialaxis": {
            "gridcolor": "white",
            "linecolor": "white",
            "ticks": ""
           }
          },
          "scene": {
           "xaxis": {
            "backgroundcolor": "#E5ECF6",
            "gridcolor": "white",
            "gridwidth": 2,
            "linecolor": "white",
            "showbackground": true,
            "ticks": "",
            "zerolinecolor": "white"
           },
           "yaxis": {
            "backgroundcolor": "#E5ECF6",
            "gridcolor": "white",
            "gridwidth": 2,
            "linecolor": "white",
            "showbackground": true,
            "ticks": "",
            "zerolinecolor": "white"
           },
           "zaxis": {
            "backgroundcolor": "#E5ECF6",
            "gridcolor": "white",
            "gridwidth": 2,
            "linecolor": "white",
            "showbackground": true,
            "ticks": "",
            "zerolinecolor": "white"
           }
          },
          "shapedefaults": {
           "line": {
            "color": "#2a3f5f"
           }
          },
          "ternary": {
           "aaxis": {
            "gridcolor": "white",
            "linecolor": "white",
            "ticks": ""
           },
           "baxis": {
            "gridcolor": "white",
            "linecolor": "white",
            "ticks": ""
           },
           "bgcolor": "#E5ECF6",
           "caxis": {
            "gridcolor": "white",
            "linecolor": "white",
            "ticks": ""
           }
          },
          "title": {
           "x": 0.05
          },
          "xaxis": {
           "automargin": true,
           "gridcolor": "white",
           "linecolor": "white",
           "ticks": "",
           "title": {
            "standoff": 15
           },
           "zerolinecolor": "white",
           "zerolinewidth": 2
          },
          "yaxis": {
           "automargin": true,
           "gridcolor": "white",
           "linecolor": "white",
           "ticks": "",
           "title": {
            "standoff": 15
           },
           "zerolinecolor": "white",
           "zerolinewidth": 2
          }
         }
        },
        "title": {
         "text": "Распределение товаров по группам ABC"
        },
        "width": 1100,
        "xaxis": {
         "anchor": "y",
         "autorange": true,
         "domain": [
          0,
          0.45
         ],
         "range": [
          -0.5,
          2.5
         ],
         "title": {
          "text": "Группа"
         },
         "type": "category"
        },
        "xaxis2": {
         "anchor": "y2",
         "autorange": true,
         "domain": [
          0.55,
          1
         ],
         "range": [
          -0.5,
          2.5
         ],
         "title": {
          "text": "Группа"
         },
         "type": "category"
        },
        "yaxis": {
         "anchor": "x",
         "autorange": true,
         "domain": [
          0,
          1
         ],
         "range": [
          0,
          1151.578947368421
         ],
         "title": {
          "text": "Количество товаров"
         },
         "type": "linear"
        },
        "yaxis2": {
         "anchor": "x2",
         "autorange": true,
         "domain": [
          0,
          1
         ],
         "range": [
          0,
          984.2105263157895
         ],
         "title": {
          "text": "Количество товаров"
         },
         "type": "linear"
        }
       }
      },
      "image/png": "[encoded data removed]",
      "text/html": [
       "<div>                            <div id=\"0db895c2-96c2-4563-ba5d-5ca25d1c9151\" class=\"plotly-graph-div\" style=\"height:500px; width:1100px;\"></div>            <script type=\"text/javascript\">                require([\"plotly\"], function(Plotly) {                    window.PLOTLYENV=window.PLOTLYENV || {};                                    if (document.getElementById(\"0db895c2-96c2-4563-ba5d-5ca25d1c9151\")) {                    Plotly.newPlot(                        \"0db895c2-96c2-4563-ba5d-5ca25d1c9151\",                        [{\"marker\":{\"color\":[\"#636EFA\",\"#00CC96\",\"#EF553B\"]},\"name\":\"\\u041f\\u043e \\u043a\\u043e\\u043b\\u0438\\u0447\\u0435\\u0441\\u0442\\u0432\\u0443\",\"text\":[1094.0,437.0,318.0],\"textposition\":\"auto\",\"x\":[\"A\",\"B\",\"C\"],\"y\":[1094,437,318],\"type\":\"bar\",\"xaxis\":\"x\",\"yaxis\":\"y\"},{\"marker\":{\"color\":[\"#636EFA\",\"#00CC96\",\"#EF553B\"]},\"name\":\"\\u041f\\u043e \\u0441\\u0443\\u043c\\u043c\\u0435\",\"text\":[423.0,491.0,935.0],\"textposition\":\"auto\",\"x\":[\"A\",\"B\",\"C\"],\"y\":[423,491,935],\"type\":\"bar\",\"xaxis\":\"x2\",\"yaxis\":\"y2\"}],                        {\"template\":{\"data\":{\"histogram2dcontour\":[{\"type\":\"histogram2dcontour\",\"colorbar\":{\"outlinewidth\":0,\"ticks\":\"\"},\"colorscale\":[[0.0,\"#0d0887\"],[0.1111111111111111,\"#46039f\"],[0.2222222222222222,\"#7201a8\"],[0.3333333333333333,\"#9c179e\"],[0.4444444444444444,\"#bd3786\"],[0.5555555555555556,\"#d8576b\"],[0.6666666666666666,\"#ed7953\"],[0.7777777777777778,\"#fb9f3a\"],[0.8888888888888888,\"#fdca26\"],[1.0,\"#f0f921\"]]}],\"choropleth\":[{\"type\":\"choropleth\",\"colorbar\":{\"outlinewidth\":0,\"ticks\":\"\"}}],\"histogram2d\":[{\"type\":\"histogram2d\",\"colorbar\":{\"outlinewidth\":0,\"ticks\":\"\"},\"colorscale\":[[0.0,\"#0d0887\"],[0.1111111111111111,\"#46039f\"],[0.2222222222222222,\"#7201a8\"],[0.3333333333333333,\"#9c179e\"],[0.4444444444444444,\"#bd3786\"],[0.5555555555555556,\"#d8576b\"],[0.6666666666666666,\"#ed7953\"],[0.7777777777777778,\"#fb9f3a\"],[0.8888888888888888,\"#fdca26\"],[1.0,\"#f0f921\"]]}],\"heatmap\":[{\"type\":\"heatmap\",\"colorbar\":{\"outlinewidth\":0,\"ticks\":\"\"},\"colorscale\":[[0.0,\"#0d0887\"],[0.1111111111111111,\"#46039f\"],[0.2222222222222222,\"#7201a8\"],[0.3333333333333333,\"#9c179e\"],[0.4444444444444444,\"#bd3786\"],[0.5555555555555556,\"#d8576b\"],[0.6666666666666666,\"#ed7953\"],[0.7777777777777778,\"#fb9f3a\"],[0.8888888888888888,\"#fdca26\"],[1.0,\"#f0f921\"]]}],\"heatmapgl\":[{\"type\":\"heatmapgl\",\"colorbar\":{\"outlinewidth\":0,\"ticks\":\"\"},\"colorscale\":[[0.0,\"#0d0887\"],[0.1111111111111111,\"#46039f\"],[0.2222222222222222,\"#7201a8\"],[0.3333333333333333,\"#9c179e\"],[0.4444444444444444,\"#bd3786\"],[0.5555555555555556,\"#d8576b\"],[0.6666666666666666,\"#ed7953\"],[0.7777777777777778,\"#fb9f3a\"],[0.8888888888888888,\"#fdca26\"],[1.0,\"#f0f921\"]]}],\"contourcarpet\":[{\"type\":\"contourcarpet\",\"colorbar\":{\"outlinewidth\":0,\"ticks\":\"\"}}],\"contour\":[{\"type\":\"contour\",\"colorbar\":{\"outlinewidth\":0,\"ticks\":\"\"},\"colorscale\":[[0.0,\"#0d0887\"],[0.1111111111111111,\"#46039f\"],[0.2222222222222222,\"#7201a8\"],[0.3333333333333333,\"#9c179e\"],[0.4444444444444444,\"#bd3786\"],[0.5555555555555556,\"#d8576b\"],[0.6666666666666666,\"#ed7953\"],[0.7777777777777778,\"#fb9f3a\"],[0.8888888888888888,\"#fdca26\"],[1.0,\"#f0f921\"]]}],\"surface\":[{\"type\":\"surface\",\"colorbar\":{\"outlinewidth\":0,\"ticks\":\"\"},\"colorscale\":[[0.0,\"#0d0887\"],[0.1111111111111111,\"#46039f\"],[0.2222222222222222,\"#7201a8\"],[0.3333333333333333,\"#9c179e\"],[0.4444444444444444,\"#bd3786\"],[0.5555555555555556,\"#d8576b\"],[0.6666666666666666,\"#ed7953\"],[0.7777777777777778,\"#fb9f3a\"],[0.8888888888888888,\"#fdca26\"],[1.0,\"#f0f921\"]]}],\"mesh3d\":[{\"type\":\"mesh3d\",\"colorbar\":{\"outlinewidth\":0,\"ticks\":\"\"}}],\"scatter\":[{\"fillpattern\":{\"fillmode\":\"overlay\",\"size\":10,\"solidity\":0.2},\"type\":\"scatter\"}],\"parcoords\":[{\"type\":\"parcoords\",\"line\":{\"colorbar\":{\"outlinewidth\":0,\"ticks\":\"\"}}}],\"scatterpolargl\":[{\"type\":\"scatterpolargl\",\"marker\":{\"colorbar\":{\"outlinewidth\":0,\"ticks\":\"\"}}}],\"bar\":[{\"error_x\":{\"color\":\"#2a3f5f\"},\"error_y\":{\"color\":\"#2a3f5f\"},\"marker\":{\"line\":{\"color\":\"#E5ECF6\",\"width\":0.5},\"pattern\":{\"fillmode\":\"overlay\",\"size\":10,\"solidity\":0.2}},\"type\":\"bar\"}],\"scattergeo\":[{\"type\":\"scattergeo\",\"marker\":{\"colorbar\":{\"outlinewidth\":0,\"ticks\":\"\"}}}],\"scatterpolar\":[{\"type\":\"scatterpolar\",\"marker\":{\"colorbar\":{\"outlinewidth\":0,\"ticks\":\"\"}}}],\"histogram\":[{\"marker\":{\"pattern\":{\"fillmode\":\"overlay\",\"size\":10,\"solidity\":0.2}},\"type\":\"histogram\"}],\"scattergl\":[{\"type\":\"scattergl\",\"marker\":{\"colorbar\":{\"outlinewidth\":0,\"ticks\":\"\"}}}],\"scatter3d\":[{\"type\":\"scatter3d\",\"line\":{\"colorbar\":{\"outlinewidth\":0,\"ticks\":\"\"}},\"marker\":{\"colorbar\":{\"outlinewidth\":0,\"ticks\":\"\"}}}],\"scattermapbox\":[{\"type\":\"scattermapbox\",\"marker\":{\"colorbar\":{\"outlinewidth\":0,\"ticks\":\"\"}}}],\"scatterternary\":[{\"type\":\"scatterternary\",\"marker\":{\"colorbar\":{\"outlinewidth\":0,\"ticks\":\"\"}}}],\"scattercarpet\":[{\"type\":\"scattercarpet\",\"marker\":{\"colorbar\":{\"outlinewidth\":0,\"ticks\":\"\"}}}],\"carpet\":[{\"aaxis\":{\"endlinecolor\":\"#2a3f5f\",\"gridcolor\":\"white\",\"linecolor\":\"white\",\"minorgridcolor\":\"white\",\"startlinecolor\":\"#2a3f5f\"},\"baxis\":{\"endlinecolor\":\"#2a3f5f\",\"gridcolor\":\"white\",\"linecolor\":\"white\",\"minorgridcolor\":\"white\",\"startlinecolor\":\"#2a3f5f\"},\"type\":\"carpet\"}],\"table\":[{\"cells\":{\"fill\":{\"color\":\"#EBF0F8\"},\"line\":{\"color\":\"white\"}},\"header\":{\"fill\":{\"color\":\"#C8D4E3\"},\"line\":{\"color\":\"white\"}},\"type\":\"table\"}],\"barpolar\":[{\"marker\":{\"line\":{\"color\":\"#E5ECF6\",\"width\":0.5},\"pattern\":{\"fillmode\":\"overlay\",\"size\":10,\"solidity\":0.2}},\"type\":\"barpolar\"}],\"pie\":[{\"automargin\":true,\"type\":\"pie\"}]},\"layout\":{\"autotypenumbers\":\"strict\",\"colorway\":[\"#636efa\",\"#EF553B\",\"#00cc96\",\"#ab63fa\",\"#FFA15A\",\"#19d3f3\",\"#FF6692\",\"#B6E880\",\"#FF97FF\",\"#FECB52\"],\"font\":{\"color\":\"#2a3f5f\"},\"hovermode\":\"closest\",\"hoverlabel\":{\"align\":\"left\"},\"paper_bgcolor\":\"white\",\"plot_bgcolor\":\"#E5ECF6\",\"polar\":{\"bgcolor\":\"#E5ECF6\",\"angularaxis\":{\"gridcolor\":\"white\",\"linecolor\":\"white\",\"ticks\":\"\"},\"radialaxis\":{\"gridcolor\":\"white\",\"linecolor\":\"white\",\"ticks\":\"\"}},\"ternary\":{\"bgcolor\":\"#E5ECF6\",\"aaxis\":{\"gridcolor\":\"white\",\"linecolor\":\"white\",\"ticks\":\"\"},\"baxis\":{\"gridcolor\":\"white\",\"linecolor\":\"white\",\"ticks\":\"\"},\"caxis\":{\"gridcolor\":\"white\",\"linecolor\":\"white\",\"ticks\":\"\"}},\"coloraxis\":{\"colorbar\":{\"outlinewidth\":0,\"ticks\":\"\"}},\"colorscale\":{\"sequential\":[[0.0,\"#0d0887\"],[0.1111111111111111,\"#46039f\"],[0.2222222222222222,\"#7201a8\"],[0.3333333333333333,\"#9c179e\"],[0.4444444444444444,\"#bd3786\"],[0.5555555555555556,\"#d8576b\"],[0.6666666666666666,\"#ed7953\"],[0.7777777777777778,\"#fb9f3a\"],[0.8888888888888888,\"#fdca26\"],[1.0,\"#f0f921\"]],\"sequentialminus\":[[0.0,\"#0d0887\"],[0.1111111111111111,\"#46039f\"],[0.2222222222222222,\"#7201a8\"],[0.3333333333333333,\"#9c179e\"],[0.4444444444444444,\"#bd3786\"],[0.5555555555555556,\"#d8576b\"],[0.6666666666666666,\"#ed7953\"],[0.7777777777777778,\"#fb9f3a\"],[0.8888888888888888,\"#fdca26\"],[1.0,\"#f0f921\"]],\"diverging\":[[0,\"#8e0152\"],[0.1,\"#c51b7d\"],[0.2,\"#de77ae\"],[0.3,\"#f1b6da\"],[0.4,\"#fde0ef\"],[0.5,\"#f7f7f7\"],[0.6,\"#e6f5d0\"],[0.7,\"#b8e186\"],[0.8,\"#7fbc41\"],[0.9,\"#4d9221\"],[1,\"#276419\"]]},\"xaxis\":{\"gridcolor\":\"white\",\"linecolor\":\"white\",\"ticks\":\"\",\"title\":{\"standoff\":15},\"zerolinecolor\":\"white\",\"automargin\":true,\"zerolinewidth\":2},\"yaxis\":{\"gridcolor\":\"white\",\"linecolor\":\"white\",\"ticks\":\"\",\"title\":{\"standoff\":15},\"zerolinecolor\":\"white\",\"automargin\":true,\"zerolinewidth\":2},\"scene\":{\"xaxis\":{\"backgroundcolor\":\"#E5ECF6\",\"gridcolor\":\"white\",\"linecolor\":\"white\",\"showbackground\":true,\"ticks\":\"\",\"zerolinecolor\":\"white\",\"gridwidth\":2},\"yaxis\":{\"backgroundcolor\":\"#E5ECF6\",\"gridcolor\":\"white\",\"linecolor\":\"white\",\"showbackground\":true,\"ticks\":\"\",\"zerolinecolor\":\"white\",\"gridwidth\":2},\"zaxis\":{\"backgroundcolor\":\"#E5ECF6\",\"gridcolor\":\"white\",\"linecolor\":\"white\",\"showbackground\":true,\"ticks\":\"\",\"zerolinecolor\":\"white\",\"gridwidth\":2}},\"shapedefaults\":{\"line\":{\"color\":\"#2a3f5f\"}},\"annotationdefaults\":{\"arrowcolor\":\"#2a3f5f\",\"arrowhead\":0,\"arrowwidth\":1},\"geo\":{\"bgcolor\":\"white\",\"landcolor\":\"#E5ECF6\",\"subunitcolor\":\"white\",\"showland\":true,\"showlakes\":true,\"lakecolor\":\"white\"},\"title\":{\"x\":0.05},\"mapbox\":{\"style\":\"light\"}}},\"xaxis\":{\"anchor\":\"y\",\"domain\":[0.0,0.45],\"title\":{\"text\":\"\\u0413\\u0440\\u0443\\u043f\\u043f\\u0430\"}},\"yaxis\":{\"anchor\":\"x\",\"domain\":[0.0,1.0],\"title\":{\"text\":\"\\u041a\\u043e\\u043b\\u0438\\u0447\\u0435\\u0441\\u0442\\u0432\\u043e \\u0442\\u043e\\u0432\\u0430\\u0440\\u043e\\u0432\"}},\"xaxis2\":{\"anchor\":\"y2\",\"domain\":[0.55,1.0],\"title\":{\"text\":\"\\u0413\\u0440\\u0443\\u043f\\u043f\\u0430\"}},\"yaxis2\":{\"anchor\":\"x2\",\"domain\":[0.0,1.0],\"title\":{\"text\":\"\\u041a\\u043e\\u043b\\u0438\\u0447\\u0435\\u0441\\u0442\\u0432\\u043e \\u0442\\u043e\\u0432\\u0430\\u0440\\u043e\\u0432\"}},\"annotations\":[{\"font\":{\"size\":16},\"showarrow\":false,\"text\":\"\\u0420\\u0430\\u0441\\u043f\\u0440\\u0435\\u0434\\u0435\\u043b\\u0435\\u043d\\u0438\\u0435 \\u0442\\u043e\\u0432\\u0430\\u0440\\u043e\\u0432 \\u043f\\u043e \\u0433\\u0440\\u0443\\u043f\\u043f\\u0430\\u043c ABC (\\u041a\\u043e\\u043b\\u0438\\u0447\\u0435\\u0441\\u0442\\u0432\\u043e)\",\"x\":0.225,\"xanchor\":\"center\",\"xref\":\"paper\",\"y\":1.0,\"yanchor\":\"bottom\",\"yref\":\"paper\"},{\"font\":{\"size\":16},\"showarrow\":false,\"text\":\"\\u0420\\u0430\\u0441\\u043f\\u0440\\u0435\\u0434\\u0435\\u043b\\u0435\\u043d\\u0438\\u0435 \\u0442\\u043e\\u0432\\u0430\\u0440\\u043e\\u0432 \\u043f\\u043e \\u0433\\u0440\\u0443\\u043f\\u043f\\u0430\\u043c ABC (\\u0421\\u0443\\u043c\\u043c\\u0430 \\u043f\\u0440\\u043e\\u0434\\u0430\\u0436)\",\"x\":0.775,\"xanchor\":\"center\",\"xref\":\"paper\",\"y\":1.0,\"yanchor\":\"bottom\",\"yref\":\"paper\"}],\"title\":{\"text\":\"\\u0420\\u0430\\u0441\\u043f\\u0440\\u0435\\u0434\\u0435\\u043b\\u0435\\u043d\\u0438\\u0435 \\u0442\\u043e\\u0432\\u0430\\u0440\\u043e\\u0432 \\u043f\\u043e \\u0433\\u0440\\u0443\\u043f\\u043f\\u0430\\u043c ABC\"},\"showlegend\":false,\"height\":500,\"width\":1100},                        {\"responsive\": true}                    ).then(function(){\n",
       "                            \n",
       "var gd = document.getElementById('0db895c2-96c2-4563-ba5d-5ca25d1c9151');\n",
       "var x = new MutationObserver(function (mutations, observer) {{\n",
       "        var display = window.getComputedStyle(gd).display;\n",
       "        if (!display || display === 'none') {{\n",
       "            console.log([gd, 'removed!']);\n",
       "            Plotly.purge(gd);\n",
       "            observer.disconnect();\n",
       "        }}\n",
       "}});\n",
       "\n",
       "// Listen for the removal of the full notebook cells\n",
       "var notebookContainer = gd.closest('#notebook-container');\n",
       "if (notebookContainer) {{\n",
       "    x.observe(notebookContainer, {childList: true});\n",
       "}}\n",
       "\n",
       "// Listen for the clearing of the current output cell\n",
       "var outputEl = gd.closest('.output');\n",
       "if (outputEl) {{\n",
       "    x.observe(outputEl, {childList: true});\n",
       "}}\n",
       "\n",
       "                        })                };                });            </script>        </div>"
      ]
     },
     "metadata": {},
     "output_type": "display_data"
    }
   ],
   "source": [
    "# Подсчёт количества товаров в каждой группе\n",
    "quantity_counts = result['abc_quantity'].value_counts().reindex(['A', 'B', 'C'], fill_value=0)\n",
    "sum_counts = result['abc_sum'].value_counts().reindex(['A', 'B', 'C'], fill_value=0)\n",
    "\n",
    "# Создаём две гистограммы в одной строке\n",
    "fig = make_subplots(rows=1, cols=2, subplot_titles=(\n",
    "    \"Распределение товаров по группам ABC (Количество)\",\n",
    "    \"Распределение товаров по группам ABC (Сумма продаж)\"\n",
    "))\n",
    "\n",
    "# Гистограмма по количеству\n",
    "fig.add_trace(\n",
    "    go.Bar(\n",
    "        x=quantity_counts.index,\n",
    "        y=quantity_counts.values,\n",
    "        marker_color=['#636EFA', '#00CC96', '#EF553B'],  # Можно поменять цвета\n",
    "        text=quantity_counts.values,\n",
    "        textposition='auto',\n",
    "        name='По количеству'\n",
    "    ),\n",
    "    row=1, col=1\n",
    ")\n",
    "\n",
    "# Гистограмма по сумме\n",
    "fig.add_trace(\n",
    "    go.Bar(\n",
    "        x=sum_counts.index,\n",
    "        y=sum_counts.values,\n",
    "        marker_color=['#636EFA', '#00CC96', '#EF553B'],\n",
    "        text=sum_counts.values,\n",
    "        textposition='auto',\n",
    "        name='По сумме'\n",
    "    ),\n",
    "    row=1, col=2\n",
    ")\n",
    "\n",
    "# Настройки осей и заголовков\n",
    "fig.update_xaxes(title_text=\"Группа\", row=1, col=1)\n",
    "fig.update_yaxes(title_text=\"Количество товаров\", row=1, col=1)\n",
    "fig.update_xaxes(title_text=\"Группа\", row=1, col=2)\n",
    "fig.update_yaxes(title_text=\"Количество товаров\", row=1, col=2)\n",
    "\n",
    "fig.update_layout(\n",
    "    title_text=\"Распределение товаров по группам ABC\",\n",
    "    showlegend=False,\n",
    "    height=500,\n",
    "    width=1100\n",
    ")\n",
    "\n",
    "fig.show()"
   ]
  },
  {
   "cell_type": "markdown",
   "id": "e7b53463-dab5-48ab-93f9-90a9f4fe6c9b",
   "metadata": {},
   "source": [
    "#### Интерактивная тепловая карта: Пересечение групп ABC (Количество vs Сумма)"
   ]
  },
  {
   "cell_type": "markdown",
   "id": "fb8e7212-f20c-42ae-80a5-37151e7a4001",
   "metadata": {},
   "source": [
    "**На тепловой карте видно, сколько товаров попало в каждую комбинацию групп по количеству и по сумме продаж.**\n",
    "- Например, \"AA\" — товары, которые входят в группу A и по количеству, и по сумме."
   ]
  },
  {
   "cell_type": "code",
   "execution_count": 157,
   "id": "a7c2de1b-c586-4fc5-b390-69298fe8f1a3",
   "metadata": {},
   "outputs": [
    {
     "data": {
      "application/vnd.plotly.v1+json": {
       "config": {
        "plotlyServerURL": "https://plot.ly"
       },
       "data": [
        {
         "coloraxis": "coloraxis",
         "hovertemplate": "ABC по сумме: %{x}<br>ABC по количеству: %{y}<br>Число товаров: %{z}<extra></extra>",
         "name": "0",
         "texttemplate": "%{z}",
         "type": "heatmap",
         "x": [
          "A",
          "B",
          "C"
         ],
         "xaxis": "x",
         "y": [
          "A",
          "B",
          "C"
         ],
         "yaxis": "y",
         "z": [
          [
           315,
           304,
           475
          ],
          [
           75,
           121,
           241
          ],
          [
           33,
           66,
           219
          ]
         ]
        }
       ],
       "layout": {
        "autosize": true,
        "coloraxis": {
         "colorbar": {
          "title": {
           "text": "Число товаров"
          }
         },
         "colorscale": [
          [
           0,
           "#0d0887"
          ],
          [
           0.1111111111111111,
           "#46039f"
          ],
          [
           0.2222222222222222,
           "#7201a8"
          ],
          [
           0.3333333333333333,
           "#9c179e"
          ],
          [
           0.4444444444444444,
           "#bd3786"
          ],
          [
           0.5555555555555556,
           "#d8576b"
          ],
          [
           0.6666666666666666,
           "#ed7953"
          ],
          [
           0.7777777777777778,
           "#fb9f3a"
          ],
          [
           0.8888888888888888,
           "#fdca26"
          ],
          [
           1,
           "#f0f921"
          ]
         ]
        },
        "template": {
         "data": {
          "bar": [
           {
            "error_x": {
             "color": "#2a3f5f"
            },
            "error_y": {
             "color": "#2a3f5f"
            },
            "marker": {
             "line": {
              "color": "#E5ECF6",
              "width": 0.5
             },
             "pattern": {
              "fillmode": "overlay",
              "size": 10,
              "solidity": 0.2
             }
            },
            "type": "bar"
           }
          ],
          "barpolar": [
           {
            "marker": {
             "line": {
              "color": "#E5ECF6",
              "width": 0.5
             },
             "pattern": {
              "fillmode": "overlay",
              "size": 10,
              "solidity": 0.2
             }
            },
            "type": "barpolar"
           }
          ],
          "carpet": [
           {
            "aaxis": {
             "endlinecolor": "#2a3f5f",
             "gridcolor": "white",
             "linecolor": "white",
             "minorgridcolor": "white",
             "startlinecolor": "#2a3f5f"
            },
            "baxis": {
             "endlinecolor": "#2a3f5f",
             "gridcolor": "white",
             "linecolor": "white",
             "minorgridcolor": "white",
             "startlinecolor": "#2a3f5f"
            },
            "type": "carpet"
           }
          ],
          "choropleth": [
           {
            "colorbar": {
             "outlinewidth": 0,
             "ticks": ""
            },
            "type": "choropleth"
           }
          ],
          "contour": [
           {
            "colorbar": {
             "outlinewidth": 0,
             "ticks": ""
            },
            "colorscale": [
             [
              0,
              "#0d0887"
             ],
             [
              0.1111111111111111,
              "#46039f"
             ],
             [
              0.2222222222222222,
              "#7201a8"
             ],
             [
              0.3333333333333333,
              "#9c179e"
             ],
             [
              0.4444444444444444,
              "#bd3786"
             ],
             [
              0.5555555555555556,
              "#d8576b"
             ],
             [
              0.6666666666666666,
              "#ed7953"
             ],
             [
              0.7777777777777778,
              "#fb9f3a"
             ],
             [
              0.8888888888888888,
              "#fdca26"
             ],
             [
              1,
              "#f0f921"
             ]
            ],
            "type": "contour"
           }
          ],
          "contourcarpet": [
           {
            "colorbar": {
             "outlinewidth": 0,
             "ticks": ""
            },
            "type": "contourcarpet"
           }
          ],
          "heatmap": [
           {
            "colorbar": {
             "outlinewidth": 0,
             "ticks": ""
            },
            "colorscale": [
             [
              0,
              "#0d0887"
             ],
             [
              0.1111111111111111,
              "#46039f"
             ],
             [
              0.2222222222222222,
              "#7201a8"
             ],
             [
              0.3333333333333333,
              "#9c179e"
             ],
             [
              0.4444444444444444,
              "#bd3786"
             ],
             [
              0.5555555555555556,
              "#d8576b"
             ],
             [
              0.6666666666666666,
              "#ed7953"
             ],
             [
              0.7777777777777778,
              "#fb9f3a"
             ],
             [
              0.8888888888888888,
              "#fdca26"
             ],
             [
              1,
              "#f0f921"
             ]
            ],
            "type": "heatmap"
           }
          ],
          "heatmapgl": [
           {
            "colorbar": {
             "outlinewidth": 0,
             "ticks": ""
            },
            "colorscale": [
             [
              0,
              "#0d0887"
             ],
             [
              0.1111111111111111,
              "#46039f"
             ],
             [
              0.2222222222222222,
              "#7201a8"
             ],
             [
              0.3333333333333333,
              "#9c179e"
             ],
             [
              0.4444444444444444,
              "#bd3786"
             ],
             [
              0.5555555555555556,
              "#d8576b"
             ],
             [
              0.6666666666666666,
              "#ed7953"
             ],
             [
              0.7777777777777778,
              "#fb9f3a"
             ],
             [
              0.8888888888888888,
              "#fdca26"
             ],
             [
              1,
              "#f0f921"
             ]
            ],
            "type": "heatmapgl"
           }
          ],
          "histogram": [
           {
            "marker": {
             "pattern": {
              "fillmode": "overlay",
              "size": 10,
              "solidity": 0.2
             }
            },
            "type": "histogram"
           }
          ],
          "histogram2d": [
           {
            "colorbar": {
             "outlinewidth": 0,
             "ticks": ""
            },
            "colorscale": [
             [
              0,
              "#0d0887"
             ],
             [
              0.1111111111111111,
              "#46039f"
             ],
             [
              0.2222222222222222,
              "#7201a8"
             ],
             [
              0.3333333333333333,
              "#9c179e"
             ],
             [
              0.4444444444444444,
              "#bd3786"
             ],
             [
              0.5555555555555556,
              "#d8576b"
             ],
             [
              0.6666666666666666,
              "#ed7953"
             ],
             [
              0.7777777777777778,
              "#fb9f3a"
             ],
             [
              0.8888888888888888,
              "#fdca26"
             ],
             [
              1,
              "#f0f921"
             ]
            ],
            "type": "histogram2d"
           }
          ],
          "histogram2dcontour": [
           {
            "colorbar": {
             "outlinewidth": 0,
             "ticks": ""
            },
            "colorscale": [
             [
              0,
              "#0d0887"
             ],
             [
              0.1111111111111111,
              "#46039f"
             ],
             [
              0.2222222222222222,
              "#7201a8"
             ],
             [
              0.3333333333333333,
              "#9c179e"
             ],
             [
              0.4444444444444444,
              "#bd3786"
             ],
             [
              0.5555555555555556,
              "#d8576b"
             ],
             [
              0.6666666666666666,
              "#ed7953"
             ],
             [
              0.7777777777777778,
              "#fb9f3a"
             ],
             [
              0.8888888888888888,
              "#fdca26"
             ],
             [
              1,
              "#f0f921"
             ]
            ],
            "type": "histogram2dcontour"
           }
          ],
          "mesh3d": [
           {
            "colorbar": {
             "outlinewidth": 0,
             "ticks": ""
            },
            "type": "mesh3d"
           }
          ],
          "parcoords": [
           {
            "line": {
             "colorbar": {
              "outlinewidth": 0,
              "ticks": ""
             }
            },
            "type": "parcoords"
           }
          ],
          "pie": [
           {
            "automargin": true,
            "type": "pie"
           }
          ],
          "scatter": [
           {
            "fillpattern": {
             "fillmode": "overlay",
             "size": 10,
             "solidity": 0.2
            },
            "type": "scatter"
           }
          ],
          "scatter3d": [
           {
            "line": {
             "colorbar": {
              "outlinewidth": 0,
              "ticks": ""
             }
            },
            "marker": {
             "colorbar": {
              "outlinewidth": 0,
              "ticks": ""
             }
            },
            "type": "scatter3d"
           }
          ],
          "scattercarpet": [
           {
            "marker": {
             "colorbar": {
              "outlinewidth": 0,
              "ticks": ""
             }
            },
            "type": "scattercarpet"
           }
          ],
          "scattergeo": [
           {
            "marker": {
             "colorbar": {
              "outlinewidth": 0,
              "ticks": ""
             }
            },
            "type": "scattergeo"
           }
          ],
          "scattergl": [
           {
            "marker": {
             "colorbar": {
              "outlinewidth": 0,
              "ticks": ""
             }
            },
            "type": "scattergl"
           }
          ],
          "scattermapbox": [
           {
            "marker": {
             "colorbar": {
              "outlinewidth": 0,
              "ticks": ""
             }
            },
            "type": "scattermapbox"
           }
          ],
          "scatterpolar": [
           {
            "marker": {
             "colorbar": {
              "outlinewidth": 0,
              "ticks": ""
             }
            },
            "type": "scatterpolar"
           }
          ],
          "scatterpolargl": [
           {
            "marker": {
             "colorbar": {
              "outlinewidth": 0,
              "ticks": ""
             }
            },
            "type": "scatterpolargl"
           }
          ],
          "scatterternary": [
           {
            "marker": {
             "colorbar": {
              "outlinewidth": 0,
              "ticks": ""
             }
            },
            "type": "scatterternary"
           }
          ],
          "surface": [
           {
            "colorbar": {
             "outlinewidth": 0,
             "ticks": ""
            },
            "colorscale": [
             [
              0,
              "#0d0887"
             ],
             [
              0.1111111111111111,
              "#46039f"
             ],
             [
              0.2222222222222222,
              "#7201a8"
             ],
             [
              0.3333333333333333,
              "#9c179e"
             ],
             [
              0.4444444444444444,
              "#bd3786"
             ],
             [
              0.5555555555555556,
              "#d8576b"
             ],
             [
              0.6666666666666666,
              "#ed7953"
             ],
             [
              0.7777777777777778,
              "#fb9f3a"
             ],
             [
              0.8888888888888888,
              "#fdca26"
             ],
             [
              1,
              "#f0f921"
             ]
            ],
            "type": "surface"
           }
          ],
          "table": [
           {
            "cells": {
             "fill": {
              "color": "#EBF0F8"
             },
             "line": {
              "color": "white"
             }
            },
            "header": {
             "fill": {
              "color": "#C8D4E3"
             },
             "line": {
              "color": "white"
             }
            },
            "type": "table"
           }
          ]
         },
         "layout": {
          "annotationdefaults": {
           "arrowcolor": "#2a3f5f",
           "arrowhead": 0,
           "arrowwidth": 1
          },
          "autotypenumbers": "strict",
          "coloraxis": {
           "colorbar": {
            "outlinewidth": 0,
            "ticks": ""
           }
          },
          "colorscale": {
           "diverging": [
            [
             0,
             "#8e0152"
            ],
            [
             0.1,
             "#c51b7d"
            ],
            [
             0.2,
             "#de77ae"
            ],
            [
             0.3,
             "#f1b6da"
            ],
            [
             0.4,
             "#fde0ef"
            ],
            [
             0.5,
             "#f7f7f7"
            ],
            [
             0.6,
             "#e6f5d0"
            ],
            [
             0.7,
             "#b8e186"
            ],
            [
             0.8,
             "#7fbc41"
            ],
            [
             0.9,
             "#4d9221"
            ],
            [
             1,
             "#276419"
            ]
           ],
           "sequential": [
            [
             0,
             "#0d0887"
            ],
            [
             0.1111111111111111,
             "#46039f"
            ],
            [
             0.2222222222222222,
             "#7201a8"
            ],
            [
             0.3333333333333333,
             "#9c179e"
            ],
            [
             0.4444444444444444,
             "#bd3786"
            ],
            [
             0.5555555555555556,
             "#d8576b"
            ],
            [
             0.6666666666666666,
             "#ed7953"
            ],
            [
             0.7777777777777778,
             "#fb9f3a"
            ],
            [
             0.8888888888888888,
             "#fdca26"
            ],
            [
             1,
             "#f0f921"
            ]
           ],
           "sequentialminus": [
            [
             0,
             "#0d0887"
            ],
            [
             0.1111111111111111,
             "#46039f"
            ],
            [
             0.2222222222222222,
             "#7201a8"
            ],
            [
             0.3333333333333333,
             "#9c179e"
            ],
            [
             0.4444444444444444,
             "#bd3786"
            ],
            [
             0.5555555555555556,
             "#d8576b"
            ],
            [
             0.6666666666666666,
             "#ed7953"
            ],
            [
             0.7777777777777778,
             "#fb9f3a"
            ],
            [
             0.8888888888888888,
             "#fdca26"
            ],
            [
             1,
             "#f0f921"
            ]
           ]
          },
          "colorway": [
           "#636efa",
           "#EF553B",
           "#00cc96",
           "#ab63fa",
           "#FFA15A",
           "#19d3f3",
           "#FF6692",
           "#B6E880",
           "#FF97FF",
           "#FECB52"
          ],
          "font": {
           "color": "#2a3f5f"
          },
          "geo": {
           "bgcolor": "white",
           "lakecolor": "white",
           "landcolor": "#E5ECF6",
           "showlakes": true,
           "showland": true,
           "subunitcolor": "white"
          },
          "hoverlabel": {
           "align": "left"
          },
          "hovermode": "closest",
          "mapbox": {
           "style": "light"
          },
          "paper_bgcolor": "white",
          "plot_bgcolor": "#E5ECF6",
          "polar": {
           "angularaxis": {
            "gridcolor": "white",
            "linecolor": "white",
            "ticks": ""
           },
           "bgcolor": "#E5ECF6",
           "radialaxis": {
            "gridcolor": "white",
            "linecolor": "white",
            "ticks": ""
           }
          },
          "scene": {
           "xaxis": {
            "backgroundcolor": "#E5ECF6",
            "gridcolor": "white",
            "gridwidth": 2,
            "linecolor": "white",
            "showbackground": true,
            "ticks": "",
            "zerolinecolor": "white"
           },
           "yaxis": {
            "backgroundcolor": "#E5ECF6",
            "gridcolor": "white",
            "gridwidth": 2,
            "linecolor": "white",
            "showbackground": true,
            "ticks": "",
            "zerolinecolor": "white"
           },
           "zaxis": {
            "backgroundcolor": "#E5ECF6",
            "gridcolor": "white",
            "gridwidth": 2,
            "linecolor": "white",
            "showbackground": true,
            "ticks": "",
            "zerolinecolor": "white"
           }
          },
          "shapedefaults": {
           "line": {
            "color": "#2a3f5f"
           }
          },
          "ternary": {
           "aaxis": {
            "gridcolor": "white",
            "linecolor": "white",
            "ticks": ""
           },
           "baxis": {
            "gridcolor": "white",
            "linecolor": "white",
            "ticks": ""
           },
           "bgcolor": "#E5ECF6",
           "caxis": {
            "gridcolor": "white",
            "linecolor": "white",
            "ticks": ""
           }
          },
          "title": {
           "x": 0.05
          },
          "xaxis": {
           "automargin": true,
           "gridcolor": "white",
           "linecolor": "white",
           "ticks": "",
           "title": {
            "standoff": 15
           },
           "zerolinecolor": "white",
           "zerolinewidth": 2
          },
          "yaxis": {
           "automargin": true,
           "gridcolor": "white",
           "linecolor": "white",
           "ticks": "",
           "title": {
            "standoff": 15
           },
           "zerolinecolor": "white",
           "zerolinewidth": 2
          }
         }
        },
        "title": {
         "text": "Тепловая карта: Пересечение групп ABC (Количество vs Сумма)"
        },
        "xaxis": {
         "anchor": "y",
         "autorange": true,
         "constrain": "domain",
         "domain": [
          0.39655172413793105,
          0.603448275862069
         ],
         "range": [
          -0.5,
          2.5
         ],
         "scaleanchor": "y",
         "title": {
          "text": "ABC по сумме"
         },
         "type": "category"
        },
        "yaxis": {
         "anchor": "x",
         "autorange": true,
         "constrain": "domain",
         "domain": [
          0,
          1
         ],
         "range": [
          2.5,
          -0.5
         ],
         "title": {
          "text": "ABC по количеству"
         },
         "type": "category"
        }
       }
      },
      "image/png": "[encoded data removed]",
      "text/html": [
       "<div>                            <div id=\"1ebee251-f8f4-4a9e-b501-bd76cd6d30ff\" class=\"plotly-graph-div\" style=\"height:525px; width:100%;\"></div>            <script type=\"text/javascript\">                require([\"plotly\"], function(Plotly) {                    window.PLOTLYENV=window.PLOTLYENV || {};                                    if (document.getElementById(\"1ebee251-f8f4-4a9e-b501-bd76cd6d30ff\")) {                    Plotly.newPlot(                        \"1ebee251-f8f4-4a9e-b501-bd76cd6d30ff\",                        [{\"coloraxis\":\"coloraxis\",\"name\":\"0\",\"texttemplate\":\"%{z}\",\"x\":[\"A\",\"B\",\"C\"],\"y\":[\"A\",\"B\",\"C\"],\"z\":[[315,304,475],[75,121,241],[33,66,219]],\"type\":\"heatmap\",\"xaxis\":\"x\",\"yaxis\":\"y\",\"hovertemplate\":\"ABC \\u043f\\u043e \\u0441\\u0443\\u043c\\u043c\\u0435: %{x}\\u003cbr\\u003eABC \\u043f\\u043e \\u043a\\u043e\\u043b\\u0438\\u0447\\u0435\\u0441\\u0442\\u0432\\u0443: %{y}\\u003cbr\\u003e\\u0427\\u0438\\u0441\\u043b\\u043e \\u0442\\u043e\\u0432\\u0430\\u0440\\u043e\\u0432: %{z}\\u003cextra\\u003e\\u003c\\u002fextra\\u003e\"}],                        {\"template\":{\"data\":{\"histogram2dcontour\":[{\"type\":\"histogram2dcontour\",\"colorbar\":{\"outlinewidth\":0,\"ticks\":\"\"},\"colorscale\":[[0.0,\"#0d0887\"],[0.1111111111111111,\"#46039f\"],[0.2222222222222222,\"#7201a8\"],[0.3333333333333333,\"#9c179e\"],[0.4444444444444444,\"#bd3786\"],[0.5555555555555556,\"#d8576b\"],[0.6666666666666666,\"#ed7953\"],[0.7777777777777778,\"#fb9f3a\"],[0.8888888888888888,\"#fdca26\"],[1.0,\"#f0f921\"]]}],\"choropleth\":[{\"type\":\"choropleth\",\"colorbar\":{\"outlinewidth\":0,\"ticks\":\"\"}}],\"histogram2d\":[{\"type\":\"histogram2d\",\"colorbar\":{\"outlinewidth\":0,\"ticks\":\"\"},\"colorscale\":[[0.0,\"#0d0887\"],[0.1111111111111111,\"#46039f\"],[0.2222222222222222,\"#7201a8\"],[0.3333333333333333,\"#9c179e\"],[0.4444444444444444,\"#bd3786\"],[0.5555555555555556,\"#d8576b\"],[0.6666666666666666,\"#ed7953\"],[0.7777777777777778,\"#fb9f3a\"],[0.8888888888888888,\"#fdca26\"],[1.0,\"#f0f921\"]]}],\"heatmap\":[{\"type\":\"heatmap\",\"colorbar\":{\"outlinewidth\":0,\"ticks\":\"\"},\"colorscale\":[[0.0,\"#0d0887\"],[0.1111111111111111,\"#46039f\"],[0.2222222222222222,\"#7201a8\"],[0.3333333333333333,\"#9c179e\"],[0.4444444444444444,\"#bd3786\"],[0.5555555555555556,\"#d8576b\"],[0.6666666666666666,\"#ed7953\"],[0.7777777777777778,\"#fb9f3a\"],[0.8888888888888888,\"#fdca26\"],[1.0,\"#f0f921\"]]}],\"heatmapgl\":[{\"type\":\"heatmapgl\",\"colorbar\":{\"outlinewidth\":0,\"ticks\":\"\"},\"colorscale\":[[0.0,\"#0d0887\"],[0.1111111111111111,\"#46039f\"],[0.2222222222222222,\"#7201a8\"],[0.3333333333333333,\"#9c179e\"],[0.4444444444444444,\"#bd3786\"],[0.5555555555555556,\"#d8576b\"],[0.6666666666666666,\"#ed7953\"],[0.7777777777777778,\"#fb9f3a\"],[0.8888888888888888,\"#fdca26\"],[1.0,\"#f0f921\"]]}],\"contourcarpet\":[{\"type\":\"contourcarpet\",\"colorbar\":{\"outlinewidth\":0,\"ticks\":\"\"}}],\"contour\":[{\"type\":\"contour\",\"colorbar\":{\"outlinewidth\":0,\"ticks\":\"\"},\"colorscale\":[[0.0,\"#0d0887\"],[0.1111111111111111,\"#46039f\"],[0.2222222222222222,\"#7201a8\"],[0.3333333333333333,\"#9c179e\"],[0.4444444444444444,\"#bd3786\"],[0.5555555555555556,\"#d8576b\"],[0.6666666666666666,\"#ed7953\"],[0.7777777777777778,\"#fb9f3a\"],[0.8888888888888888,\"#fdca26\"],[1.0,\"#f0f921\"]]}],\"surface\":[{\"type\":\"surface\",\"colorbar\":{\"outlinewidth\":0,\"ticks\":\"\"},\"colorscale\":[[0.0,\"#0d0887\"],[0.1111111111111111,\"#46039f\"],[0.2222222222222222,\"#7201a8\"],[0.3333333333333333,\"#9c179e\"],[0.4444444444444444,\"#bd3786\"],[0.5555555555555556,\"#d8576b\"],[0.6666666666666666,\"#ed7953\"],[0.7777777777777778,\"#fb9f3a\"],[0.8888888888888888,\"#fdca26\"],[1.0,\"#f0f921\"]]}],\"mesh3d\":[{\"type\":\"mesh3d\",\"colorbar\":{\"outlinewidth\":0,\"ticks\":\"\"}}],\"scatter\":[{\"fillpattern\":{\"fillmode\":\"overlay\",\"size\":10,\"solidity\":0.2},\"type\":\"scatter\"}],\"parcoords\":[{\"type\":\"parcoords\",\"line\":{\"colorbar\":{\"outlinewidth\":0,\"ticks\":\"\"}}}],\"scatterpolargl\":[{\"type\":\"scatterpolargl\",\"marker\":{\"colorbar\":{\"outlinewidth\":0,\"ticks\":\"\"}}}],\"bar\":[{\"error_x\":{\"color\":\"#2a3f5f\"},\"error_y\":{\"color\":\"#2a3f5f\"},\"marker\":{\"line\":{\"color\":\"#E5ECF6\",\"width\":0.5},\"pattern\":{\"fillmode\":\"overlay\",\"size\":10,\"solidity\":0.2}},\"type\":\"bar\"}],\"scattergeo\":[{\"type\":\"scattergeo\",\"marker\":{\"colorbar\":{\"outlinewidth\":0,\"ticks\":\"\"}}}],\"scatterpolar\":[{\"type\":\"scatterpolar\",\"marker\":{\"colorbar\":{\"outlinewidth\":0,\"ticks\":\"\"}}}],\"histogram\":[{\"marker\":{\"pattern\":{\"fillmode\":\"overlay\",\"size\":10,\"solidity\":0.2}},\"type\":\"histogram\"}],\"scattergl\":[{\"type\":\"scattergl\",\"marker\":{\"colorbar\":{\"outlinewidth\":0,\"ticks\":\"\"}}}],\"scatter3d\":[{\"type\":\"scatter3d\",\"line\":{\"colorbar\":{\"outlinewidth\":0,\"ticks\":\"\"}},\"marker\":{\"colorbar\":{\"outlinewidth\":0,\"ticks\":\"\"}}}],\"scattermapbox\":[{\"type\":\"scattermapbox\",\"marker\":{\"colorbar\":{\"outlinewidth\":0,\"ticks\":\"\"}}}],\"scatterternary\":[{\"type\":\"scatterternary\",\"marker\":{\"colorbar\":{\"outlinewidth\":0,\"ticks\":\"\"}}}],\"scattercarpet\":[{\"type\":\"scattercarpet\",\"marker\":{\"colorbar\":{\"outlinewidth\":0,\"ticks\":\"\"}}}],\"carpet\":[{\"aaxis\":{\"endlinecolor\":\"#2a3f5f\",\"gridcolor\":\"white\",\"linecolor\":\"white\",\"minorgridcolor\":\"white\",\"startlinecolor\":\"#2a3f5f\"},\"baxis\":{\"endlinecolor\":\"#2a3f5f\",\"gridcolor\":\"white\",\"linecolor\":\"white\",\"minorgridcolor\":\"white\",\"startlinecolor\":\"#2a3f5f\"},\"type\":\"carpet\"}],\"table\":[{\"cells\":{\"fill\":{\"color\":\"#EBF0F8\"},\"line\":{\"color\":\"white\"}},\"header\":{\"fill\":{\"color\":\"#C8D4E3\"},\"line\":{\"color\":\"white\"}},\"type\":\"table\"}],\"barpolar\":[{\"marker\":{\"line\":{\"color\":\"#E5ECF6\",\"width\":0.5},\"pattern\":{\"fillmode\":\"overlay\",\"size\":10,\"solidity\":0.2}},\"type\":\"barpolar\"}],\"pie\":[{\"automargin\":true,\"type\":\"pie\"}]},\"layout\":{\"autotypenumbers\":\"strict\",\"colorway\":[\"#636efa\",\"#EF553B\",\"#00cc96\",\"#ab63fa\",\"#FFA15A\",\"#19d3f3\",\"#FF6692\",\"#B6E880\",\"#FF97FF\",\"#FECB52\"],\"font\":{\"color\":\"#2a3f5f\"},\"hovermode\":\"closest\",\"hoverlabel\":{\"align\":\"left\"},\"paper_bgcolor\":\"white\",\"plot_bgcolor\":\"#E5ECF6\",\"polar\":{\"bgcolor\":\"#E5ECF6\",\"angularaxis\":{\"gridcolor\":\"white\",\"linecolor\":\"white\",\"ticks\":\"\"},\"radialaxis\":{\"gridcolor\":\"white\",\"linecolor\":\"white\",\"ticks\":\"\"}},\"ternary\":{\"bgcolor\":\"#E5ECF6\",\"aaxis\":{\"gridcolor\":\"white\",\"linecolor\":\"white\",\"ticks\":\"\"},\"baxis\":{\"gridcolor\":\"white\",\"linecolor\":\"white\",\"ticks\":\"\"},\"caxis\":{\"gridcolor\":\"white\",\"linecolor\":\"white\",\"ticks\":\"\"}},\"coloraxis\":{\"colorbar\":{\"outlinewidth\":0,\"ticks\":\"\"}},\"colorscale\":{\"sequential\":[[0.0,\"#0d0887\"],[0.1111111111111111,\"#46039f\"],[0.2222222222222222,\"#7201a8\"],[0.3333333333333333,\"#9c179e\"],[0.4444444444444444,\"#bd3786\"],[0.5555555555555556,\"#d8576b\"],[0.6666666666666666,\"#ed7953\"],[0.7777777777777778,\"#fb9f3a\"],[0.8888888888888888,\"#fdca26\"],[1.0,\"#f0f921\"]],\"sequentialminus\":[[0.0,\"#0d0887\"],[0.1111111111111111,\"#46039f\"],[0.2222222222222222,\"#7201a8\"],[0.3333333333333333,\"#9c179e\"],[0.4444444444444444,\"#bd3786\"],[0.5555555555555556,\"#d8576b\"],[0.6666666666666666,\"#ed7953\"],[0.7777777777777778,\"#fb9f3a\"],[0.8888888888888888,\"#fdca26\"],[1.0,\"#f0f921\"]],\"diverging\":[[0,\"#8e0152\"],[0.1,\"#c51b7d\"],[0.2,\"#de77ae\"],[0.3,\"#f1b6da\"],[0.4,\"#fde0ef\"],[0.5,\"#f7f7f7\"],[0.6,\"#e6f5d0\"],[0.7,\"#b8e186\"],[0.8,\"#7fbc41\"],[0.9,\"#4d9221\"],[1,\"#276419\"]]},\"xaxis\":{\"gridcolor\":\"white\",\"linecolor\":\"white\",\"ticks\":\"\",\"title\":{\"standoff\":15},\"zerolinecolor\":\"white\",\"automargin\":true,\"zerolinewidth\":2},\"yaxis\":{\"gridcolor\":\"white\",\"linecolor\":\"white\",\"ticks\":\"\",\"title\":{\"standoff\":15},\"zerolinecolor\":\"white\",\"automargin\":true,\"zerolinewidth\":2},\"scene\":{\"xaxis\":{\"backgroundcolor\":\"#E5ECF6\",\"gridcolor\":\"white\",\"linecolor\":\"white\",\"showbackground\":true,\"ticks\":\"\",\"zerolinecolor\":\"white\",\"gridwidth\":2},\"yaxis\":{\"backgroundcolor\":\"#E5ECF6\",\"gridcolor\":\"white\",\"linecolor\":\"white\",\"showbackground\":true,\"ticks\":\"\",\"zerolinecolor\":\"white\",\"gridwidth\":2},\"zaxis\":{\"backgroundcolor\":\"#E5ECF6\",\"gridcolor\":\"white\",\"linecolor\":\"white\",\"showbackground\":true,\"ticks\":\"\",\"zerolinecolor\":\"white\",\"gridwidth\":2}},\"shapedefaults\":{\"line\":{\"color\":\"#2a3f5f\"}},\"annotationdefaults\":{\"arrowcolor\":\"#2a3f5f\",\"arrowhead\":0,\"arrowwidth\":1},\"geo\":{\"bgcolor\":\"white\",\"landcolor\":\"#E5ECF6\",\"subunitcolor\":\"white\",\"showland\":true,\"showlakes\":true,\"lakecolor\":\"white\"},\"title\":{\"x\":0.05},\"mapbox\":{\"style\":\"light\"}}},\"xaxis\":{\"anchor\":\"y\",\"domain\":[0.0,1.0],\"scaleanchor\":\"y\",\"constrain\":\"domain\",\"title\":{\"text\":\"ABC \\u043f\\u043e \\u0441\\u0443\\u043c\\u043c\\u0435\"}},\"yaxis\":{\"anchor\":\"x\",\"domain\":[0.0,1.0],\"autorange\":\"reversed\",\"constrain\":\"domain\",\"title\":{\"text\":\"ABC \\u043f\\u043e \\u043a\\u043e\\u043b\\u0438\\u0447\\u0435\\u0441\\u0442\\u0432\\u0443\"}},\"coloraxis\":{\"colorbar\":{\"title\":{\"text\":\"\\u0427\\u0438\\u0441\\u043b\\u043e \\u0442\\u043e\\u0432\\u0430\\u0440\\u043e\\u0432\"}},\"colorscale\":[[0.0,\"#0d0887\"],[0.1111111111111111,\"#46039f\"],[0.2222222222222222,\"#7201a8\"],[0.3333333333333333,\"#9c179e\"],[0.4444444444444444,\"#bd3786\"],[0.5555555555555556,\"#d8576b\"],[0.6666666666666666,\"#ed7953\"],[0.7777777777777778,\"#fb9f3a\"],[0.8888888888888888,\"#fdca26\"],[1.0,\"#f0f921\"]]},\"title\":{\"text\":\"\\u0422\\u0435\\u043f\\u043b\\u043e\\u0432\\u0430\\u044f \\u043a\\u0430\\u0440\\u0442\\u0430: \\u041f\\u0435\\u0440\\u0435\\u0441\\u0435\\u0447\\u0435\\u043d\\u0438\\u0435 \\u0433\\u0440\\u0443\\u043f\\u043f ABC (\\u041a\\u043e\\u043b\\u0438\\u0447\\u0435\\u0441\\u0442\\u0432\\u043e vs \\u0421\\u0443\\u043c\\u043c\\u0430)\"}},                        {\"responsive\": true}                    ).then(function(){\n",
       "                            \n",
       "var gd = document.getElementById('1ebee251-f8f4-4a9e-b501-bd76cd6d30ff');\n",
       "var x = new MutationObserver(function (mutations, observer) {{\n",
       "        var display = window.getComputedStyle(gd).display;\n",
       "        if (!display || display === 'none') {{\n",
       "            console.log([gd, 'removed!']);\n",
       "            Plotly.purge(gd);\n",
       "            observer.disconnect();\n",
       "        }}\n",
       "}});\n",
       "\n",
       "// Listen for the removal of the full notebook cells\n",
       "var notebookContainer = gd.closest('#notebook-container');\n",
       "if (notebookContainer) {{\n",
       "    x.observe(notebookContainer, {childList: true});\n",
       "}}\n",
       "\n",
       "// Listen for the clearing of the current output cell\n",
       "var outputEl = gd.closest('.output');\n",
       "if (outputEl) {{\n",
       "    x.observe(outputEl, {childList: true});\n",
       "}}\n",
       "\n",
       "                        })                };                });            </script>        </div>"
      ]
     },
     "metadata": {},
     "output_type": "display_data"
    }
   ],
   "source": [
    "pivot = result.pivot_table(index='abc_quantity', columns='abc_sum', values='product_name', aggfunc='count').fillna(0)\n",
    "fig = px.imshow(pivot,\n",
    "                text_auto=True,\n",
    "                labels=dict(x=\"ABC по сумме\", y=\"ABC по количеству\", color=\"Число товаров\"),\n",
    "                title=\"Тепловая карта: Пересечение групп ABC (Количество vs Сумма)\")\n",
    "fig.show()"
   ]
  },
  {
   "cell_type": "markdown",
   "id": "0feba795-b0b7-4519-8ab7-97b4fdd65ef5",
   "metadata": {},
   "source": [
    "#### 9.4. Интерактивная диаграмма: Комбинированные группы (AA, AB, AC и т.д.)"
   ]
  },
  {
   "cell_type": "markdown",
   "id": "4e1316f6-2e14-468c-8c0e-26c4cf522b68",
   "metadata": {},
   "source": [
    "**На графике показано, сколько товаров попало в каждую из возможных комбинаций групп (например, AA, AB, BC и т.д.).**"
   ]
  },
  {
   "cell_type": "code",
   "execution_count": 159,
   "id": "7f86ee99-7508-432f-8e0e-0b873ba00348",
   "metadata": {},
   "outputs": [
    {
     "data": {
      "application/vnd.plotly.v1+json": {
       "config": {
        "plotlyServerURL": "https://plot.ly"
       },
       "data": [
        {
         "alignmentgroup": "True",
         "bingroup": "x",
         "hovertemplate": "Комбинированная группа=%{x}<br>count=%{y}<extra></extra>",
         "legendgroup": "AA",
         "marker": {
          "color": "#636efa",
          "pattern": {
           "shape": ""
          }
         },
         "name": "AA",
         "offsetgroup": "AA",
         "orientation": "v",
         "showlegend": true,
         "type": "histogram",
         "x": [
          "AA",
          "AA",
          "AA",
          "AA",
          "AA",
          "AA",
          "AA",
          "AA",
          "AA",
          "AA",
          "AA",
          "AA",
          "AA",
          "AA",
          "AA",
          "AA",
          "AA",
          "AA",
          "AA",
          "AA",
          "AA",
          "AA",
          "AA",
          "AA",
          "AA",
          "AA",
          "AA",
          "AA",
          "AA",
          "AA",
          "AA",
          "AA",
          "AA",
          "AA",
          "AA",
          "AA",
          "AA",
          "AA",
          "AA",
          "AA",
          "AA",
          "AA",
          "AA",
          "AA",
          "AA",
          "AA",
          "AA",
          "AA",
          "AA",
          "AA",
          "AA",
          "AA",
          "AA",
          "AA",
          "AA",
          "AA",
          "AA",
          "AA",
          "AA",
          "AA",
          "AA",
          "AA",
          "AA",
          "AA",
          "AA",
          "AA",
          "AA",
          "AA",
          "AA",
          "AA",
          "AA",
          "AA",
          "AA",
          "AA",
          "AA",
          "AA",
          "AA",
          "AA",
          "AA",
          "AA",
          "AA",
          "AA",
          "AA",
          "AA",
          "AA",
          "AA",
          "AA",
          "AA",
          "AA",
          "AA",
          "AA",
          "AA",
          "AA",
          "AA",
          "AA",
          "AA",
          "AA",
          "AA",
          "AA",
          "AA",
          "AA",
          "AA",
          "AA",
          "AA",
          "AA",
          "AA",
          "AA",
          "AA",
          "AA",
          "AA",
          "AA",
          "AA",
          "AA",
          "AA",
          "AA",
          "AA",
          "AA",
          "AA",
          "AA",
          "AA",
          "AA",
          "AA",
          "AA",
          "AA",
          "AA",
          "AA",
          "AA",
          "AA",
          "AA",
          "AA",
          "AA",
          "AA",
          "AA",
          "AA",
          "AA",
          "AA",
          "AA",
          "AA",
          "AA",
          "AA",
          "AA",
          "AA",
          "AA",
          "AA",
          "AA",
          "AA",
          "AA",
          "AA",
          "AA",
          "AA",
          "AA",
          "AA",
          "AA",
          "AA",
          "AA",
          "AA",
          "AA",
          "AA",
          "AA",
          "AA",
          "AA",
          "AA",
          "AA",
          "AA",
          "AA",
          "AA",
          "AA",
          "AA",
          "AA",
          "AA",
          "AA",
          "AA",
          "AA",
          "AA",
          "AA",
          "AA",
          "AA",
          "AA",
          "AA",
          "AA",
          "AA",
          "AA",
          "AA",
          "AA",
          "AA",
          "AA",
          "AA",
          "AA",
          "AA",
          "AA",
          "AA",
          "AA",
          "AA",
          "AA",
          "AA",
          "AA",
          "AA",
          "AA",
          "AA",
          "AA",
          "AA",
          "AA",
          "AA",
          "AA",
          "AA",
          "AA",
          "AA",
          "AA",
          "AA",
          "AA",
          "AA",
          "AA",
          "AA",
          "AA",
          "AA",
          "AA",
          "AA",
          "AA",
          "AA",
          "AA",
          "AA",
          "AA",
          "AA",
          "AA",
          "AA",
          "AA",
          "AA",
          "AA",
          "AA",
          "AA",
          "AA",
          "AA",
          "AA",
          "AA",
          "AA",
          "AA",
          "AA",
          "AA",
          "AA",
          "AA",
          "AA",
          "AA",
          "AA",
          "AA",
          "AA",
          "AA",
          "AA",
          "AA",
          "AA",
          "AA",
          "AA",
          "AA",
          "AA",
          "AA",
          "AA",
          "AA",
          "AA",
          "AA",
          "AA",
          "AA",
          "AA",
          "AA",
          "AA",
          "AA",
          "AA",
          "AA",
          "AA",
          "AA",
          "AA",
          "AA",
          "AA",
          "AA",
          "AA",
          "AA",
          "AA",
          "AA",
          "AA",
          "AA",
          "AA",
          "AA",
          "AA",
          "AA",
          "AA",
          "AA",
          "AA",
          "AA",
          "AA",
          "AA",
          "AA",
          "AA",
          "AA",
          "AA",
          "AA",
          "AA",
          "AA",
          "AA",
          "AA",
          "AA",
          "AA",
          "AA",
          "AA",
          "AA",
          "AA",
          "AA",
          "AA",
          "AA",
          "AA",
          "AA",
          "AA",
          "AA",
          "AA",
          "AA",
          "AA",
          "AA",
          "AA"
         ],
         "xaxis": "x",
         "yaxis": "y"
        },
        {
         "alignmentgroup": "True",
         "bingroup": "x",
         "hovertemplate": "Комбинированная группа=%{x}<br>count=%{y}<extra></extra>",
         "legendgroup": "AB",
         "marker": {
          "color": "#EF553B",
          "pattern": {
           "shape": ""
          }
         },
         "name": "AB",
         "offsetgroup": "AB",
         "orientation": "v",
         "showlegend": true,
         "type": "histogram",
         "x": [
          "AB",
          "AB",
          "AB",
          "AB",
          "AB",
          "AB",
          "AB",
          "AB",
          "AB",
          "AB",
          "AB",
          "AB",
          "AB",
          "AB",
          "AB",
          "AB",
          "AB",
          "AB",
          "AB",
          "AB",
          "AB",
          "AB",
          "AB",
          "AB",
          "AB",
          "AB",
          "AB",
          "AB",
          "AB",
          "AB",
          "AB",
          "AB",
          "AB",
          "AB",
          "AB",
          "AB",
          "AB",
          "AB",
          "AB",
          "AB",
          "AB",
          "AB",
          "AB",
          "AB",
          "AB",
          "AB",
          "AB",
          "AB",
          "AB",
          "AB",
          "AB",
          "AB",
          "AB",
          "AB",
          "AB",
          "AB",
          "AB",
          "AB",
          "AB",
          "AB",
          "AB",
          "AB",
          "AB",
          "AB",
          "AB",
          "AB",
          "AB",
          "AB",
          "AB",
          "AB",
          "AB",
          "AB",
          "AB",
          "AB",
          "AB",
          "AB",
          "AB",
          "AB",
          "AB",
          "AB",
          "AB",
          "AB",
          "AB",
          "AB",
          "AB",
          "AB",
          "AB",
          "AB",
          "AB",
          "AB",
          "AB",
          "AB",
          "AB",
          "AB",
          "AB",
          "AB",
          "AB",
          "AB",
          "AB",
          "AB",
          "AB",
          "AB",
          "AB",
          "AB",
          "AB",
          "AB",
          "AB",
          "AB",
          "AB",
          "AB",
          "AB",
          "AB",
          "AB",
          "AB",
          "AB",
          "AB",
          "AB",
          "AB",
          "AB",
          "AB",
          "AB",
          "AB",
          "AB",
          "AB",
          "AB",
          "AB",
          "AB",
          "AB",
          "AB",
          "AB",
          "AB",
          "AB",
          "AB",
          "AB",
          "AB",
          "AB",
          "AB",
          "AB",
          "AB",
          "AB",
          "AB",
          "AB",
          "AB",
          "AB",
          "AB",
          "AB",
          "AB",
          "AB",
          "AB",
          "AB",
          "AB",
          "AB",
          "AB",
          "AB",
          "AB",
          "AB",
          "AB",
          "AB",
          "AB",
          "AB",
          "AB",
          "AB",
          "AB",
          "AB",
          "AB",
          "AB",
          "AB",
          "AB",
          "AB",
          "AB",
          "AB",
          "AB",
          "AB",
          "AB",
          "AB",
          "AB",
          "AB",
          "AB",
          "AB",
          "AB",
          "AB",
          "AB",
          "AB",
          "AB",
          "AB",
          "AB",
          "AB",
          "AB",
          "AB",
          "AB",
          "AB",
          "AB",
          "AB",
          "AB",
          "AB",
          "AB",
          "AB",
          "AB",
          "AB",
          "AB",
          "AB",
          "AB",
          "AB",
          "AB",
          "AB",
          "AB",
          "AB",
          "AB",
          "AB",
          "AB",
          "AB",
          "AB",
          "AB",
          "AB",
          "AB",
          "AB",
          "AB",
          "AB",
          "AB",
          "AB",
          "AB",
          "AB",
          "AB",
          "AB",
          "AB",
          "AB",
          "AB",
          "AB",
          "AB",
          "AB",
          "AB",
          "AB",
          "AB",
          "AB",
          "AB",
          "AB",
          "AB",
          "AB",
          "AB",
          "AB",
          "AB",
          "AB",
          "AB",
          "AB",
          "AB",
          "AB",
          "AB",
          "AB",
          "AB",
          "AB",
          "AB",
          "AB",
          "AB",
          "AB",
          "AB",
          "AB",
          "AB",
          "AB",
          "AB",
          "AB",
          "AB",
          "AB",
          "AB",
          "AB",
          "AB",
          "AB",
          "AB",
          "AB",
          "AB",
          "AB",
          "AB",
          "AB",
          "AB",
          "AB",
          "AB",
          "AB",
          "AB",
          "AB",
          "AB",
          "AB",
          "AB",
          "AB",
          "AB",
          "AB",
          "AB",
          "AB",
          "AB",
          "AB",
          "AB",
          "AB",
          "AB",
          "AB",
          "AB",
          "AB",
          "AB",
          "AB",
          "AB",
          "AB",
          "AB",
          "AB",
          "AB",
          "AB",
          "AB",
          "AB"
         ],
         "xaxis": "x",
         "yaxis": "y"
        },
        {
         "alignmentgroup": "True",
         "bingroup": "x",
         "hovertemplate": "Комбинированная группа=%{x}<br>count=%{y}<extra></extra>",
         "legendgroup": "AC",
         "marker": {
          "color": "#00cc96",
          "pattern": {
           "shape": ""
          }
         },
         "name": "AC",
         "offsetgroup": "AC",
         "orientation": "v",
         "showlegend": true,
         "type": "histogram",
         "x": [
          "AC",
          "AC",
          "AC",
          "AC",
          "AC",
          "AC",
          "AC",
          "AC",
          "AC",
          "AC",
          "AC",
          "AC",
          "AC",
          "AC",
          "AC",
          "AC",
          "AC",
          "AC",
          "AC",
          "AC",
          "AC",
          "AC",
          "AC",
          "AC",
          "AC",
          "AC",
          "AC",
          "AC",
          "AC",
          "AC",
          "AC",
          "AC",
          "AC",
          "AC",
          "AC",
          "AC",
          "AC",
          "AC",
          "AC",
          "AC",
          "AC",
          "AC",
          "AC",
          "AC",
          "AC",
          "AC",
          "AC",
          "AC",
          "AC",
          "AC",
          "AC",
          "AC",
          "AC",
          "AC",
          "AC",
          "AC",
          "AC",
          "AC",
          "AC",
          "AC",
          "AC",
          "AC",
          "AC",
          "AC",
          "AC",
          "AC",
          "AC",
          "AC",
          "AC",
          "AC",
          "AC",
          "AC",
          "AC",
          "AC",
          "AC",
          "AC",
          "AC",
          "AC",
          "AC",
          "AC",
          "AC",
          "AC",
          "AC",
          "AC",
          "AC",
          "AC",
          "AC",
          "AC",
          "AC",
          "AC",
          "AC",
          "AC",
          "AC",
          "AC",
          "AC",
          "AC",
          "AC",
          "AC",
          "AC",
          "AC",
          "AC",
          "AC",
          "AC",
          "AC",
          "AC",
          "AC",
          "AC",
          "AC",
          "AC",
          "AC",
          "AC",
          "AC",
          "AC",
          "AC",
          "AC",
          "AC",
          "AC",
          "AC",
          "AC",
          "AC",
          "AC",
          "AC",
          "AC",
          "AC",
          "AC",
          "AC",
          "AC",
          "AC",
          "AC",
          "AC",
          "AC",
          "AC",
          "AC",
          "AC",
          "AC",
          "AC",
          "AC",
          "AC",
          "AC",
          "AC",
          "AC",
          "AC",
          "AC",
          "AC",
          "AC",
          "AC",
          "AC",
          "AC",
          "AC",
          "AC",
          "AC",
          "AC",
          "AC",
          "AC",
          "AC",
          "AC",
          "AC",
          "AC",
          "AC",
          "AC",
          "AC",
          "AC",
          "AC",
          "AC",
          "AC",
          "AC",
          "AC",
          "AC",
          "AC",
          "AC",
          "AC",
          "AC",
          "AC",
          "AC",
          "AC",
          "AC",
          "AC",
          "AC",
          "AC",
          "AC",
          "AC",
          "AC",
          "AC",
          "AC",
          "AC",
          "AC",
          "AC",
          "AC",
          "AC",
          "AC",
          "AC",
          "AC",
          "AC",
          "AC",
          "AC",
          "AC",
          "AC",
          "AC",
          "AC",
          "AC",
          "AC",
          "AC",
          "AC",
          "AC",
          "AC",
          "AC",
          "AC",
          "AC",
          "AC",
          "AC",
          "AC",
          "AC",
          "AC",
          "AC",
          "AC",
          "AC",
          "AC",
          "AC",
          "AC",
          "AC",
          "AC",
          "AC",
          "AC",
          "AC",
          "AC",
          "AC",
          "AC",
          "AC",
          "AC",
          "AC",
          "AC",
          "AC",
          "AC",
          "AC",
          "AC",
          "AC",
          "AC",
          "AC",
          "AC",
          "AC",
          "AC",
          "AC",
          "AC",
          "AC",
          "AC",
          "AC",
          "AC",
          "AC",
          "AC",
          "AC",
          "AC",
          "AC",
          "AC",
          "AC",
          "AC",
          "AC",
          "AC",
          "AC",
          "AC",
          "AC",
          "AC",
          "AC",
          "AC",
          "AC",
          "AC",
          "AC",
          "AC",
          "AC",
          "AC",
          "AC",
          "AC",
          "AC",
          "AC",
          "AC",
          "AC",
          "AC",
          "AC",
          "AC",
          "AC",
          "AC",
          "AC",
          "AC",
          "AC",
          "AC",
          "AC",
          "AC",
          "AC",
          "AC",
          "AC",
          "AC",
          "AC",
          "AC",
          "AC",
          "AC",
          "AC",
          "AC",
          "AC",
          "AC",
          "AC",
          "AC",
          "AC",
          "AC",
          "AC",
          "AC",
          "AC",
          "AC",
          "AC",
          "AC",
          "AC",
          "AC",
          "AC",
          "AC",
          "AC",
          "AC",
          "AC",
          "AC",
          "AC",
          "AC",
          "AC",
          "AC",
          "AC",
          "AC",
          "AC",
          "AC",
          "AC",
          "AC",
          "AC",
          "AC",
          "AC",
          "AC",
          "AC",
          "AC",
          "AC",
          "AC",
          "AC",
          "AC",
          "AC",
          "AC",
          "AC",
          "AC",
          "AC",
          "AC",
          "AC",
          "AC",
          "AC",
          "AC",
          "AC",
          "AC",
          "AC",
          "AC",
          "AC",
          "AC",
          "AC",
          "AC",
          "AC",
          "AC",
          "AC",
          "AC",
          "AC",
          "AC",
          "AC",
          "AC",
          "AC",
          "AC",
          "AC",
          "AC",
          "AC",
          "AC",
          "AC",
          "AC",
          "AC",
          "AC",
          "AC",
          "AC",
          "AC",
          "AC",
          "AC",
          "AC",
          "AC",
          "AC",
          "AC",
          "AC",
          "AC",
          "AC",
          "AC",
          "AC",
          "AC",
          "AC",
          "AC",
          "AC",
          "AC",
          "AC",
          "AC",
          "AC",
          "AC",
          "AC",
          "AC",
          "AC",
          "AC",
          "AC",
          "AC",
          "AC",
          "AC",
          "AC",
          "AC",
          "AC",
          "AC",
          "AC",
          "AC",
          "AC",
          "AC",
          "AC",
          "AC",
          "AC",
          "AC",
          "AC",
          "AC",
          "AC",
          "AC",
          "AC",
          "AC",
          "AC",
          "AC",
          "AC",
          "AC",
          "AC",
          "AC",
          "AC",
          "AC",
          "AC",
          "AC",
          "AC",
          "AC",
          "AC",
          "AC",
          "AC",
          "AC",
          "AC",
          "AC",
          "AC",
          "AC",
          "AC",
          "AC",
          "AC",
          "AC",
          "AC",
          "AC",
          "AC",
          "AC",
          "AC",
          "AC",
          "AC",
          "AC",
          "AC",
          "AC",
          "AC",
          "AC",
          "AC",
          "AC",
          "AC",
          "AC",
          "AC",
          "AC",
          "AC",
          "AC",
          "AC",
          "AC",
          "AC",
          "AC",
          "AC",
          "AC",
          "AC",
          "AC",
          "AC",
          "AC"
         ],
         "xaxis": "x",
         "yaxis": "y"
        },
        {
         "alignmentgroup": "True",
         "bingroup": "x",
         "hovertemplate": "Комбинированная группа=%{x}<br>count=%{y}<extra></extra>",
         "legendgroup": "BA",
         "marker": {
          "color": "#ab63fa",
          "pattern": {
           "shape": ""
          }
         },
         "name": "BA",
         "offsetgroup": "BA",
         "orientation": "v",
         "showlegend": true,
         "type": "histogram",
         "x": [
          "BA",
          "BA",
          "BA",
          "BA",
          "BA",
          "BA",
          "BA",
          "BA",
          "BA",
          "BA",
          "BA",
          "BA",
          "BA",
          "BA",
          "BA",
          "BA",
          "BA",
          "BA",
          "BA",
          "BA",
          "BA",
          "BA",
          "BA",
          "BA",
          "BA",
          "BA",
          "BA",
          "BA",
          "BA",
          "BA",
          "BA",
          "BA",
          "BA",
          "BA",
          "BA",
          "BA",
          "BA",
          "BA",
          "BA",
          "BA",
          "BA",
          "BA",
          "BA",
          "BA",
          "BA",
          "BA",
          "BA",
          "BA",
          "BA",
          "BA",
          "BA",
          "BA",
          "BA",
          "BA",
          "BA",
          "BA",
          "BA",
          "BA",
          "BA",
          "BA",
          "BA",
          "BA",
          "BA",
          "BA",
          "BA",
          "BA",
          "BA",
          "BA",
          "BA",
          "BA",
          "BA",
          "BA",
          "BA",
          "BA",
          "BA"
         ],
         "xaxis": "x",
         "yaxis": "y"
        },
        {
         "alignmentgroup": "True",
         "bingroup": "x",
         "hovertemplate": "Комбинированная группа=%{x}<br>count=%{y}<extra></extra>",
         "legendgroup": "BB",
         "marker": {
          "color": "#FFA15A",
          "pattern": {
           "shape": ""
          }
         },
         "name": "BB",
         "offsetgroup": "BB",
         "orientation": "v",
         "showlegend": true,
         "type": "histogram",
         "x": [
          "BB",
          "BB",
          "BB",
          "BB",
          "BB",
          "BB",
          "BB",
          "BB",
          "BB",
          "BB",
          "BB",
          "BB",
          "BB",
          "BB",
          "BB",
          "BB",
          "BB",
          "BB",
          "BB",
          "BB",
          "BB",
          "BB",
          "BB",
          "BB",
          "BB",
          "BB",
          "BB",
          "BB",
          "BB",
          "BB",
          "BB",
          "BB",
          "BB",
          "BB",
          "BB",
          "BB",
          "BB",
          "BB",
          "BB",
          "BB",
          "BB",
          "BB",
          "BB",
          "BB",
          "BB",
          "BB",
          "BB",
          "BB",
          "BB",
          "BB",
          "BB",
          "BB",
          "BB",
          "BB",
          "BB",
          "BB",
          "BB",
          "BB",
          "BB",
          "BB",
          "BB",
          "BB",
          "BB",
          "BB",
          "BB",
          "BB",
          "BB",
          "BB",
          "BB",
          "BB",
          "BB",
          "BB",
          "BB",
          "BB",
          "BB",
          "BB",
          "BB",
          "BB",
          "BB",
          "BB",
          "BB",
          "BB",
          "BB",
          "BB",
          "BB",
          "BB",
          "BB",
          "BB",
          "BB",
          "BB",
          "BB",
          "BB",
          "BB",
          "BB",
          "BB",
          "BB",
          "BB",
          "BB",
          "BB",
          "BB",
          "BB",
          "BB",
          "BB",
          "BB",
          "BB",
          "BB",
          "BB",
          "BB",
          "BB",
          "BB",
          "BB",
          "BB",
          "BB",
          "BB",
          "BB",
          "BB",
          "BB",
          "BB",
          "BB",
          "BB",
          "BB"
         ],
         "xaxis": "x",
         "yaxis": "y"
        },
        {
         "alignmentgroup": "True",
         "bingroup": "x",
         "hovertemplate": "Комбинированная группа=%{x}<br>count=%{y}<extra></extra>",
         "legendgroup": "BC",
         "marker": {
          "color": "#19d3f3",
          "pattern": {
           "shape": ""
          }
         },
         "name": "BC",
         "offsetgroup": "BC",
         "orientation": "v",
         "showlegend": true,
         "type": "histogram",
         "x": [
          "BC",
          "BC",
          "BC",
          "BC",
          "BC",
          "BC",
          "BC",
          "BC",
          "BC",
          "BC",
          "BC",
          "BC",
          "BC",
          "BC",
          "BC",
          "BC",
          "BC",
          "BC",
          "BC",
          "BC",
          "BC",
          "BC",
          "BC",
          "BC",
          "BC",
          "BC",
          "BC",
          "BC",
          "BC",
          "BC",
          "BC",
          "BC",
          "BC",
          "BC",
          "BC",
          "BC",
          "BC",
          "BC",
          "BC",
          "BC",
          "BC",
          "BC",
          "BC",
          "BC",
          "BC",
          "BC",
          "BC",
          "BC",
          "BC",
          "BC",
          "BC",
          "BC",
          "BC",
          "BC",
          "BC",
          "BC",
          "BC",
          "BC",
          "BC",
          "BC",
          "BC",
          "BC",
          "BC",
          "BC",
          "BC",
          "BC",
          "BC",
          "BC",
          "BC",
          "BC",
          "BC",
          "BC",
          "BC",
          "BC",
          "BC",
          "BC",
          "BC",
          "BC",
          "BC",
          "BC",
          "BC",
          "BC",
          "BC",
          "BC",
          "BC",
          "BC",
          "BC",
          "BC",
          "BC",
          "BC",
          "BC",
          "BC",
          "BC",
          "BC",
          "BC",
          "BC",
          "BC",
          "BC",
          "BC",
          "BC",
          "BC",
          "BC",
          "BC",
          "BC",
          "BC",
          "BC",
          "BC",
          "BC",
          "BC",
          "BC",
          "BC",
          "BC",
          "BC",
          "BC",
          "BC",
          "BC",
          "BC",
          "BC",
          "BC",
          "BC",
          "BC",
          "BC",
          "BC",
          "BC",
          "BC",
          "BC",
          "BC",
          "BC",
          "BC",
          "BC",
          "BC",
          "BC",
          "BC",
          "BC",
          "BC",
          "BC",
          "BC",
          "BC",
          "BC",
          "BC",
          "BC",
          "BC",
          "BC",
          "BC",
          "BC",
          "BC",
          "BC",
          "BC",
          "BC",
          "BC",
          "BC",
          "BC",
          "BC",
          "BC",
          "BC",
          "BC",
          "BC",
          "BC",
          "BC",
          "BC",
          "BC",
          "BC",
          "BC",
          "BC",
          "BC",
          "BC",
          "BC",
          "BC",
          "BC",
          "BC",
          "BC",
          "BC",
          "BC",
          "BC",
          "BC",
          "BC",
          "BC",
          "BC",
          "BC",
          "BC",
          "BC",
          "BC",
          "BC",
          "BC",
          "BC",
          "BC",
          "BC",
          "BC",
          "BC",
          "BC",
          "BC",
          "BC",
          "BC",
          "BC",
          "BC",
          "BC",
          "BC",
          "BC",
          "BC",
          "BC",
          "BC",
          "BC",
          "BC",
          "BC",
          "BC",
          "BC",
          "BC",
          "BC",
          "BC",
          "BC",
          "BC",
          "BC",
          "BC",
          "BC",
          "BC",
          "BC",
          "BC",
          "BC",
          "BC",
          "BC",
          "BC",
          "BC",
          "BC",
          "BC",
          "BC",
          "BC",
          "BC",
          "BC",
          "BC",
          "BC",
          "BC",
          "BC",
          "BC",
          "BC",
          "BC",
          "BC",
          "BC",
          "BC",
          "BC",
          "BC",
          "BC"
         ],
         "xaxis": "x",
         "yaxis": "y"
        },
        {
         "alignmentgroup": "True",
         "bingroup": "x",
         "hovertemplate": "Комбинированная группа=%{x}<br>count=%{y}<extra></extra>",
         "legendgroup": "CA",
         "marker": {
          "color": "#FF6692",
          "pattern": {
           "shape": ""
          }
         },
         "name": "CA",
         "offsetgroup": "CA",
         "orientation": "v",
         "showlegend": true,
         "type": "histogram",
         "x": [
          "CA",
          "CA",
          "CA",
          "CA",
          "CA",
          "CA",
          "CA",
          "CA",
          "CA",
          "CA",
          "CA",
          "CA",
          "CA",
          "CA",
          "CA",
          "CA",
          "CA",
          "CA",
          "CA",
          "CA",
          "CA",
          "CA",
          "CA",
          "CA",
          "CA",
          "CA",
          "CA",
          "CA",
          "CA",
          "CA",
          "CA",
          "CA",
          "CA"
         ],
         "xaxis": "x",
         "yaxis": "y"
        },
        {
         "alignmentgroup": "True",
         "bingroup": "x",
         "hovertemplate": "Комбинированная группа=%{x}<br>count=%{y}<extra></extra>",
         "legendgroup": "CB",
         "marker": {
          "color": "#B6E880",
          "pattern": {
           "shape": ""
          }
         },
         "name": "CB",
         "offsetgroup": "CB",
         "orientation": "v",
         "showlegend": true,
         "type": "histogram",
         "x": [
          "CB",
          "CB",
          "CB",
          "CB",
          "CB",
          "CB",
          "CB",
          "CB",
          "CB",
          "CB",
          "CB",
          "CB",
          "CB",
          "CB",
          "CB",
          "CB",
          "CB",
          "CB",
          "CB",
          "CB",
          "CB",
          "CB",
          "CB",
          "CB",
          "CB",
          "CB",
          "CB",
          "CB",
          "CB",
          "CB",
          "CB",
          "CB",
          "CB",
          "CB",
          "CB",
          "CB",
          "CB",
          "CB",
          "CB",
          "CB",
          "CB",
          "CB",
          "CB",
          "CB",
          "CB",
          "CB",
          "CB",
          "CB",
          "CB",
          "CB",
          "CB",
          "CB",
          "CB",
          "CB",
          "CB",
          "CB",
          "CB",
          "CB",
          "CB",
          "CB",
          "CB",
          "CB",
          "CB",
          "CB",
          "CB",
          "CB"
         ],
         "xaxis": "x",
         "yaxis": "y"
        },
        {
         "alignmentgroup": "True",
         "bingroup": "x",
         "hovertemplate": "Комбинированная группа=%{x}<br>count=%{y}<extra></extra>",
         "legendgroup": "CC",
         "marker": {
          "color": "#FF97FF",
          "pattern": {
           "shape": ""
          }
         },
         "name": "CC",
         "offsetgroup": "CC",
         "orientation": "v",
         "showlegend": true,
         "type": "histogram",
         "x": [
          "CC",
          "CC",
          "CC",
          "CC",
          "CC",
          "CC",
          "CC",
          "CC",
          "CC",
          "CC",
          "CC",
          "CC",
          "CC",
          "CC",
          "CC",
          "CC",
          "CC",
          "CC",
          "CC",
          "CC",
          "CC",
          "CC",
          "CC",
          "CC",
          "CC",
          "CC",
          "CC",
          "CC",
          "CC",
          "CC",
          "CC",
          "CC",
          "CC",
          "CC",
          "CC",
          "CC",
          "CC",
          "CC",
          "CC",
          "CC",
          "CC",
          "CC",
          "CC",
          "CC",
          "CC",
          "CC",
          "CC",
          "CC",
          "CC",
          "CC",
          "CC",
          "CC",
          "CC",
          "CC",
          "CC",
          "CC",
          "CC",
          "CC",
          "CC",
          "CC",
          "CC",
          "CC",
          "CC",
          "CC",
          "CC",
          "CC",
          "CC",
          "CC",
          "CC",
          "CC",
          "CC",
          "CC",
          "CC",
          "CC",
          "CC",
          "CC",
          "CC",
          "CC",
          "CC",
          "CC",
          "CC",
          "CC",
          "CC",
          "CC",
          "CC",
          "CC",
          "CC",
          "CC",
          "CC",
          "CC",
          "CC",
          "CC",
          "CC",
          "CC",
          "CC",
          "CC",
          "CC",
          "CC",
          "CC",
          "CC",
          "CC",
          "CC",
          "CC",
          "CC",
          "CC",
          "CC",
          "CC",
          "CC",
          "CC",
          "CC",
          "CC",
          "CC",
          "CC",
          "CC",
          "CC",
          "CC",
          "CC",
          "CC",
          "CC",
          "CC",
          "CC",
          "CC",
          "CC",
          "CC",
          "CC",
          "CC",
          "CC",
          "CC",
          "CC",
          "CC",
          "CC",
          "CC",
          "CC",
          "CC",
          "CC",
          "CC",
          "CC",
          "CC",
          "CC",
          "CC",
          "CC",
          "CC",
          "CC",
          "CC",
          "CC",
          "CC",
          "CC",
          "CC",
          "CC",
          "CC",
          "CC",
          "CC",
          "CC",
          "CC",
          "CC",
          "CC",
          "CC",
          "CC",
          "CC",
          "CC",
          "CC",
          "CC",
          "CC",
          "CC",
          "CC",
          "CC",
          "CC",
          "CC",
          "CC",
          "CC",
          "CC",
          "CC",
          "CC",
          "CC",
          "CC",
          "CC",
          "CC",
          "CC",
          "CC",
          "CC",
          "CC",
          "CC",
          "CC",
          "CC",
          "CC",
          "CC",
          "CC",
          "CC",
          "CC",
          "CC",
          "CC",
          "CC",
          "CC",
          "CC",
          "CC",
          "CC",
          "CC",
          "CC",
          "CC",
          "CC",
          "CC",
          "CC",
          "CC",
          "CC",
          "CC",
          "CC",
          "CC",
          "CC",
          "CC",
          "CC",
          "CC",
          "CC",
          "CC",
          "CC",
          "CC",
          "CC",
          "CC",
          "CC",
          "CC"
         ],
         "xaxis": "x",
         "yaxis": "y"
        }
       ],
       "layout": {
        "autosize": true,
        "barmode": "relative",
        "legend": {
         "title": {
          "text": "Комбинированная группа"
         },
         "tracegroupgap": 0
        },
        "showlegend": false,
        "template": {
         "data": {
          "bar": [
           {
            "error_x": {
             "color": "#2a3f5f"
            },
            "error_y": {
             "color": "#2a3f5f"
            },
            "marker": {
             "line": {
              "color": "#E5ECF6",
              "width": 0.5
             },
             "pattern": {
              "fillmode": "overlay",
              "size": 10,
              "solidity": 0.2
             }
            },
            "type": "bar"
           }
          ],
          "barpolar": [
           {
            "marker": {
             "line": {
              "color": "#E5ECF6",
              "width": 0.5
             },
             "pattern": {
              "fillmode": "overlay",
              "size": 10,
              "solidity": 0.2
             }
            },
            "type": "barpolar"
           }
          ],
          "carpet": [
           {
            "aaxis": {
             "endlinecolor": "#2a3f5f",
             "gridcolor": "white",
             "linecolor": "white",
             "minorgridcolor": "white",
             "startlinecolor": "#2a3f5f"
            },
            "baxis": {
             "endlinecolor": "#2a3f5f",
             "gridcolor": "white",
             "linecolor": "white",
             "minorgridcolor": "white",
             "startlinecolor": "#2a3f5f"
            },
            "type": "carpet"
           }
          ],
          "choropleth": [
           {
            "colorbar": {
             "outlinewidth": 0,
             "ticks": ""
            },
            "type": "choropleth"
           }
          ],
          "contour": [
           {
            "colorbar": {
             "outlinewidth": 0,
             "ticks": ""
            },
            "colorscale": [
             [
              0,
              "#0d0887"
             ],
             [
              0.1111111111111111,
              "#46039f"
             ],
             [
              0.2222222222222222,
              "#7201a8"
             ],
             [
              0.3333333333333333,
              "#9c179e"
             ],
             [
              0.4444444444444444,
              "#bd3786"
             ],
             [
              0.5555555555555556,
              "#d8576b"
             ],
             [
              0.6666666666666666,
              "#ed7953"
             ],
             [
              0.7777777777777778,
              "#fb9f3a"
             ],
             [
              0.8888888888888888,
              "#fdca26"
             ],
             [
              1,
              "#f0f921"
             ]
            ],
            "type": "contour"
           }
          ],
          "contourcarpet": [
           {
            "colorbar": {
             "outlinewidth": 0,
             "ticks": ""
            },
            "type": "contourcarpet"
           }
          ],
          "heatmap": [
           {
            "colorbar": {
             "outlinewidth": 0,
             "ticks": ""
            },
            "colorscale": [
             [
              0,
              "#0d0887"
             ],
             [
              0.1111111111111111,
              "#46039f"
             ],
             [
              0.2222222222222222,
              "#7201a8"
             ],
             [
              0.3333333333333333,
              "#9c179e"
             ],
             [
              0.4444444444444444,
              "#bd3786"
             ],
             [
              0.5555555555555556,
              "#d8576b"
             ],
             [
              0.6666666666666666,
              "#ed7953"
             ],
             [
              0.7777777777777778,
              "#fb9f3a"
             ],
             [
              0.8888888888888888,
              "#fdca26"
             ],
             [
              1,
              "#f0f921"
             ]
            ],
            "type": "heatmap"
           }
          ],
          "heatmapgl": [
           {
            "colorbar": {
             "outlinewidth": 0,
             "ticks": ""
            },
            "colorscale": [
             [
              0,
              "#0d0887"
             ],
             [
              0.1111111111111111,
              "#46039f"
             ],
             [
              0.2222222222222222,
              "#7201a8"
             ],
             [
              0.3333333333333333,
              "#9c179e"
             ],
             [
              0.4444444444444444,
              "#bd3786"
             ],
             [
              0.5555555555555556,
              "#d8576b"
             ],
             [
              0.6666666666666666,
              "#ed7953"
             ],
             [
              0.7777777777777778,
              "#fb9f3a"
             ],
             [
              0.8888888888888888,
              "#fdca26"
             ],
             [
              1,
              "#f0f921"
             ]
            ],
            "type": "heatmapgl"
           }
          ],
          "histogram": [
           {
            "marker": {
             "pattern": {
              "fillmode": "overlay",
              "size": 10,
              "solidity": 0.2
             }
            },
            "type": "histogram"
           }
          ],
          "histogram2d": [
           {
            "colorbar": {
             "outlinewidth": 0,
             "ticks": ""
            },
            "colorscale": [
             [
              0,
              "#0d0887"
             ],
             [
              0.1111111111111111,
              "#46039f"
             ],
             [
              0.2222222222222222,
              "#7201a8"
             ],
             [
              0.3333333333333333,
              "#9c179e"
             ],
             [
              0.4444444444444444,
              "#bd3786"
             ],
             [
              0.5555555555555556,
              "#d8576b"
             ],
             [
              0.6666666666666666,
              "#ed7953"
             ],
             [
              0.7777777777777778,
              "#fb9f3a"
             ],
             [
              0.8888888888888888,
              "#fdca26"
             ],
             [
              1,
              "#f0f921"
             ]
            ],
            "type": "histogram2d"
           }
          ],
          "histogram2dcontour": [
           {
            "colorbar": {
             "outlinewidth": 0,
             "ticks": ""
            },
            "colorscale": [
             [
              0,
              "#0d0887"
             ],
             [
              0.1111111111111111,
              "#46039f"
             ],
             [
              0.2222222222222222,
              "#7201a8"
             ],
             [
              0.3333333333333333,
              "#9c179e"
             ],
             [
              0.4444444444444444,
              "#bd3786"
             ],
             [
              0.5555555555555556,
              "#d8576b"
             ],
             [
              0.6666666666666666,
              "#ed7953"
             ],
             [
              0.7777777777777778,
              "#fb9f3a"
             ],
             [
              0.8888888888888888,
              "#fdca26"
             ],
             [
              1,
              "#f0f921"
             ]
            ],
            "type": "histogram2dcontour"
           }
          ],
          "mesh3d": [
           {
            "colorbar": {
             "outlinewidth": 0,
             "ticks": ""
            },
            "type": "mesh3d"
           }
          ],
          "parcoords": [
           {
            "line": {
             "colorbar": {
              "outlinewidth": 0,
              "ticks": ""
             }
            },
            "type": "parcoords"
           }
          ],
          "pie": [
           {
            "automargin": true,
            "type": "pie"
           }
          ],
          "scatter": [
           {
            "fillpattern": {
             "fillmode": "overlay",
             "size": 10,
             "solidity": 0.2
            },
            "type": "scatter"
           }
          ],
          "scatter3d": [
           {
            "line": {
             "colorbar": {
              "outlinewidth": 0,
              "ticks": ""
             }
            },
            "marker": {
             "colorbar": {
              "outlinewidth": 0,
              "ticks": ""
             }
            },
            "type": "scatter3d"
           }
          ],
          "scattercarpet": [
           {
            "marker": {
             "colorbar": {
              "outlinewidth": 0,
              "ticks": ""
             }
            },
            "type": "scattercarpet"
           }
          ],
          "scattergeo": [
           {
            "marker": {
             "colorbar": {
              "outlinewidth": 0,
              "ticks": ""
             }
            },
            "type": "scattergeo"
           }
          ],
          "scattergl": [
           {
            "marker": {
             "colorbar": {
              "outlinewidth": 0,
              "ticks": ""
             }
            },
            "type": "scattergl"
           }
          ],
          "scattermapbox": [
           {
            "marker": {
             "colorbar": {
              "outlinewidth": 0,
              "ticks": ""
             }
            },
            "type": "scattermapbox"
           }
          ],
          "scatterpolar": [
           {
            "marker": {
             "colorbar": {
              "outlinewidth": 0,
              "ticks": ""
             }
            },
            "type": "scatterpolar"
           }
          ],
          "scatterpolargl": [
           {
            "marker": {
             "colorbar": {
              "outlinewidth": 0,
              "ticks": ""
             }
            },
            "type": "scatterpolargl"
           }
          ],
          "scatterternary": [
           {
            "marker": {
             "colorbar": {
              "outlinewidth": 0,
              "ticks": ""
             }
            },
            "type": "scatterternary"
           }
          ],
          "surface": [
           {
            "colorbar": {
             "outlinewidth": 0,
             "ticks": ""
            },
            "colorscale": [
             [
              0,
              "#0d0887"
             ],
             [
              0.1111111111111111,
              "#46039f"
             ],
             [
              0.2222222222222222,
              "#7201a8"
             ],
             [
              0.3333333333333333,
              "#9c179e"
             ],
             [
              0.4444444444444444,
              "#bd3786"
             ],
             [
              0.5555555555555556,
              "#d8576b"
             ],
             [
              0.6666666666666666,
              "#ed7953"
             ],
             [
              0.7777777777777778,
              "#fb9f3a"
             ],
             [
              0.8888888888888888,
              "#fdca26"
             ],
             [
              1,
              "#f0f921"
             ]
            ],
            "type": "surface"
           }
          ],
          "table": [
           {
            "cells": {
             "fill": {
              "color": "#EBF0F8"
             },
             "line": {
              "color": "white"
             }
            },
            "header": {
             "fill": {
              "color": "#C8D4E3"
             },
             "line": {
              "color": "white"
             }
            },
            "type": "table"
           }
          ]
         },
         "layout": {
          "annotationdefaults": {
           "arrowcolor": "#2a3f5f",
           "arrowhead": 0,
           "arrowwidth": 1
          },
          "autotypenumbers": "strict",
          "coloraxis": {
           "colorbar": {
            "outlinewidth": 0,
            "ticks": ""
           }
          },
          "colorscale": {
           "diverging": [
            [
             0,
             "#8e0152"
            ],
            [
             0.1,
             "#c51b7d"
            ],
            [
             0.2,
             "#de77ae"
            ],
            [
             0.3,
             "#f1b6da"
            ],
            [
             0.4,
             "#fde0ef"
            ],
            [
             0.5,
             "#f7f7f7"
            ],
            [
             0.6,
             "#e6f5d0"
            ],
            [
             0.7,
             "#b8e186"
            ],
            [
             0.8,
             "#7fbc41"
            ],
            [
             0.9,
             "#4d9221"
            ],
            [
             1,
             "#276419"
            ]
           ],
           "sequential": [
            [
             0,
             "#0d0887"
            ],
            [
             0.1111111111111111,
             "#46039f"
            ],
            [
             0.2222222222222222,
             "#7201a8"
            ],
            [
             0.3333333333333333,
             "#9c179e"
            ],
            [
             0.4444444444444444,
             "#bd3786"
            ],
            [
             0.5555555555555556,
             "#d8576b"
            ],
            [
             0.6666666666666666,
             "#ed7953"
            ],
            [
             0.7777777777777778,
             "#fb9f3a"
            ],
            [
             0.8888888888888888,
             "#fdca26"
            ],
            [
             1,
             "#f0f921"
            ]
           ],
           "sequentialminus": [
            [
             0,
             "#0d0887"
            ],
            [
             0.1111111111111111,
             "#46039f"
            ],
            [
             0.2222222222222222,
             "#7201a8"
            ],
            [
             0.3333333333333333,
             "#9c179e"
            ],
            [
             0.4444444444444444,
             "#bd3786"
            ],
            [
             0.5555555555555556,
             "#d8576b"
            ],
            [
             0.6666666666666666,
             "#ed7953"
            ],
            [
             0.7777777777777778,
             "#fb9f3a"
            ],
            [
             0.8888888888888888,
             "#fdca26"
            ],
            [
             1,
             "#f0f921"
            ]
           ]
          },
          "colorway": [
           "#636efa",
           "#EF553B",
           "#00cc96",
           "#ab63fa",
           "#FFA15A",
           "#19d3f3",
           "#FF6692",
           "#B6E880",
           "#FF97FF",
           "#FECB52"
          ],
          "font": {
           "color": "#2a3f5f"
          },
          "geo": {
           "bgcolor": "white",
           "lakecolor": "white",
           "landcolor": "#E5ECF6",
           "showlakes": true,
           "showland": true,
           "subunitcolor": "white"
          },
          "hoverlabel": {
           "align": "left"
          },
          "hovermode": "closest",
          "mapbox": {
           "style": "light"
          },
          "paper_bgcolor": "white",
          "plot_bgcolor": "#E5ECF6",
          "polar": {
           "angularaxis": {
            "gridcolor": "white",
            "linecolor": "white",
            "ticks": ""
           },
           "bgcolor": "#E5ECF6",
           "radialaxis": {
            "gridcolor": "white",
            "linecolor": "white",
            "ticks": ""
           }
          },
          "scene": {
           "xaxis": {
            "backgroundcolor": "#E5ECF6",
            "gridcolor": "white",
            "gridwidth": 2,
            "linecolor": "white",
            "showbackground": true,
            "ticks": "",
            "zerolinecolor": "white"
           },
           "yaxis": {
            "backgroundcolor": "#E5ECF6",
            "gridcolor": "white",
            "gridwidth": 2,
            "linecolor": "white",
            "showbackground": true,
            "ticks": "",
            "zerolinecolor": "white"
           },
           "zaxis": {
            "backgroundcolor": "#E5ECF6",
            "gridcolor": "white",
            "gridwidth": 2,
            "linecolor": "white",
            "showbackground": true,
            "ticks": "",
            "zerolinecolor": "white"
           }
          },
          "shapedefaults": {
           "line": {
            "color": "#2a3f5f"
           }
          },
          "ternary": {
           "aaxis": {
            "gridcolor": "white",
            "linecolor": "white",
            "ticks": ""
           },
           "baxis": {
            "gridcolor": "white",
            "linecolor": "white",
            "ticks": ""
           },
           "bgcolor": "#E5ECF6",
           "caxis": {
            "gridcolor": "white",
            "linecolor": "white",
            "ticks": ""
           }
          },
          "title": {
           "x": 0.05
          },
          "xaxis": {
           "automargin": true,
           "gridcolor": "white",
           "linecolor": "white",
           "ticks": "",
           "title": {
            "standoff": 15
           },
           "zerolinecolor": "white",
           "zerolinewidth": 2
          },
          "yaxis": {
           "automargin": true,
           "gridcolor": "white",
           "linecolor": "white",
           "ticks": "",
           "title": {
            "standoff": 15
           },
           "zerolinecolor": "white",
           "zerolinewidth": 2
          }
         }
        },
        "title": {
         "text": "Распределение товаров по комбинированным группам (ABC по количеству + ABC по сумме)"
        },
        "xaxis": {
         "anchor": "y",
         "autorange": true,
         "categoryarray": [
          "AA",
          "AB",
          "AC",
          "BA",
          "BB",
          "BC",
          "CA",
          "CB",
          "CC"
         ],
         "categoryorder": "array",
         "domain": [
          0,
          1
         ],
         "range": [
          -0.5,
          8.5
         ],
         "title": {
          "text": "Комбинированная группа"
         },
         "type": "category"
        },
        "yaxis": {
         "anchor": "x",
         "autorange": true,
         "domain": [
          0,
          1
         ],
         "range": [
          0,
          500
         ],
         "title": {
          "text": "Число товаров"
         }
        }
       }
      },
      "image/png": "[encoded data removed]",
      "text/html": [
       "<div>                            <div id=\"009de5df-ef85-4dba-b70c-625ce9a729d4\" class=\"plotly-graph-div\" style=\"height:550px; width:100%;\"></div>            <script type=\"text/javascript\">                require([\"plotly\"], function(Plotly) {                    window.PLOTLYENV=window.PLOTLYENV || {};                                    if (document.getElementById(\"009de5df-ef85-4dba-b70c-625ce9a729d4\")) {                    Plotly.newPlot(                        \"009de5df-ef85-4dba-b70c-625ce9a729d4\",                        [{\"alignmentgroup\":\"True\",\"bingroup\":\"x\",\"hovertemplate\":\"\\u041a\\u043e\\u043c\\u0431\\u0438\\u043d\\u0438\\u0440\\u043e\\u0432\\u0430\\u043d\\u043d\\u0430\\u044f \\u0433\\u0440\\u0443\\u043f\\u043f\\u0430=%{x}\\u003cbr\\u003ecount=%{y}\\u003cextra\\u003e\\u003c\\u002fextra\\u003e\",\"legendgroup\":\"AA\",\"marker\":{\"color\":\"#636efa\",\"pattern\":{\"shape\":\"\"}},\"name\":\"AA\",\"offsetgroup\":\"AA\",\"orientation\":\"v\",\"showlegend\":true,\"x\":[\"AA\",\"AA\",\"AA\",\"AA\",\"AA\",\"AA\",\"AA\",\"AA\",\"AA\",\"AA\",\"AA\",\"AA\",\"AA\",\"AA\",\"AA\",\"AA\",\"AA\",\"AA\",\"AA\",\"AA\",\"AA\",\"AA\",\"AA\",\"AA\",\"AA\",\"AA\",\"AA\",\"AA\",\"AA\",\"AA\",\"AA\",\"AA\",\"AA\",\"AA\",\"AA\",\"AA\",\"AA\",\"AA\",\"AA\",\"AA\",\"AA\",\"AA\",\"AA\",\"AA\",\"AA\",\"AA\",\"AA\",\"AA\",\"AA\",\"AA\",\"AA\",\"AA\",\"AA\",\"AA\",\"AA\",\"AA\",\"AA\",\"AA\",\"AA\",\"AA\",\"AA\",\"AA\",\"AA\",\"AA\",\"AA\",\"AA\",\"AA\",\"AA\",\"AA\",\"AA\",\"AA\",\"AA\",\"AA\",\"AA\",\"AA\",\"AA\",\"AA\",\"AA\",\"AA\",\"AA\",\"AA\",\"AA\",\"AA\",\"AA\",\"AA\",\"AA\",\"AA\",\"AA\",\"AA\",\"AA\",\"AA\",\"AA\",\"AA\",\"AA\",\"AA\",\"AA\",\"AA\",\"AA\",\"AA\",\"AA\",\"AA\",\"AA\",\"AA\",\"AA\",\"AA\",\"AA\",\"AA\",\"AA\",\"AA\",\"AA\",\"AA\",\"AA\",\"AA\",\"AA\",\"AA\",\"AA\",\"AA\",\"AA\",\"AA\",\"AA\",\"AA\",\"AA\",\"AA\",\"AA\",\"AA\",\"AA\",\"AA\",\"AA\",\"AA\",\"AA\",\"AA\",\"AA\",\"AA\",\"AA\",\"AA\",\"AA\",\"AA\",\"AA\",\"AA\",\"AA\",\"AA\",\"AA\",\"AA\",\"AA\",\"AA\",\"AA\",\"AA\",\"AA\",\"AA\",\"AA\",\"AA\",\"AA\",\"AA\",\"AA\",\"AA\",\"AA\",\"AA\",\"AA\",\"AA\",\"AA\",\"AA\",\"AA\",\"AA\",\"AA\",\"AA\",\"AA\",\"AA\",\"AA\",\"AA\",\"AA\",\"AA\",\"AA\",\"AA\",\"AA\",\"AA\",\"AA\",\"AA\",\"AA\",\"AA\",\"AA\",\"AA\",\"AA\",\"AA\",\"AA\",\"AA\",\"AA\",\"AA\",\"AA\",\"AA\",\"AA\",\"AA\",\"AA\",\"AA\",\"AA\",\"AA\",\"AA\",\"AA\",\"AA\",\"AA\",\"AA\",\"AA\",\"AA\",\"AA\",\"AA\",\"AA\",\"AA\",\"AA\",\"AA\",\"AA\",\"AA\",\"AA\",\"AA\",\"AA\",\"AA\",\"AA\",\"AA\",\"AA\",\"AA\",\"AA\",\"AA\",\"AA\",\"AA\",\"AA\",\"AA\",\"AA\",\"AA\",\"AA\",\"AA\",\"AA\",\"AA\",\"AA\",\"AA\",\"AA\",\"AA\",\"AA\",\"AA\",\"AA\",\"AA\",\"AA\",\"AA\",\"AA\",\"AA\",\"AA\",\"AA\",\"AA\",\"AA\",\"AA\",\"AA\",\"AA\",\"AA\",\"AA\",\"AA\",\"AA\",\"AA\",\"AA\",\"AA\",\"AA\",\"AA\",\"AA\",\"AA\",\"AA\",\"AA\",\"AA\",\"AA\",\"AA\",\"AA\",\"AA\",\"AA\",\"AA\",\"AA\",\"AA\",\"AA\",\"AA\",\"AA\",\"AA\",\"AA\",\"AA\",\"AA\",\"AA\",\"AA\",\"AA\",\"AA\",\"AA\",\"AA\",\"AA\",\"AA\",\"AA\",\"AA\",\"AA\",\"AA\",\"AA\",\"AA\",\"AA\",\"AA\",\"AA\",\"AA\",\"AA\",\"AA\",\"AA\",\"AA\",\"AA\",\"AA\",\"AA\",\"AA\",\"AA\",\"AA\",\"AA\",\"AA\",\"AA\",\"AA\",\"AA\",\"AA\",\"AA\",\"AA\",\"AA\"],\"xaxis\":\"x\",\"yaxis\":\"y\",\"type\":\"histogram\"},{\"alignmentgroup\":\"True\",\"bingroup\":\"x\",\"hovertemplate\":\"\\u041a\\u043e\\u043c\\u0431\\u0438\\u043d\\u0438\\u0440\\u043e\\u0432\\u0430\\u043d\\u043d\\u0430\\u044f \\u0433\\u0440\\u0443\\u043f\\u043f\\u0430=%{x}\\u003cbr\\u003ecount=%{y}\\u003cextra\\u003e\\u003c\\u002fextra\\u003e\",\"legendgroup\":\"AB\",\"marker\":{\"color\":\"#EF553B\",\"pattern\":{\"shape\":\"\"}},\"name\":\"AB\",\"offsetgroup\":\"AB\",\"orientation\":\"v\",\"showlegend\":true,\"x\":[\"AB\",\"AB\",\"AB\",\"AB\",\"AB\",\"AB\",\"AB\",\"AB\",\"AB\",\"AB\",\"AB\",\"AB\",\"AB\",\"AB\",\"AB\",\"AB\",\"AB\",\"AB\",\"AB\",\"AB\",\"AB\",\"AB\",\"AB\",\"AB\",\"AB\",\"AB\",\"AB\",\"AB\",\"AB\",\"AB\",\"AB\",\"AB\",\"AB\",\"AB\",\"AB\",\"AB\",\"AB\",\"AB\",\"AB\",\"AB\",\"AB\",\"AB\",\"AB\",\"AB\",\"AB\",\"AB\",\"AB\",\"AB\",\"AB\",\"AB\",\"AB\",\"AB\",\"AB\",\"AB\",\"AB\",\"AB\",\"AB\",\"AB\",\"AB\",\"AB\",\"AB\",\"AB\",\"AB\",\"AB\",\"AB\",\"AB\",\"AB\",\"AB\",\"AB\",\"AB\",\"AB\",\"AB\",\"AB\",\"AB\",\"AB\",\"AB\",\"AB\",\"AB\",\"AB\",\"AB\",\"AB\",\"AB\",\"AB\",\"AB\",\"AB\",\"AB\",\"AB\",\"AB\",\"AB\",\"AB\",\"AB\",\"AB\",\"AB\",\"AB\",\"AB\",\"AB\",\"AB\",\"AB\",\"AB\",\"AB\",\"AB\",\"AB\",\"AB\",\"AB\",\"AB\",\"AB\",\"AB\",\"AB\",\"AB\",\"AB\",\"AB\",\"AB\",\"AB\",\"AB\",\"AB\",\"AB\",\"AB\",\"AB\",\"AB\",\"AB\",\"AB\",\"AB\",\"AB\",\"AB\",\"AB\",\"AB\",\"AB\",\"AB\",\"AB\",\"AB\",\"AB\",\"AB\",\"AB\",\"AB\",\"AB\",\"AB\",\"AB\",\"AB\",\"AB\",\"AB\",\"AB\",\"AB\",\"AB\",\"AB\",\"AB\",\"AB\",\"AB\",\"AB\",\"AB\",\"AB\",\"AB\",\"AB\",\"AB\",\"AB\",\"AB\",\"AB\",\"AB\",\"AB\",\"AB\",\"AB\",\"AB\",\"AB\",\"AB\",\"AB\",\"AB\",\"AB\",\"AB\",\"AB\",\"AB\",\"AB\",\"AB\",\"AB\",\"AB\",\"AB\",\"AB\",\"AB\",\"AB\",\"AB\",\"AB\",\"AB\",\"AB\",\"AB\",\"AB\",\"AB\",\"AB\",\"AB\",\"AB\",\"AB\",\"AB\",\"AB\",\"AB\",\"AB\",\"AB\",\"AB\",\"AB\",\"AB\",\"AB\",\"AB\",\"AB\",\"AB\",\"AB\",\"AB\",\"AB\",\"AB\",\"AB\",\"AB\",\"AB\",\"AB\",\"AB\",\"AB\",\"AB\",\"AB\",\"AB\",\"AB\",\"AB\",\"AB\",\"AB\",\"AB\",\"AB\",\"AB\",\"AB\",\"AB\",\"AB\",\"AB\",\"AB\",\"AB\",\"AB\",\"AB\",\"AB\",\"AB\",\"AB\",\"AB\",\"AB\",\"AB\",\"AB\",\"AB\",\"AB\",\"AB\",\"AB\",\"AB\",\"AB\",\"AB\",\"AB\",\"AB\",\"AB\",\"AB\",\"AB\",\"AB\",\"AB\",\"AB\",\"AB\",\"AB\",\"AB\",\"AB\",\"AB\",\"AB\",\"AB\",\"AB\",\"AB\",\"AB\",\"AB\",\"AB\",\"AB\",\"AB\",\"AB\",\"AB\",\"AB\",\"AB\",\"AB\",\"AB\",\"AB\",\"AB\",\"AB\",\"AB\",\"AB\",\"AB\",\"AB\",\"AB\",\"AB\",\"AB\",\"AB\",\"AB\",\"AB\",\"AB\",\"AB\",\"AB\",\"AB\",\"AB\",\"AB\",\"AB\",\"AB\",\"AB\",\"AB\",\"AB\",\"AB\",\"AB\",\"AB\",\"AB\",\"AB\",\"AB\",\"AB\",\"AB\",\"AB\",\"AB\"],\"xaxis\":\"x\",\"yaxis\":\"y\",\"type\":\"histogram\"},{\"alignmentgroup\":\"True\",\"bingroup\":\"x\",\"hovertemplate\":\"\\u041a\\u043e\\u043c\\u0431\\u0438\\u043d\\u0438\\u0440\\u043e\\u0432\\u0430\\u043d\\u043d\\u0430\\u044f \\u0433\\u0440\\u0443\\u043f\\u043f\\u0430=%{x}\\u003cbr\\u003ecount=%{y}\\u003cextra\\u003e\\u003c\\u002fextra\\u003e\",\"legendgroup\":\"AC\",\"marker\":{\"color\":\"#00cc96\",\"pattern\":{\"shape\":\"\"}},\"name\":\"AC\",\"offsetgroup\":\"AC\",\"orientation\":\"v\",\"showlegend\":true,\"x\":[\"AC\",\"AC\",\"AC\",\"AC\",\"AC\",\"AC\",\"AC\",\"AC\",\"AC\",\"AC\",\"AC\",\"AC\",\"AC\",\"AC\",\"AC\",\"AC\",\"AC\",\"AC\",\"AC\",\"AC\",\"AC\",\"AC\",\"AC\",\"AC\",\"AC\",\"AC\",\"AC\",\"AC\",\"AC\",\"AC\",\"AC\",\"AC\",\"AC\",\"AC\",\"AC\",\"AC\",\"AC\",\"AC\",\"AC\",\"AC\",\"AC\",\"AC\",\"AC\",\"AC\",\"AC\",\"AC\",\"AC\",\"AC\",\"AC\",\"AC\",\"AC\",\"AC\",\"AC\",\"AC\",\"AC\",\"AC\",\"AC\",\"AC\",\"AC\",\"AC\",\"AC\",\"AC\",\"AC\",\"AC\",\"AC\",\"AC\",\"AC\",\"AC\",\"AC\",\"AC\",\"AC\",\"AC\",\"AC\",\"AC\",\"AC\",\"AC\",\"AC\",\"AC\",\"AC\",\"AC\",\"AC\",\"AC\",\"AC\",\"AC\",\"AC\",\"AC\",\"AC\",\"AC\",\"AC\",\"AC\",\"AC\",\"AC\",\"AC\",\"AC\",\"AC\",\"AC\",\"AC\",\"AC\",\"AC\",\"AC\",\"AC\",\"AC\",\"AC\",\"AC\",\"AC\",\"AC\",\"AC\",\"AC\",\"AC\",\"AC\",\"AC\",\"AC\",\"AC\",\"AC\",\"AC\",\"AC\",\"AC\",\"AC\",\"AC\",\"AC\",\"AC\",\"AC\",\"AC\",\"AC\",\"AC\",\"AC\",\"AC\",\"AC\",\"AC\",\"AC\",\"AC\",\"AC\",\"AC\",\"AC\",\"AC\",\"AC\",\"AC\",\"AC\",\"AC\",\"AC\",\"AC\",\"AC\",\"AC\",\"AC\",\"AC\",\"AC\",\"AC\",\"AC\",\"AC\",\"AC\",\"AC\",\"AC\",\"AC\",\"AC\",\"AC\",\"AC\",\"AC\",\"AC\",\"AC\",\"AC\",\"AC\",\"AC\",\"AC\",\"AC\",\"AC\",\"AC\",\"AC\",\"AC\",\"AC\",\"AC\",\"AC\",\"AC\",\"AC\",\"AC\",\"AC\",\"AC\",\"AC\",\"AC\",\"AC\",\"AC\",\"AC\",\"AC\",\"AC\",\"AC\",\"AC\",\"AC\",\"AC\",\"AC\",\"AC\",\"AC\",\"AC\",\"AC\",\"AC\",\"AC\",\"AC\",\"AC\",\"AC\",\"AC\",\"AC\",\"AC\",\"AC\",\"AC\",\"AC\",\"AC\",\"AC\",\"AC\",\"AC\",\"AC\",\"AC\",\"AC\",\"AC\",\"AC\",\"AC\",\"AC\",\"AC\",\"AC\",\"AC\",\"AC\",\"AC\",\"AC\",\"AC\",\"AC\",\"AC\",\"AC\",\"AC\",\"AC\",\"AC\",\"AC\",\"AC\",\"AC\",\"AC\",\"AC\",\"AC\",\"AC\",\"AC\",\"AC\",\"AC\",\"AC\",\"AC\",\"AC\",\"AC\",\"AC\",\"AC\",\"AC\",\"AC\",\"AC\",\"AC\",\"AC\",\"AC\",\"AC\",\"AC\",\"AC\",\"AC\",\"AC\",\"AC\",\"AC\",\"AC\",\"AC\",\"AC\",\"AC\",\"AC\",\"AC\",\"AC\",\"AC\",\"AC\",\"AC\",\"AC\",\"AC\",\"AC\",\"AC\",\"AC\",\"AC\",\"AC\",\"AC\",\"AC\",\"AC\",\"AC\",\"AC\",\"AC\",\"AC\",\"AC\",\"AC\",\"AC\",\"AC\",\"AC\",\"AC\",\"AC\",\"AC\",\"AC\",\"AC\",\"AC\",\"AC\",\"AC\",\"AC\",\"AC\",\"AC\",\"AC\",\"AC\",\"AC\",\"AC\",\"AC\",\"AC\",\"AC\",\"AC\",\"AC\",\"AC\",\"AC\",\"AC\",\"AC\",\"AC\",\"AC\",\"AC\",\"AC\",\"AC\",\"AC\",\"AC\",\"AC\",\"AC\",\"AC\",\"AC\",\"AC\",\"AC\",\"AC\",\"AC\",\"AC\",\"AC\",\"AC\",\"AC\",\"AC\",\"AC\",\"AC\",\"AC\",\"AC\",\"AC\",\"AC\",\"AC\",\"AC\",\"AC\",\"AC\",\"AC\",\"AC\",\"AC\",\"AC\",\"AC\",\"AC\",\"AC\",\"AC\",\"AC\",\"AC\",\"AC\",\"AC\",\"AC\",\"AC\",\"AC\",\"AC\",\"AC\",\"AC\",\"AC\",\"AC\",\"AC\",\"AC\",\"AC\",\"AC\",\"AC\",\"AC\",\"AC\",\"AC\",\"AC\",\"AC\",\"AC\",\"AC\",\"AC\",\"AC\",\"AC\",\"AC\",\"AC\",\"AC\",\"AC\",\"AC\",\"AC\",\"AC\",\"AC\",\"AC\",\"AC\",\"AC\",\"AC\",\"AC\",\"AC\",\"AC\",\"AC\",\"AC\",\"AC\",\"AC\",\"AC\",\"AC\",\"AC\",\"AC\",\"AC\",\"AC\",\"AC\",\"AC\",\"AC\",\"AC\",\"AC\",\"AC\",\"AC\",\"AC\",\"AC\",\"AC\",\"AC\",\"AC\",\"AC\",\"AC\",\"AC\",\"AC\",\"AC\",\"AC\",\"AC\",\"AC\",\"AC\",\"AC\",\"AC\",\"AC\",\"AC\",\"AC\",\"AC\",\"AC\",\"AC\",\"AC\",\"AC\",\"AC\",\"AC\",\"AC\",\"AC\",\"AC\",\"AC\",\"AC\",\"AC\",\"AC\",\"AC\",\"AC\",\"AC\",\"AC\",\"AC\",\"AC\",\"AC\",\"AC\",\"AC\",\"AC\",\"AC\",\"AC\",\"AC\",\"AC\",\"AC\",\"AC\",\"AC\",\"AC\",\"AC\",\"AC\",\"AC\",\"AC\",\"AC\",\"AC\",\"AC\",\"AC\",\"AC\",\"AC\",\"AC\",\"AC\",\"AC\",\"AC\",\"AC\",\"AC\",\"AC\",\"AC\"],\"xaxis\":\"x\",\"yaxis\":\"y\",\"type\":\"histogram\"},{\"alignmentgroup\":\"True\",\"bingroup\":\"x\",\"hovertemplate\":\"\\u041a\\u043e\\u043c\\u0431\\u0438\\u043d\\u0438\\u0440\\u043e\\u0432\\u0430\\u043d\\u043d\\u0430\\u044f \\u0433\\u0440\\u0443\\u043f\\u043f\\u0430=%{x}\\u003cbr\\u003ecount=%{y}\\u003cextra\\u003e\\u003c\\u002fextra\\u003e\",\"legendgroup\":\"BA\",\"marker\":{\"color\":\"#ab63fa\",\"pattern\":{\"shape\":\"\"}},\"name\":\"BA\",\"offsetgroup\":\"BA\",\"orientation\":\"v\",\"showlegend\":true,\"x\":[\"BA\",\"BA\",\"BA\",\"BA\",\"BA\",\"BA\",\"BA\",\"BA\",\"BA\",\"BA\",\"BA\",\"BA\",\"BA\",\"BA\",\"BA\",\"BA\",\"BA\",\"BA\",\"BA\",\"BA\",\"BA\",\"BA\",\"BA\",\"BA\",\"BA\",\"BA\",\"BA\",\"BA\",\"BA\",\"BA\",\"BA\",\"BA\",\"BA\",\"BA\",\"BA\",\"BA\",\"BA\",\"BA\",\"BA\",\"BA\",\"BA\",\"BA\",\"BA\",\"BA\",\"BA\",\"BA\",\"BA\",\"BA\",\"BA\",\"BA\",\"BA\",\"BA\",\"BA\",\"BA\",\"BA\",\"BA\",\"BA\",\"BA\",\"BA\",\"BA\",\"BA\",\"BA\",\"BA\",\"BA\",\"BA\",\"BA\",\"BA\",\"BA\",\"BA\",\"BA\",\"BA\",\"BA\",\"BA\",\"BA\",\"BA\"],\"xaxis\":\"x\",\"yaxis\":\"y\",\"type\":\"histogram\"},{\"alignmentgroup\":\"True\",\"bingroup\":\"x\",\"hovertemplate\":\"\\u041a\\u043e\\u043c\\u0431\\u0438\\u043d\\u0438\\u0440\\u043e\\u0432\\u0430\\u043d\\u043d\\u0430\\u044f \\u0433\\u0440\\u0443\\u043f\\u043f\\u0430=%{x}\\u003cbr\\u003ecount=%{y}\\u003cextra\\u003e\\u003c\\u002fextra\\u003e\",\"legendgroup\":\"BB\",\"marker\":{\"color\":\"#FFA15A\",\"pattern\":{\"shape\":\"\"}},\"name\":\"BB\",\"offsetgroup\":\"BB\",\"orientation\":\"v\",\"showlegend\":true,\"x\":[\"BB\",\"BB\",\"BB\",\"BB\",\"BB\",\"BB\",\"BB\",\"BB\",\"BB\",\"BB\",\"BB\",\"BB\",\"BB\",\"BB\",\"BB\",\"BB\",\"BB\",\"BB\",\"BB\",\"BB\",\"BB\",\"BB\",\"BB\",\"BB\",\"BB\",\"BB\",\"BB\",\"BB\",\"BB\",\"BB\",\"BB\",\"BB\",\"BB\",\"BB\",\"BB\",\"BB\",\"BB\",\"BB\",\"BB\",\"BB\",\"BB\",\"BB\",\"BB\",\"BB\",\"BB\",\"BB\",\"BB\",\"BB\",\"BB\",\"BB\",\"BB\",\"BB\",\"BB\",\"BB\",\"BB\",\"BB\",\"BB\",\"BB\",\"BB\",\"BB\",\"BB\",\"BB\",\"BB\",\"BB\",\"BB\",\"BB\",\"BB\",\"BB\",\"BB\",\"BB\",\"BB\",\"BB\",\"BB\",\"BB\",\"BB\",\"BB\",\"BB\",\"BB\",\"BB\",\"BB\",\"BB\",\"BB\",\"BB\",\"BB\",\"BB\",\"BB\",\"BB\",\"BB\",\"BB\",\"BB\",\"BB\",\"BB\",\"BB\",\"BB\",\"BB\",\"BB\",\"BB\",\"BB\",\"BB\",\"BB\",\"BB\",\"BB\",\"BB\",\"BB\",\"BB\",\"BB\",\"BB\",\"BB\",\"BB\",\"BB\",\"BB\",\"BB\",\"BB\",\"BB\",\"BB\",\"BB\",\"BB\",\"BB\",\"BB\",\"BB\",\"BB\"],\"xaxis\":\"x\",\"yaxis\":\"y\",\"type\":\"histogram\"},{\"alignmentgroup\":\"True\",\"bingroup\":\"x\",\"hovertemplate\":\"\\u041a\\u043e\\u043c\\u0431\\u0438\\u043d\\u0438\\u0440\\u043e\\u0432\\u0430\\u043d\\u043d\\u0430\\u044f \\u0433\\u0440\\u0443\\u043f\\u043f\\u0430=%{x}\\u003cbr\\u003ecount=%{y}\\u003cextra\\u003e\\u003c\\u002fextra\\u003e\",\"legendgroup\":\"BC\",\"marker\":{\"color\":\"#19d3f3\",\"pattern\":{\"shape\":\"\"}},\"name\":\"BC\",\"offsetgroup\":\"BC\",\"orientation\":\"v\",\"showlegend\":true,\"x\":[\"BC\",\"BC\",\"BC\",\"BC\",\"BC\",\"BC\",\"BC\",\"BC\",\"BC\",\"BC\",\"BC\",\"BC\",\"BC\",\"BC\",\"BC\",\"BC\",\"BC\",\"BC\",\"BC\",\"BC\",\"BC\",\"BC\",\"BC\",\"BC\",\"BC\",\"BC\",\"BC\",\"BC\",\"BC\",\"BC\",\"BC\",\"BC\",\"BC\",\"BC\",\"BC\",\"BC\",\"BC\",\"BC\",\"BC\",\"BC\",\"BC\",\"BC\",\"BC\",\"BC\",\"BC\",\"BC\",\"BC\",\"BC\",\"BC\",\"BC\",\"BC\",\"BC\",\"BC\",\"BC\",\"BC\",\"BC\",\"BC\",\"BC\",\"BC\",\"BC\",\"BC\",\"BC\",\"BC\",\"BC\",\"BC\",\"BC\",\"BC\",\"BC\",\"BC\",\"BC\",\"BC\",\"BC\",\"BC\",\"BC\",\"BC\",\"BC\",\"BC\",\"BC\",\"BC\",\"BC\",\"BC\",\"BC\",\"BC\",\"BC\",\"BC\",\"BC\",\"BC\",\"BC\",\"BC\",\"BC\",\"BC\",\"BC\",\"BC\",\"BC\",\"BC\",\"BC\",\"BC\",\"BC\",\"BC\",\"BC\",\"BC\",\"BC\",\"BC\",\"BC\",\"BC\",\"BC\",\"BC\",\"BC\",\"BC\",\"BC\",\"BC\",\"BC\",\"BC\",\"BC\",\"BC\",\"BC\",\"BC\",\"BC\",\"BC\",\"BC\",\"BC\",\"BC\",\"BC\",\"BC\",\"BC\",\"BC\",\"BC\",\"BC\",\"BC\",\"BC\",\"BC\",\"BC\",\"BC\",\"BC\",\"BC\",\"BC\",\"BC\",\"BC\",\"BC\",\"BC\",\"BC\",\"BC\",\"BC\",\"BC\",\"BC\",\"BC\",\"BC\",\"BC\",\"BC\",\"BC\",\"BC\",\"BC\",\"BC\",\"BC\",\"BC\",\"BC\",\"BC\",\"BC\",\"BC\",\"BC\",\"BC\",\"BC\",\"BC\",\"BC\",\"BC\",\"BC\",\"BC\",\"BC\",\"BC\",\"BC\",\"BC\",\"BC\",\"BC\",\"BC\",\"BC\",\"BC\",\"BC\",\"BC\",\"BC\",\"BC\",\"BC\",\"BC\",\"BC\",\"BC\",\"BC\",\"BC\",\"BC\",\"BC\",\"BC\",\"BC\",\"BC\",\"BC\",\"BC\",\"BC\",\"BC\",\"BC\",\"BC\",\"BC\",\"BC\",\"BC\",\"BC\",\"BC\",\"BC\",\"BC\",\"BC\",\"BC\",\"BC\",\"BC\",\"BC\",\"BC\",\"BC\",\"BC\",\"BC\",\"BC\",\"BC\",\"BC\",\"BC\",\"BC\",\"BC\",\"BC\",\"BC\",\"BC\",\"BC\",\"BC\",\"BC\",\"BC\",\"BC\",\"BC\",\"BC\",\"BC\",\"BC\",\"BC\",\"BC\",\"BC\",\"BC\",\"BC\",\"BC\",\"BC\",\"BC\",\"BC\",\"BC\"],\"xaxis\":\"x\",\"yaxis\":\"y\",\"type\":\"histogram\"},{\"alignmentgroup\":\"True\",\"bingroup\":\"x\",\"hovertemplate\":\"\\u041a\\u043e\\u043c\\u0431\\u0438\\u043d\\u0438\\u0440\\u043e\\u0432\\u0430\\u043d\\u043d\\u0430\\u044f \\u0433\\u0440\\u0443\\u043f\\u043f\\u0430=%{x}\\u003cbr\\u003ecount=%{y}\\u003cextra\\u003e\\u003c\\u002fextra\\u003e\",\"legendgroup\":\"CA\",\"marker\":{\"color\":\"#FF6692\",\"pattern\":{\"shape\":\"\"}},\"name\":\"CA\",\"offsetgroup\":\"CA\",\"orientation\":\"v\",\"showlegend\":true,\"x\":[\"CA\",\"CA\",\"CA\",\"CA\",\"CA\",\"CA\",\"CA\",\"CA\",\"CA\",\"CA\",\"CA\",\"CA\",\"CA\",\"CA\",\"CA\",\"CA\",\"CA\",\"CA\",\"CA\",\"CA\",\"CA\",\"CA\",\"CA\",\"CA\",\"CA\",\"CA\",\"CA\",\"CA\",\"CA\",\"CA\",\"CA\",\"CA\",\"CA\"],\"xaxis\":\"x\",\"yaxis\":\"y\",\"type\":\"histogram\"},{\"alignmentgroup\":\"True\",\"bingroup\":\"x\",\"hovertemplate\":\"\\u041a\\u043e\\u043c\\u0431\\u0438\\u043d\\u0438\\u0440\\u043e\\u0432\\u0430\\u043d\\u043d\\u0430\\u044f \\u0433\\u0440\\u0443\\u043f\\u043f\\u0430=%{x}\\u003cbr\\u003ecount=%{y}\\u003cextra\\u003e\\u003c\\u002fextra\\u003e\",\"legendgroup\":\"CB\",\"marker\":{\"color\":\"#B6E880\",\"pattern\":{\"shape\":\"\"}},\"name\":\"CB\",\"offsetgroup\":\"CB\",\"orientation\":\"v\",\"showlegend\":true,\"x\":[\"CB\",\"CB\",\"CB\",\"CB\",\"CB\",\"CB\",\"CB\",\"CB\",\"CB\",\"CB\",\"CB\",\"CB\",\"CB\",\"CB\",\"CB\",\"CB\",\"CB\",\"CB\",\"CB\",\"CB\",\"CB\",\"CB\",\"CB\",\"CB\",\"CB\",\"CB\",\"CB\",\"CB\",\"CB\",\"CB\",\"CB\",\"CB\",\"CB\",\"CB\",\"CB\",\"CB\",\"CB\",\"CB\",\"CB\",\"CB\",\"CB\",\"CB\",\"CB\",\"CB\",\"CB\",\"CB\",\"CB\",\"CB\",\"CB\",\"CB\",\"CB\",\"CB\",\"CB\",\"CB\",\"CB\",\"CB\",\"CB\",\"CB\",\"CB\",\"CB\",\"CB\",\"CB\",\"CB\",\"CB\",\"CB\",\"CB\"],\"xaxis\":\"x\",\"yaxis\":\"y\",\"type\":\"histogram\"},{\"alignmentgroup\":\"True\",\"bingroup\":\"x\",\"hovertemplate\":\"\\u041a\\u043e\\u043c\\u0431\\u0438\\u043d\\u0438\\u0440\\u043e\\u0432\\u0430\\u043d\\u043d\\u0430\\u044f \\u0433\\u0440\\u0443\\u043f\\u043f\\u0430=%{x}\\u003cbr\\u003ecount=%{y}\\u003cextra\\u003e\\u003c\\u002fextra\\u003e\",\"legendgroup\":\"CC\",\"marker\":{\"color\":\"#FF97FF\",\"pattern\":{\"shape\":\"\"}},\"name\":\"CC\",\"offsetgroup\":\"CC\",\"orientation\":\"v\",\"showlegend\":true,\"x\":[\"CC\",\"CC\",\"CC\",\"CC\",\"CC\",\"CC\",\"CC\",\"CC\",\"CC\",\"CC\",\"CC\",\"CC\",\"CC\",\"CC\",\"CC\",\"CC\",\"CC\",\"CC\",\"CC\",\"CC\",\"CC\",\"CC\",\"CC\",\"CC\",\"CC\",\"CC\",\"CC\",\"CC\",\"CC\",\"CC\",\"CC\",\"CC\",\"CC\",\"CC\",\"CC\",\"CC\",\"CC\",\"CC\",\"CC\",\"CC\",\"CC\",\"CC\",\"CC\",\"CC\",\"CC\",\"CC\",\"CC\",\"CC\",\"CC\",\"CC\",\"CC\",\"CC\",\"CC\",\"CC\",\"CC\",\"CC\",\"CC\",\"CC\",\"CC\",\"CC\",\"CC\",\"CC\",\"CC\",\"CC\",\"CC\",\"CC\",\"CC\",\"CC\",\"CC\",\"CC\",\"CC\",\"CC\",\"CC\",\"CC\",\"CC\",\"CC\",\"CC\",\"CC\",\"CC\",\"CC\",\"CC\",\"CC\",\"CC\",\"CC\",\"CC\",\"CC\",\"CC\",\"CC\",\"CC\",\"CC\",\"CC\",\"CC\",\"CC\",\"CC\",\"CC\",\"CC\",\"CC\",\"CC\",\"CC\",\"CC\",\"CC\",\"CC\",\"CC\",\"CC\",\"CC\",\"CC\",\"CC\",\"CC\",\"CC\",\"CC\",\"CC\",\"CC\",\"CC\",\"CC\",\"CC\",\"CC\",\"CC\",\"CC\",\"CC\",\"CC\",\"CC\",\"CC\",\"CC\",\"CC\",\"CC\",\"CC\",\"CC\",\"CC\",\"CC\",\"CC\",\"CC\",\"CC\",\"CC\",\"CC\",\"CC\",\"CC\",\"CC\",\"CC\",\"CC\",\"CC\",\"CC\",\"CC\",\"CC\",\"CC\",\"CC\",\"CC\",\"CC\",\"CC\",\"CC\",\"CC\",\"CC\",\"CC\",\"CC\",\"CC\",\"CC\",\"CC\",\"CC\",\"CC\",\"CC\",\"CC\",\"CC\",\"CC\",\"CC\",\"CC\",\"CC\",\"CC\",\"CC\",\"CC\",\"CC\",\"CC\",\"CC\",\"CC\",\"CC\",\"CC\",\"CC\",\"CC\",\"CC\",\"CC\",\"CC\",\"CC\",\"CC\",\"CC\",\"CC\",\"CC\",\"CC\",\"CC\",\"CC\",\"CC\",\"CC\",\"CC\",\"CC\",\"CC\",\"CC\",\"CC\",\"CC\",\"CC\",\"CC\",\"CC\",\"CC\",\"CC\",\"CC\",\"CC\",\"CC\",\"CC\",\"CC\",\"CC\",\"CC\",\"CC\",\"CC\",\"CC\",\"CC\",\"CC\",\"CC\",\"CC\",\"CC\",\"CC\",\"CC\",\"CC\",\"CC\"],\"xaxis\":\"x\",\"yaxis\":\"y\",\"type\":\"histogram\"}],                        {\"template\":{\"data\":{\"histogram2dcontour\":[{\"type\":\"histogram2dcontour\",\"colorbar\":{\"outlinewidth\":0,\"ticks\":\"\"},\"colorscale\":[[0.0,\"#0d0887\"],[0.1111111111111111,\"#46039f\"],[0.2222222222222222,\"#7201a8\"],[0.3333333333333333,\"#9c179e\"],[0.4444444444444444,\"#bd3786\"],[0.5555555555555556,\"#d8576b\"],[0.6666666666666666,\"#ed7953\"],[0.7777777777777778,\"#fb9f3a\"],[0.8888888888888888,\"#fdca26\"],[1.0,\"#f0f921\"]]}],\"choropleth\":[{\"type\":\"choropleth\",\"colorbar\":{\"outlinewidth\":0,\"ticks\":\"\"}}],\"histogram2d\":[{\"type\":\"histogram2d\",\"colorbar\":{\"outlinewidth\":0,\"ticks\":\"\"},\"colorscale\":[[0.0,\"#0d0887\"],[0.1111111111111111,\"#46039f\"],[0.2222222222222222,\"#7201a8\"],[0.3333333333333333,\"#9c179e\"],[0.4444444444444444,\"#bd3786\"],[0.5555555555555556,\"#d8576b\"],[0.6666666666666666,\"#ed7953\"],[0.7777777777777778,\"#fb9f3a\"],[0.8888888888888888,\"#fdca26\"],[1.0,\"#f0f921\"]]}],\"heatmap\":[{\"type\":\"heatmap\",\"colorbar\":{\"outlinewidth\":0,\"ticks\":\"\"},\"colorscale\":[[0.0,\"#0d0887\"],[0.1111111111111111,\"#46039f\"],[0.2222222222222222,\"#7201a8\"],[0.3333333333333333,\"#9c179e\"],[0.4444444444444444,\"#bd3786\"],[0.5555555555555556,\"#d8576b\"],[0.6666666666666666,\"#ed7953\"],[0.7777777777777778,\"#fb9f3a\"],[0.8888888888888888,\"#fdca26\"],[1.0,\"#f0f921\"]]}],\"heatmapgl\":[{\"type\":\"heatmapgl\",\"colorbar\":{\"outlinewidth\":0,\"ticks\":\"\"},\"colorscale\":[[0.0,\"#0d0887\"],[0.1111111111111111,\"#46039f\"],[0.2222222222222222,\"#7201a8\"],[0.3333333333333333,\"#9c179e\"],[0.4444444444444444,\"#bd3786\"],[0.5555555555555556,\"#d8576b\"],[0.6666666666666666,\"#ed7953\"],[0.7777777777777778,\"#fb9f3a\"],[0.8888888888888888,\"#fdca26\"],[1.0,\"#f0f921\"]]}],\"contourcarpet\":[{\"type\":\"contourcarpet\",\"colorbar\":{\"outlinewidth\":0,\"ticks\":\"\"}}],\"contour\":[{\"type\":\"contour\",\"colorbar\":{\"outlinewidth\":0,\"ticks\":\"\"},\"colorscale\":[[0.0,\"#0d0887\"],[0.1111111111111111,\"#46039f\"],[0.2222222222222222,\"#7201a8\"],[0.3333333333333333,\"#9c179e\"],[0.4444444444444444,\"#bd3786\"],[0.5555555555555556,\"#d8576b\"],[0.6666666666666666,\"#ed7953\"],[0.7777777777777778,\"#fb9f3a\"],[0.8888888888888888,\"#fdca26\"],[1.0,\"#f0f921\"]]}],\"surface\":[{\"type\":\"surface\",\"colorbar\":{\"outlinewidth\":0,\"ticks\":\"\"},\"colorscale\":[[0.0,\"#0d0887\"],[0.1111111111111111,\"#46039f\"],[0.2222222222222222,\"#7201a8\"],[0.3333333333333333,\"#9c179e\"],[0.4444444444444444,\"#bd3786\"],[0.5555555555555556,\"#d8576b\"],[0.6666666666666666,\"#ed7953\"],[0.7777777777777778,\"#fb9f3a\"],[0.8888888888888888,\"#fdca26\"],[1.0,\"#f0f921\"]]}],\"mesh3d\":[{\"type\":\"mesh3d\",\"colorbar\":{\"outlinewidth\":0,\"ticks\":\"\"}}],\"scatter\":[{\"fillpattern\":{\"fillmode\":\"overlay\",\"size\":10,\"solidity\":0.2},\"type\":\"scatter\"}],\"parcoords\":[{\"type\":\"parcoords\",\"line\":{\"colorbar\":{\"outlinewidth\":0,\"ticks\":\"\"}}}],\"scatterpolargl\":[{\"type\":\"scatterpolargl\",\"marker\":{\"colorbar\":{\"outlinewidth\":0,\"ticks\":\"\"}}}],\"bar\":[{\"error_x\":{\"color\":\"#2a3f5f\"},\"error_y\":{\"color\":\"#2a3f5f\"},\"marker\":{\"line\":{\"color\":\"#E5ECF6\",\"width\":0.5},\"pattern\":{\"fillmode\":\"overlay\",\"size\":10,\"solidity\":0.2}},\"type\":\"bar\"}],\"scattergeo\":[{\"type\":\"scattergeo\",\"marker\":{\"colorbar\":{\"outlinewidth\":0,\"ticks\":\"\"}}}],\"scatterpolar\":[{\"type\":\"scatterpolar\",\"marker\":{\"colorbar\":{\"outlinewidth\":0,\"ticks\":\"\"}}}],\"histogram\":[{\"marker\":{\"pattern\":{\"fillmode\":\"overlay\",\"size\":10,\"solidity\":0.2}},\"type\":\"histogram\"}],\"scattergl\":[{\"type\":\"scattergl\",\"marker\":{\"colorbar\":{\"outlinewidth\":0,\"ticks\":\"\"}}}],\"scatter3d\":[{\"type\":\"scatter3d\",\"line\":{\"colorbar\":{\"outlinewidth\":0,\"ticks\":\"\"}},\"marker\":{\"colorbar\":{\"outlinewidth\":0,\"ticks\":\"\"}}}],\"scattermapbox\":[{\"type\":\"scattermapbox\",\"marker\":{\"colorbar\":{\"outlinewidth\":0,\"ticks\":\"\"}}}],\"scatterternary\":[{\"type\":\"scatterternary\",\"marker\":{\"colorbar\":{\"outlinewidth\":0,\"ticks\":\"\"}}}],\"scattercarpet\":[{\"type\":\"scattercarpet\",\"marker\":{\"colorbar\":{\"outlinewidth\":0,\"ticks\":\"\"}}}],\"carpet\":[{\"aaxis\":{\"endlinecolor\":\"#2a3f5f\",\"gridcolor\":\"white\",\"linecolor\":\"white\",\"minorgridcolor\":\"white\",\"startlinecolor\":\"#2a3f5f\"},\"baxis\":{\"endlinecolor\":\"#2a3f5f\",\"gridcolor\":\"white\",\"linecolor\":\"white\",\"minorgridcolor\":\"white\",\"startlinecolor\":\"#2a3f5f\"},\"type\":\"carpet\"}],\"table\":[{\"cells\":{\"fill\":{\"color\":\"#EBF0F8\"},\"line\":{\"color\":\"white\"}},\"header\":{\"fill\":{\"color\":\"#C8D4E3\"},\"line\":{\"color\":\"white\"}},\"type\":\"table\"}],\"barpolar\":[{\"marker\":{\"line\":{\"color\":\"#E5ECF6\",\"width\":0.5},\"pattern\":{\"fillmode\":\"overlay\",\"size\":10,\"solidity\":0.2}},\"type\":\"barpolar\"}],\"pie\":[{\"automargin\":true,\"type\":\"pie\"}]},\"layout\":{\"autotypenumbers\":\"strict\",\"colorway\":[\"#636efa\",\"#EF553B\",\"#00cc96\",\"#ab63fa\",\"#FFA15A\",\"#19d3f3\",\"#FF6692\",\"#B6E880\",\"#FF97FF\",\"#FECB52\"],\"font\":{\"color\":\"#2a3f5f\"},\"hovermode\":\"closest\",\"hoverlabel\":{\"align\":\"left\"},\"paper_bgcolor\":\"white\",\"plot_bgcolor\":\"#E5ECF6\",\"polar\":{\"bgcolor\":\"#E5ECF6\",\"angularaxis\":{\"gridcolor\":\"white\",\"linecolor\":\"white\",\"ticks\":\"\"},\"radialaxis\":{\"gridcolor\":\"white\",\"linecolor\":\"white\",\"ticks\":\"\"}},\"ternary\":{\"bgcolor\":\"#E5ECF6\",\"aaxis\":{\"gridcolor\":\"white\",\"linecolor\":\"white\",\"ticks\":\"\"},\"baxis\":{\"gridcolor\":\"white\",\"linecolor\":\"white\",\"ticks\":\"\"},\"caxis\":{\"gridcolor\":\"white\",\"linecolor\":\"white\",\"ticks\":\"\"}},\"coloraxis\":{\"colorbar\":{\"outlinewidth\":0,\"ticks\":\"\"}},\"colorscale\":{\"sequential\":[[0.0,\"#0d0887\"],[0.1111111111111111,\"#46039f\"],[0.2222222222222222,\"#7201a8\"],[0.3333333333333333,\"#9c179e\"],[0.4444444444444444,\"#bd3786\"],[0.5555555555555556,\"#d8576b\"],[0.6666666666666666,\"#ed7953\"],[0.7777777777777778,\"#fb9f3a\"],[0.8888888888888888,\"#fdca26\"],[1.0,\"#f0f921\"]],\"sequentialminus\":[[0.0,\"#0d0887\"],[0.1111111111111111,\"#46039f\"],[0.2222222222222222,\"#7201a8\"],[0.3333333333333333,\"#9c179e\"],[0.4444444444444444,\"#bd3786\"],[0.5555555555555556,\"#d8576b\"],[0.6666666666666666,\"#ed7953\"],[0.7777777777777778,\"#fb9f3a\"],[0.8888888888888888,\"#fdca26\"],[1.0,\"#f0f921\"]],\"diverging\":[[0,\"#8e0152\"],[0.1,\"#c51b7d\"],[0.2,\"#de77ae\"],[0.3,\"#f1b6da\"],[0.4,\"#fde0ef\"],[0.5,\"#f7f7f7\"],[0.6,\"#e6f5d0\"],[0.7,\"#b8e186\"],[0.8,\"#7fbc41\"],[0.9,\"#4d9221\"],[1,\"#276419\"]]},\"xaxis\":{\"gridcolor\":\"white\",\"linecolor\":\"white\",\"ticks\":\"\",\"title\":{\"standoff\":15},\"zerolinecolor\":\"white\",\"automargin\":true,\"zerolinewidth\":2},\"yaxis\":{\"gridcolor\":\"white\",\"linecolor\":\"white\",\"ticks\":\"\",\"title\":{\"standoff\":15},\"zerolinecolor\":\"white\",\"automargin\":true,\"zerolinewidth\":2},\"scene\":{\"xaxis\":{\"backgroundcolor\":\"#E5ECF6\",\"gridcolor\":\"white\",\"linecolor\":\"white\",\"showbackground\":true,\"ticks\":\"\",\"zerolinecolor\":\"white\",\"gridwidth\":2},\"yaxis\":{\"backgroundcolor\":\"#E5ECF6\",\"gridcolor\":\"white\",\"linecolor\":\"white\",\"showbackground\":true,\"ticks\":\"\",\"zerolinecolor\":\"white\",\"gridwidth\":2},\"zaxis\":{\"backgroundcolor\":\"#E5ECF6\",\"gridcolor\":\"white\",\"linecolor\":\"white\",\"showbackground\":true,\"ticks\":\"\",\"zerolinecolor\":\"white\",\"gridwidth\":2}},\"shapedefaults\":{\"line\":{\"color\":\"#2a3f5f\"}},\"annotationdefaults\":{\"arrowcolor\":\"#2a3f5f\",\"arrowhead\":0,\"arrowwidth\":1},\"geo\":{\"bgcolor\":\"white\",\"landcolor\":\"#E5ECF6\",\"subunitcolor\":\"white\",\"showland\":true,\"showlakes\":true,\"lakecolor\":\"white\"},\"title\":{\"x\":0.05},\"mapbox\":{\"style\":\"light\"}}},\"xaxis\":{\"anchor\":\"y\",\"domain\":[0.0,1.0],\"title\":{\"text\":\"\\u041a\\u043e\\u043c\\u0431\\u0438\\u043d\\u0438\\u0440\\u043e\\u0432\\u0430\\u043d\\u043d\\u0430\\u044f \\u0433\\u0440\\u0443\\u043f\\u043f\\u0430\"},\"categoryorder\":\"array\",\"categoryarray\":[\"AA\",\"AB\",\"AC\",\"BA\",\"BB\",\"BC\",\"CA\",\"CB\",\"CC\"]},\"yaxis\":{\"anchor\":\"x\",\"domain\":[0.0,1.0],\"title\":{\"text\":\"\\u0427\\u0438\\u0441\\u043b\\u043e \\u0442\\u043e\\u0432\\u0430\\u0440\\u043e\\u0432\"}},\"legend\":{\"title\":{\"text\":\"\\u041a\\u043e\\u043c\\u0431\\u0438\\u043d\\u0438\\u0440\\u043e\\u0432\\u0430\\u043d\\u043d\\u0430\\u044f \\u0433\\u0440\\u0443\\u043f\\u043f\\u0430\"},\"tracegroupgap\":0},\"title\":{\"text\":\"\\u0420\\u0430\\u0441\\u043f\\u0440\\u0435\\u0434\\u0435\\u043b\\u0435\\u043d\\u0438\\u0435 \\u0442\\u043e\\u0432\\u0430\\u0440\\u043e\\u0432 \\u043f\\u043e \\u043a\\u043e\\u043c\\u0431\\u0438\\u043d\\u0438\\u0440\\u043e\\u0432\\u0430\\u043d\\u043d\\u044b\\u043c \\u0433\\u0440\\u0443\\u043f\\u043f\\u0430\\u043c (ABC \\u043f\\u043e \\u043a\\u043e\\u043b\\u0438\\u0447\\u0435\\u0441\\u0442\\u0432\\u0443 + ABC \\u043f\\u043e \\u0441\\u0443\\u043c\\u043c\\u0435)\"},\"barmode\":\"relative\",\"height\":550,\"showlegend\":false},                        {\"responsive\": true}                    ).then(function(){\n",
       "                            \n",
       "var gd = document.getElementById('009de5df-ef85-4dba-b70c-625ce9a729d4');\n",
       "var x = new MutationObserver(function (mutations, observer) {{\n",
       "        var display = window.getComputedStyle(gd).display;\n",
       "        if (!display || display === 'none') {{\n",
       "            console.log([gd, 'removed!']);\n",
       "            Plotly.purge(gd);\n",
       "            observer.disconnect();\n",
       "        }}\n",
       "}});\n",
       "\n",
       "// Listen for the removal of the full notebook cells\n",
       "var notebookContainer = gd.closest('#notebook-container');\n",
       "if (notebookContainer) {{\n",
       "    x.observe(notebookContainer, {childList: true});\n",
       "}}\n",
       "\n",
       "// Listen for the clearing of the current output cell\n",
       "var outputEl = gd.closest('.output');\n",
       "if (outputEl) {{\n",
       "    x.observe(outputEl, {childList: true});\n",
       "}}\n",
       "\n",
       "                        })                };                });            </script>        </div>"
      ]
     },
     "metadata": {},
     "output_type": "display_data"
    }
   ],
   "source": [
    "order = ['AA', 'AB', 'AC', 'BA', 'BB', 'BC', 'CA', 'CB', 'CC']\n",
    "\n",
    "fig = px.histogram(\n",
    "    result,\n",
    "    x='abc_combo',\n",
    "    color='abc_combo',\n",
    "    category_orders={'abc_combo': order},\n",
    "    title='Распределение товаров по комбинированным группам (ABC по количеству + ABC по сумме)',\n",
    "    labels={'abc_combo': 'Комбинированная группа', 'count': 'Число товаров'},\n",
    "    height=550\n",
    ")\n",
    "fig.update_layout(showlegend=False)\n",
    "fig.update_yaxes(title_text='Число товаров')\n",
    "fig.show()"
   ]
  },
  {
   "cell_type": "markdown",
   "id": "76bcd389-d8fe-4bf3-aaad-2850471d4e7f",
   "metadata": {},
   "source": [
    "## 10. Основные инсайты по результатам анализа"
   ]
  },
  {
   "cell_type": "markdown",
   "id": "9f0598d5-9800-4f95-93a8-a73067e845ff",
   "metadata": {},
   "source": [
    "- **Группа \"A\" по сумме продаж** приносит 80% всей выручки - 28.1% проданных товаров — именно на эти товары стоит делать акцент в управлении ассортиментом и маркетинге.\n",
    "- **Группа \"A\" по количеству** отличается по составу от группы \"A\" по сумме: есть товары, которые продаются часто, но приносят мало денег, и наоборот.\n",
    "- **Высокомаржинальные продукты** (C по количеству, A по сумме) — это нишевые/премиальные товары, которые редко покупают, но приносят значительную выручку, необходимо регулярно проверять остатки, оптимизировать логистику для предотвращения дефицита.\n",
    "- **Комбинированный анализ** (AA, AB, BA и т.д.) позволяет выявить товары, которые одновременно важны и по объёму, и по выручке, а также \"скрытые резервы\" — например, товары из группы AC (много продаются, но приносят мало денег).\n",
    "- **Топ-10 товаров** по сумме продаж — это ключевые позиции для бизнеса, их стоит держать в наличии и поддерживать высокий уровень сервиса.\n",
    "- **Визуализация пересечений** помогает быстро понять структуру ассортимента и принять решения по оптимизации запасов и продвижению.\n",
    "\n",
    "---\n",
    "\n",
    "**Рекомендации:**\n",
    "- Сфокусироваться на товарах группы \"A\" по сумме для увеличения прибыли.\n",
    "- Проанализировать товары из группы \"B\" — возможно, их можно перевести в \"A\" с помощью маркетинга.\n",
    "- Рассмотреть возможность сокращения ассортимента группы \"C\" для оптимизации складских запасов.\n",
    "\n",
    "---\n",
    "\n",
    "*Спасибо за внимание!*"
   ]
  },
  {
   "cell_type": "markdown",
   "id": "5069bacb-da1c-4ea1-b865-013e0415bf8f",
   "metadata": {},
   "source": [
    "#### Контакты"
   ]
  },
  {
   "cell_type": "markdown",
   "id": "703f2074-0544-4625-838c-3638f9425ca6",
   "metadata": {},
   "source": [
    "**Автор:** *Александр Пресняков*  \n",
    "**Telegram:** https://t.me/presnyakov85  \n",
    "**GitHub:** https://github.com/DataDashInsight/-ABC--Pandas"
   ]
  }
 ],
 "metadata": {
  "kernelspec": {
   "display_name": "Python 3 (ipykernel)",
   "language": "python",
   "name": "python3"
  },
  "language_info": {
   "codemirror_mode": {
    "name": "ipython",
    "version": 3
   },
   "file_extension": ".py",
   "mimetype": "text/x-python",
   "name": "python",
   "nbconvert_exporter": "python",
   "pygments_lexer": "ipython3",
   "version": "3.11.5"
  }
 },
 "nbformat": 4,
 "nbformat_minor": 5
}
